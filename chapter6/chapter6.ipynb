{
 "cells": [
  {
   "cell_type": "markdown",
   "id": "8994b657",
   "metadata": {},
   "source": [
    "# 第2部 因果探索\n",
    "## 第6章 LiNGAMの実装"
   ]
  },
  {
   "cell_type": "markdown",
   "id": "8083cf81",
   "metadata": {},
   "source": [
    "## 6-1 LiNGAM(Linear Non-Gaussian Acyclic Model)とは"
   ]
  },
  {
   "cell_type": "markdown",
   "id": "99cd3e54",
   "metadata": {},
   "source": [
    "#### ・因果探索 : 多くの項目をアンケート調査などで収集した後に、調査項目の間にある因果関係(ネットワークの繋がり方)を求めること ."
   ]
  },
  {
   "cell_type": "markdown",
   "id": "0d90b4d6",
   "metadata": {},
   "source": [
    "#### 例として、「生活習慣と疾病の大規模調査」、「企業における働き方改革に伴う社員の意識調査」などが挙げられる ."
   ]
  },
  {
   "cell_type": "markdown",
   "id": "36e23cda",
   "metadata": {},
   "source": [
    "#### ・本章では因果探索の代表的手法であるLiNGAM(Linear Non-Gaussian Acyclic Model)を解説、実装する ."
   ]
  },
  {
   "cell_type": "markdown",
   "id": "220ee1cc",
   "metadata": {},
   "source": [
    "## LiNGAMの前提"
   ]
  },
  {
   "cell_type": "markdown",
   "id": "783be173",
   "metadata": {},
   "source": [
    "#### ・LiNGAMは構造方程式モデルを前提において、因果探索を実施する ."
   ]
  },
  {
   "cell_type": "markdown",
   "id": "f681b28f",
   "metadata": {},
   "source": [
    "#### ・LiNGAM : 因果構造がDAG(有向非巡回グラフ)であり、誤差項が非ガウス分布である線形モデルのこと ."
   ]
  },
  {
   "cell_type": "markdown",
   "id": "24776b42",
   "metadata": {},
   "source": [
    "#### ・例えば、変数$x$,$y$,$z$の因果関係を構造方程式モデルで記載すると、"
   ]
  },
  {
   "cell_type": "markdown",
   "id": "44f7df97",
   "metadata": {},
   "source": [
    "$$\n",
    "\\begin{aligned}\n",
    "x &= f_x(y, z, e_x) \\\\\n",
    "y &= f_y(x, z, e_y) \\\\\n",
    "z &= f_z(x, y, e_z)\n",
    "\\end{aligned}\n",
    "$$"
   ]
  },
  {
   "cell_type": "markdown",
   "id": "477aa1a4",
   "metadata": {},
   "source": [
    "#### となる .　LiNGAMでは、"
   ]
  },
  {
   "cell_type": "markdown",
   "id": "711a73ed",
   "metadata": {},
   "source": [
    "$$\n",
    "\\begin{aligned}\n",
    "x_1 &= b_{12}x_2 + b_{13}x_3 + e_1 \\\\\n",
    "x_2 &= b_{21}x_1 + b_{23}x_3 + e_2 \\\\\n",
    "x_3 &= b_{31}x_1 + b_{32}x_2 + e_3\n",
    "\\end{aligned}\n",
    "$$"
   ]
  },
  {
   "cell_type": "markdown",
   "id": "e0548ef8",
   "metadata": {},
   "source": [
    "#### のように、線形な構造方程式を仮定する .　ここで、変数$x$,$y$,$z$を、変数$x_1$,$x_2$,$x_3$に書き直している .　観測したデータ$N$個をまとめて表すために、各変数$x_1$,$x_2$,$x_3$がベクトルで記載されている ."
   ]
  },
  {
   "cell_type": "markdown",
   "id": "74519883",
   "metadata": {},
   "source": [
    "#### この式を、行列を使って書き直すと、"
   ]
  },
  {
   "cell_type": "markdown",
   "id": "6e756e1d",
   "metadata": {},
   "source": [
    "$$\n",
    "\\begin{pmatrix}\n",
    "x_1 \\\\\n",
    "x_2 \\\\\n",
    "x_3\n",
    "\\end{pmatrix}\n",
    "=\n",
    "\\begin{pmatrix}\n",
    "0 & b_{12} & b_{13} \\\\\n",
    "b_{21} & 0 & b_{23} \\\\\n",
    "b_{31} & b_{32} & 0\n",
    "\\end{pmatrix}\n",
    "\\begin{pmatrix}\n",
    "x_1 \\\\\n",
    "x_2 \\\\\n",
    "x_3\n",
    "\\end{pmatrix}\n",
    "+\n",
    "\\begin{pmatrix}\n",
    "e_1 \\\\\n",
    "e_2 \\\\\n",
    "e_3\n",
    "\\end{pmatrix}\n",
    "$$"
   ]
  },
  {
   "cell_type": "markdown",
   "id": "76eacc2a",
   "metadata": {},
   "source": [
    "#### となる .　各ベクトルと行列をそれぞれ$\\mathbf{x}$,$B$,$\\mathbf{e}$で表すと、次のようになる ."
   ]
  },
  {
   "cell_type": "markdown",
   "id": "4b588317",
   "metadata": {},
   "source": [
    "$$\n",
    "\\mathbf{x} = B\\mathbf{x} + \\mathbf{e}\n",
    "$$"
   ]
  },
  {
   "cell_type": "markdown",
   "id": "f61dd735",
   "metadata": {},
   "source": [
    "#### ・LiNGAMによる因果探索とは、観測されているデータ$\\mathbf{x} = (x_1, x_2, x_3)^{\\mathrm{T}}$から$b_{12}$や$b_{13}$の値を推定し、行列$B$を求め、線形な構造方程式を求めることになる ."
   ]
  },
  {
   "cell_type": "markdown",
   "id": "b8ac8efe",
   "metadata": {},
   "source": [
    "## 非循環性(Acyclic)による行列$B$の制限"
   ]
  },
  {
   "cell_type": "markdown",
   "id": "40a575a6",
   "metadata": {},
   "source": [
    "#### ・LiNGAMは非循環を前提とするので、行列$B$には制限がかかる ."
   ]
  },
  {
   "cell_type": "markdown",
   "id": "9355df5d",
   "metadata": {},
   "source": [
    "#### 前出の数式では、自分への循環がないので、対角成分は0となる ."
   ]
  },
  {
   "cell_type": "markdown",
   "id": "7e4b8e1b",
   "metadata": {},
   "source": [
    "#### ・さらに、変数が循環することがないので、因果の上流にある変数から順番を記載するように変数$x_1$,$x_2$,$x_3$の順番を並び替えれば、行列$B$は下三角行列になる ."
   ]
  },
  {
   "cell_type": "markdown",
   "id": "f6ad2a64",
   "metadata": {},
   "source": [
    "#### 例えば、変数$x_1$,$x_2$,$x_3$を因果の上流から並び変えると、変数$x_2$,$x_1$,$x_3$となる場合、行列で表した式は、"
   ]
  },
  {
   "cell_type": "markdown",
   "id": "7daaed6e",
   "metadata": {},
   "source": [
    "$$\n",
    "\\begin{pmatrix}\n",
    "x_2 \\\\\n",
    "x_1 \\\\\n",
    "x_3\n",
    "\\end{pmatrix}\n",
    "=\n",
    "\\begin{pmatrix}\n",
    "0 & 0 & 0 \\\\\n",
    "b_{12} & 0 & 0 \\\\\n",
    "b_{31} & b_{32} & 0\n",
    "\\end{pmatrix}\n",
    "\\begin{pmatrix}\n",
    "x_2 \\\\\n",
    "x_1 \\\\\n",
    "x_3\n",
    "\\end{pmatrix}\n",
    "+\n",
    "\\begin{pmatrix}\n",
    "e_2 \\\\\n",
    "e_1 \\\\\n",
    "e_3\n",
    "\\end{pmatrix}\n",
    "$$"
   ]
  },
  {
   "cell_type": "markdown",
   "id": "5c41860c",
   "metadata": {},
   "source": [
    "#### となる .　この行列から言えることは、以下の2つである ."
   ]
  },
  {
   "cell_type": "markdown",
   "id": "432a8fcb",
   "metadata": {},
   "source": [
    "#### ・最上流の変数$x_2$には、下流の変数$x_1$,$x_3$からは影響がない .\n",
    "#### ・2番目の変数$x_1$の場合は、その上流にある変数$x_2$からは影響があるが、下流にある変数$x_3$からは因果がなく、影響がない ."
   ]
  },
  {
   "cell_type": "markdown",
   "id": "2411981c",
   "metadata": {},
   "source": [
    "#### 因果の上流から並び替えた状態で変数$x_1$,$x_2$,$x_3$を割り当て直して記載する .　つまり、"
   ]
  },
  {
   "cell_type": "markdown",
   "id": "4281950e",
   "metadata": {},
   "source": [
    "$$\n",
    "\\begin{pmatrix}\n",
    "x_1 \\\\\n",
    "x_2 \\\\\n",
    "x_3\n",
    "\\end{pmatrix}\n",
    "=\n",
    "\\begin{pmatrix}\n",
    "0 & 0 & 0 \\\\\n",
    "b_{21} & 0 & 0 \\\\\n",
    "b_{31} & b_{32} & 0\n",
    "\\end{pmatrix}\n",
    "\\begin{pmatrix}\n",
    "x_1 \\\\\n",
    "x_2 \\\\\n",
    "x_3\n",
    "\\end{pmatrix}\n",
    "+\n",
    "\\begin{pmatrix}\n",
    "e_1 \\\\\n",
    "e_2 \\\\\n",
    "e_3\n",
    "\\end{pmatrix}\n",
    "$$"
   ]
  },
  {
   "cell_type": "markdown",
   "id": "cb1243b7",
   "metadata": {},
   "source": [
    "#### となる .　これは、$\\mathbf{x} = B\\mathbf{x} + \\mathbf{e}$と表され、行列$B$は下三角行列です ."
   ]
  },
  {
   "cell_type": "markdown",
   "id": "063aac16",
   "metadata": {},
   "source": [
    "#### ・対角成分より上側の項が0でない場合、すなわち$b_{ij}≠0$(ただし、$i<j$)のとき、変数$x_j$から変数$x_i$への因果の矢印があることになる ."
   ]
  },
  {
   "cell_type": "markdown",
   "id": "5d5aaa8f",
   "metadata": {},
   "source": [
    "#### 行列$B$の下側は成分を持つので$b_{ji}≠0$である .　よって、対角成分より上側の項が0でない場合、$b_{ij}≠0$であり$b_{ji}≠0$でもあるので、変数$x_i$と変数$x_j$で双方向に循環が生まれる($x_j$→$x_i$→$x_j$) ."
   ]
  },
  {
   "cell_type": "markdown",
   "id": "c04dd775",
   "metadata": {},
   "source": [
    "#### これでは非循環の前提が成り立たない .　非循環な構造方程式モデルでは変数$x_1$,$x_2$,$x_3$の順番を並び替えることで、行列$B$は下三角行列になる ."
   ]
  },
  {
   "cell_type": "markdown",
   "id": "4faad637",
   "metadata": {},
   "source": [
    "## 行列$B$の求め方"
   ]
  },
  {
   "cell_type": "markdown",
   "id": "66a8131e",
   "metadata": {},
   "source": [
    "#### ・LiNGAMでは行列$B$が求まれば、構造方程式モデル、そして因果ダイアグラムが明らかになる .　構造方程式モデルを変形させて、"
   ]
  },
  {
   "cell_type": "markdown",
   "id": "bdbbc89d",
   "metadata": {},
   "source": [
    "$$\n",
    "\\mathbf{x} = B\\mathbf{x} + \\mathbf{e} \\\\\n",
    "(I - B)\\mathbf{x}= \\mathbf{e} \\\\\n",
    "\\mathbf{x} = (I - B)^{-1} \\mathbf{e}\n",
    "$$"
   ]
  },
  {
   "cell_type": "markdown",
   "id": "8d388541",
   "metadata": {},
   "source": [
    "#### ここで、$I$は単位行列を示している .　$(I - B)^{-1}$を$A$と記載すると、$\\mathbf{x}=A\\mathbf{e}$と変形でき、この$A$を求めればよいことが分かる ."
   ]
  },
  {
   "cell_type": "markdown",
   "id": "9e3593db",
   "metadata": {},
   "source": [
    "## 6-2 独立成分分析(ICA : Independent Component Analysis)"
   ]
  },
  {
   "cell_type": "markdown",
   "id": "3a99c57f",
   "metadata": {},
   "source": [
    "#### ・機械学習の教師なし学習手法に、データの次元圧縮で使用する主成分分析(PCA : Principal Component Analysis)と呼ばれる手法がある .\n",
    "####  これはデータ$\\mathbf{x}$を、各要素間で\"相関が0になるように変換した\"、$\\mathbf{x}_{pca}$という新たな変数に線形変換する操作のこと ."
   ]
  },
  {
   "cell_type": "markdown",
   "id": "bce7d109",
   "metadata": {},
   "source": [
    "#### ・独立成分分析は主成分分析をさらに発展させた手法であり、相関が0になった$\\mathbf{x}_{pca}$をさらに線形変換して、要素間の関係を独立にする操作である ."
   ]
  },
  {
   "cell_type": "markdown",
   "id": "c09ad3c6",
   "metadata": {},
   "source": [
    "#### ・データ$\\mathbf{x}$がガウス分布に従う場合に独立と無相関は同じ状況を指す .　一方で対象データが非ガウス分布に従う場合、主成分分析で無相関になるが、独立にはならない(独立→無相関、無相関$\\not\\rightarrow$独立) ."
   ]
  },
  {
   "cell_type": "markdown",
   "id": "9210bb3c",
   "metadata": {},
   "source": [
    "#### ・独立成分分析は、主成分分析の結果$\\mathbf{x}_{pca}$に対し、データが非ガウスであるという特徴を使って線形変換を実施し、$\\mathbf{x}_{pca}$の要素間が独立となる新たな変数$\\mathbf{x}_{ica}$を作成する .　(具体的な手法はここでは省略し、個人の学習とする .)"
   ]
  },
  {
   "cell_type": "markdown",
   "id": "d30e9765",
   "metadata": {},
   "source": [
    "#### 独立成分分析は機械学習ライブラリscikit-learnに搭載されているので、簡単に使用できる ."
   ]
  },
  {
   "cell_type": "markdown",
   "id": "be0dab3d",
   "metadata": {},
   "source": [
    "#### ・本書で押さえておきたい内容は、独立成分分析を利用することで、データ$\\mathbf{x}$を"
   ]
  },
  {
   "cell_type": "markdown",
   "id": "41c73517",
   "metadata": {},
   "source": [
    "$$\n",
    "\\mathbf{x} = A_{ica}x_{ica}\n",
    "$$"
   ]
  },
  {
   "cell_type": "markdown",
   "id": "4e3a6941",
   "metadata": {},
   "source": [
    "#### と、行列$A_{ica}$と$\\mathbf{x}_{ica}$に分解できるということである .　ここで、$\\mathbf{x}_{ica}$を$\\mathbf{e}_{ica}$と記載し直すと、"
   ]
  },
  {
   "cell_type": "markdown",
   "id": "1091aa79",
   "metadata": {},
   "source": [
    "$$\n",
    "\\mathbf{x} = A_{ica}\\mathbf{e}_{ica}\n",
    "$$"
   ]
  },
  {
   "cell_type": "markdown",
   "id": "56183820",
   "metadata": {},
   "source": [
    "#### である .　独立成分分析の対象が非ガウスという仮定は、LiNGAMで想定していた前提「ノイズがnon-Gaussian」とも一致する .　前節の最後で紹介した$(I - B)^{-1}=A$としたときのLiNGAMの数式は、"
   ]
  },
  {
   "cell_type": "markdown",
   "id": "e3df604a",
   "metadata": {},
   "source": [
    "$$\n",
    "\\mathbf{x}=A\\mathbf{e}\n",
    "$$"
   ]
  },
  {
   "cell_type": "markdown",
   "id": "030cd64a",
   "metadata": {},
   "source": [
    "#### であり、$\\mathbf{e}$が非ガウスなノイズであった .　独立成分分析による変数変換と、LiNGAMで求めたい式の形が一致していることがわかる ."
   ]
  },
  {
   "cell_type": "markdown",
   "id": "9f146188",
   "metadata": {},
   "source": [
    "#### よって、LiNGAMでは観測したデータ$x$に対して、$\\mathbf{x}=A\\mathbf{e}$の独立成分分析を実施することで構造方程式を求めることができる ."
   ]
  },
  {
   "cell_type": "markdown",
   "id": "480838bc",
   "metadata": {},
   "source": [
    "## 独立成分分析とLiNGAMをつなぐ"
   ]
  },
  {
   "cell_type": "markdown",
   "id": "4018bff8",
   "metadata": {},
   "source": [
    "#### ・独立成分分析によりデータ$\\mathbf{x}$を"
   ]
  },
  {
   "cell_type": "markdown",
   "id": "219d3749",
   "metadata": {},
   "source": [
    "$$\n",
    "\\mathbf{x} = A_{ica}\\mathbf{e}_{ica}\n",
    "$$"
   ]
  },
  {
   "cell_type": "markdown",
   "id": "4c91870c",
   "metadata": {},
   "source": [
    "#### と分解するような行列$A_{ica}$と$\\mathbf{e}_{ica}$が求まる ."
   ]
  },
  {
   "cell_type": "markdown",
   "id": "109bdca6",
   "metadata": {},
   "source": [
    "#### ・しかし、この行列$A_{ica}$は、LiNGAMで求めたい構造方程式モデル"
   ]
  },
  {
   "cell_type": "markdown",
   "id": "8bdfcac5",
   "metadata": {},
   "source": [
    "$$\n",
    "\\mathbf{x} = B\\mathbf{x} + \\mathbf{e}\n",
    "$$"
   ]
  },
  {
   "cell_type": "markdown",
   "id": "7debd200",
   "metadata": {},
   "source": [
    "#### において、$(I - B)^{-1}=A$としたときの"
   ]
  },
  {
   "cell_type": "markdown",
   "id": "6b5d5f40",
   "metadata": {},
   "source": [
    "$$\n",
    "\\mathbf{x}=A\\mathbf{e}\n",
    "$$"
   ]
  },
  {
   "cell_type": "markdown",
   "id": "ccf6a7ca",
   "metadata": {},
   "source": [
    "#### の$A$とは必ずしも一致しない ."
   ]
  },
  {
   "cell_type": "markdown",
   "id": "a988a3a1",
   "metadata": {},
   "source": [
    "#### ・独立成分分析における行列$A_{ica}$と$e_{ica}$の特徴について、$A_{ica}$には\"倍数\"と\"行交換\"の自由度がある .　すなわち、$A_{ica}$を適当にD倍した場合、$e_{ica}$が$1/D$になれば良いので、$A_{ica}$の各要素において大きさが不定である ."
   ]
  },
  {
   "cell_type": "markdown",
   "id": "904e2de5",
   "metadata": {},
   "source": [
    "#### ・また、$e_{ica}$が$e_1$,$e_2$,$e_3$と並んでいる場合でも、順番を適当に変えて、$e_3$,$e_1$,$e_2$と並んでいる場合でも$A_{ica}$の要素の配置を変えれば元のデータ$\\mathbf{x}$が復元できるので、行交換に対しても不定である ."
   ]
  },
  {
   "cell_type": "markdown",
   "id": "48657e8d",
   "metadata": {},
   "source": [
    "#### ・次に、LiNGAMにおける行列$A$の特徴を整理する .　LiNGAMではデータ$x$の要素の順番を因果の上流から並べて記載し、非巡回である ."
   ]
  },
  {
   "cell_type": "markdown",
   "id": "24ba75fc",
   "metadata": {},
   "source": [
    "#### これらの前提から係数行列$B$は下三角行列となった ."
   ]
  },
  {
   "cell_type": "markdown",
   "id": "02c757fb",
   "metadata": {},
   "source": [
    "#### そのため、LiNGAMにおいて$A=(I - B)^{-1}$の逆行列である$A^{-1}=(I-B)$を考えたときには、係数行列$B$が下三角行列であることから、$A^{-1}$は対角成分が1、そして、対角成分より上側はすべて要素が0、という特徴を持つ ."
   ]
  },
  {
   "cell_type": "markdown",
   "id": "4e3bc9e7",
   "metadata": {},
   "source": [
    "#### ・ゆえに、$A^{-1}_{ica}$は対角成分が1、そして、対角成分より上側はすべて要素が0という特徴となるように、\"行の大きさを調整\"、そして\"行の順番を交換\"してあげる必要がある .\n",
    "#### これらの操作を行うことで、LiNGAMで因果関係を求めるための係数行列$B$を求めることができる ."
   ]
  },
  {
   "cell_type": "markdown",
   "id": "e53b71fd",
   "metadata": {},
   "source": [
    "## 6-3 LiNGAMによる因果探索の実装"
   ]
  },
  {
   "cell_type": "markdown",
   "id": "0c8f50a3",
   "metadata": {},
   "source": [
    "#### ・疑似データを作成して、LiNGAMによる因果探索を実際に実装する ."
   ]
  },
  {
   "cell_type": "markdown",
   "id": "e9396b5d",
   "metadata": {},
   "source": [
    "## 因果探索に使用する疑似データの構造"
   ]
  },
  {
   "cell_type": "markdown",
   "id": "1892f00a",
   "metadata": {},
   "source": [
    "#### ・因果探索に使用する疑似データを作る .　疑似データを、構造方程式モデルで記載すると、"
   ]
  },
  {
   "cell_type": "markdown",
   "id": "ef6fdebf",
   "metadata": {},
   "source": [
    "$$\n",
    "x_1 = 3 \\times x_2 + e_{x_1} \\\\\n",
    "x_2 = e_{x_2} \\\\\n",
    "x_3 = 2 \\times x_1 + 4 \\times x_2 + e_{x_3}\n",
    "$$"
   ]
  },
  {
   "cell_type": "markdown",
   "id": "b4a45235",
   "metadata": {},
   "source": [
    "#### とする .　因果ダイアグラムで記載すると以下の図6.3.1となる(図の変数$Y_3$は誤りで、正しくは$x_3$) ."
   ]
  },
  {
   "cell_type": "markdown",
   "id": "400c5300",
   "metadata": {},
   "source": [
    "![alt text](pict1.png)"
   ]
  },
  {
   "cell_type": "markdown",
   "id": "25a1cca7",
   "metadata": {},
   "source": [
    "#### まず、これらのデータを生成する ."
   ]
  },
  {
   "cell_type": "markdown",
   "id": "0cb4346f",
   "metadata": {},
   "source": [
    "### プログラム実行前の設定など"
   ]
  },
  {
   "cell_type": "code",
   "execution_count": 16,
   "id": "fc2c3317",
   "metadata": {},
   "outputs": [],
   "source": [
    "# 乱数のシードを固定\n",
    "import random\n",
    "import numpy as np\n",
    "\n",
    "random.seed(1234)\n",
    "np.random.seed(1234)"
   ]
  },
  {
   "cell_type": "code",
   "execution_count": 17,
   "id": "a3a7fcb6",
   "metadata": {},
   "outputs": [],
   "source": [
    "# 使用するパッケージ（ライブラリと関数）を定義\n",
    "import pandas as pd"
   ]
  },
  {
   "cell_type": "markdown",
   "id": "d1f2711a",
   "metadata": {},
   "source": [
    "### データの生成"
   ]
  },
  {
   "cell_type": "code",
   "execution_count": 18,
   "id": "0e226508",
   "metadata": {},
   "outputs": [
    {
     "data": {
      "text/html": [
       "<div>\n",
       "<style scoped>\n",
       "    .dataframe tbody tr th:only-of-type {\n",
       "        vertical-align: middle;\n",
       "    }\n",
       "\n",
       "    .dataframe tbody tr th {\n",
       "        vertical-align: top;\n",
       "    }\n",
       "\n",
       "    .dataframe thead th {\n",
       "        text-align: right;\n",
       "    }\n",
       "</style>\n",
       "<table border=\"1\" class=\"dataframe\">\n",
       "  <thead>\n",
       "    <tr style=\"text-align: right;\">\n",
       "      <th></th>\n",
       "      <th>x1</th>\n",
       "      <th>x2</th>\n",
       "      <th>x3</th>\n",
       "    </tr>\n",
       "  </thead>\n",
       "  <tbody>\n",
       "    <tr>\n",
       "      <th>0</th>\n",
       "      <td>2.257272</td>\n",
       "      <td>0.958078</td>\n",
       "      <td>8.776842</td>\n",
       "    </tr>\n",
       "    <tr>\n",
       "      <th>1</th>\n",
       "      <td>2.531611</td>\n",
       "      <td>0.762464</td>\n",
       "      <td>8.561263</td>\n",
       "    </tr>\n",
       "    <tr>\n",
       "      <th>2</th>\n",
       "      <td>0.641547</td>\n",
       "      <td>0.255364</td>\n",
       "      <td>1.341902</td>\n",
       "    </tr>\n",
       "    <tr>\n",
       "      <th>3</th>\n",
       "      <td>3.153636</td>\n",
       "      <td>0.860973</td>\n",
       "      <td>9.322791</td>\n",
       "    </tr>\n",
       "    <tr>\n",
       "      <th>4</th>\n",
       "      <td>1.908691</td>\n",
       "      <td>0.449580</td>\n",
       "      <td>5.776675</td>\n",
       "    </tr>\n",
       "  </tbody>\n",
       "</table>\n",
       "</div>"
      ],
      "text/plain": [
       "         x1        x2        x3\n",
       "0  2.257272  0.958078  8.776842\n",
       "1  2.531611  0.762464  8.561263\n",
       "2  0.641547  0.255364  1.341902\n",
       "3  3.153636  0.860973  9.322791\n",
       "4  1.908691  0.449580  5.776675"
      ]
     },
     "execution_count": 18,
     "metadata": {},
     "output_type": "execute_result"
    }
   ],
   "source": [
    "# データ数\n",
    "num_data = 200\n",
    "\n",
    "# 非ガウスのノイズ\n",
    "ex1 = 2*(np.random.rand(num_data)-0.5)  # -1.0から1.0\n",
    "ex2 = 2*(np.random.rand(num_data)-0.5)\n",
    "ex3 = 2*(np.random.rand(num_data)-0.5)\n",
    "\n",
    "# データ生成\n",
    "x2 = ex2\n",
    "x1 = 3*x2 + ex1\n",
    "x3 = 2*x1 + 4*x2 + ex3\n",
    "\n",
    "# 表にまとめる\n",
    "df = pd.DataFrame({\"x1\": x1, \"x2\": x2, \"x3\": x3})\n",
    "df.head()"
   ]
  },
  {
   "cell_type": "markdown",
   "id": "674319ca",
   "metadata": {},
   "source": [
    "#### ・それではLiNGAMを実施する .　最初は独立成分分析を行い、$A^{-1}_{ica}$を求める ."
   ]
  },
  {
   "cell_type": "markdown",
   "id": "65a66b6f",
   "metadata": {},
   "source": [
    "### 独立成分分析を実施"
   ]
  },
  {
   "cell_type": "code",
   "execution_count": 19,
   "id": "e1ea2a50",
   "metadata": {},
   "outputs": [
    {
     "name": "stdout",
     "output_type": "stream",
     "text": [
      "[[-0.30765228  1.85303772  0.0776654 ]\n",
      " [-1.60473574  5.7060046  -0.07796094]\n",
      " [-3.2797495  -6.56171813  1.63292454]]\n"
     ]
    }
   ],
   "source": [
    "# 独立成分分析はscikit-learnの関数を使用します\n",
    "from sklearn.decomposition import FastICA\n",
    "# https://scikit-learn.org/stable/modules/generated/sklearn.decomposition.FastICA.html\n",
    "\n",
    "ica = FastICA(random_state=1234, max_iter=1000).fit(df)\n",
    "\n",
    "# ICAで求めた行列A\n",
    "A_ica = ica.mixing_\n",
    "\n",
    "# 行列Aの逆行列を求める\n",
    "A_ica_inv = np.linalg.pinv(A_ica)\n",
    "print(A_ica_inv)"
   ]
  },
  {
   "cell_type": "markdown",
   "id": "ae393d5b",
   "metadata": {},
   "source": [
    "#### ・次に、$A^{-1}_{ica}$に対して、①「行の順番を変換」、②「行の大きさを調整」し、対角成分が1、そして、対角成分より上側はすべて要素が0となるようにする ."
   ]
  },
  {
   "cell_type": "markdown",
   "id": "191d50e2",
   "metadata": {},
   "source": [
    "### munkresのインポート"
   ]
  },
  {
   "cell_type": "code",
   "execution_count": 20,
   "id": "27379b58",
   "metadata": {},
   "outputs": [
    {
     "name": "stdout",
     "output_type": "stream",
     "text": [
      "Requirement already satisfied: munkres in /home/taihei/因果分析ゼミ/myenv/lib/python3.13/site-packages (1.1.4)\n"
     ]
    }
   ],
   "source": [
    "!pip install munkres\n",
    "from munkres import Munkres\n",
    "from copy import deepcopy"
   ]
  },
  {
   "cell_type": "markdown",
   "id": "e863bd52",
   "metadata": {},
   "source": [
    "#### ・次に、$A^{-1}_{ica}$に対して、①「行の順番を変更」を行う ."
   ]
  },
  {
   "cell_type": "markdown",
   "id": "32bf0745",
   "metadata": {},
   "source": [
    "#### 行の順番を並び替える基準について、求めたい$A^{-1}_{ica}$は対角成分が1になるものであった .　すなわち対角成分が非ゼロである .　よって、\"$A^{-1}_{ica}$の対角成分の絶対値をできるだけ大きくしたい\"ということになる ."
   ]
  },
  {
   "cell_type": "markdown",
   "id": "b75929a8",
   "metadata": {},
   "source": [
    "#### \"$A^{-1}_{ica}$の対角成分の絶対値をできるだけ大きくしたい\"という行為は、\"$A^{-1}_{ica}$の絶対値行列を逆数にした行列において、対角成分の和が最小になるようにしたい\"という行為になる ."
   ]
  },
  {
   "cell_type": "code",
   "execution_count": 21,
   "id": "b7b0ccf0",
   "metadata": {},
   "outputs": [
    {
     "name": "stdout",
     "output_type": "stream",
     "text": [
      "[[-1.60473574  5.7060046  -0.07796094]\n",
      " [-0.30765228  1.85303772  0.0776654 ]\n",
      " [-3.2797495  -6.56171813  1.63292454]]\n"
     ]
    }
   ],
   "source": [
    "# 実装の参考\n",
    "# [5] Qiita：LiNGAMモデルの推定方法について\n",
    "# https://qiita.com/m__k/items/bd87c063a7496897ba7c\n",
    "\n",
    "# ①「行の順番を変換」→対角成分の絶対値を最大にする\n",
    "# （元のA^-1の対角成分は必ず0ではないので）\n",
    "\n",
    "# 絶対値の逆数にして対角成分の和を最小にする問題に置き換える\n",
    "A_ica_inv_small = 1 / np.abs(A_ica_inv)\n",
    "\n",
    "# 対角成分の和を最小にする行の入れ替え順を求める\n",
    "m = Munkres()  # ハンガリアン法\n",
    "ixs = np.vstack(m.compute(deepcopy(A_ica_inv_small)))\n",
    "\n",
    "# 求めた順番で変換\n",
    "ixs = ixs[np.argsort(ixs[:, 0]), :]\n",
    "ixs_perm = ixs[:, 1]\n",
    "A_ica_inv_perm = np.zeros_like(A_ica_inv)\n",
    "A_ica_inv_perm[ixs_perm] = A_ica_inv\n",
    "print(A_ica_inv_perm)"
   ]
  },
  {
   "cell_type": "code",
   "execution_count": 22,
   "id": "05df2d31",
   "metadata": {},
   "outputs": [
    {
     "name": "stdout",
     "output_type": "stream",
     "text": [
      "[[0 1]\n",
      " [1 0]\n",
      " [2 2]]\n"
     ]
    }
   ],
   "source": [
    "# 並び替わった順番\n",
    "print(ixs)"
   ]
  },
  {
   "cell_type": "markdown",
   "id": "e877bf01",
   "metadata": {},
   "source": [
    "#### ・この出力は、元のindex0(1行目)はindex1(2行目)になり、2行目は1行目になり、3行目は変化なしであるということを示している ."
   ]
  },
  {
   "cell_type": "markdown",
   "id": "3b9b2898",
   "metadata": {},
   "source": [
    "#### ・次に、$A^{-1}_{ica}$の各行の大きさを調整する .　ここでは対角成分が1になるように各行を割り算する .\n"
   ]
  },
  {
   "cell_type": "code",
   "execution_count": 24,
   "id": "28c970df",
   "metadata": {},
   "outputs": [
    {
     "name": "stdout",
     "output_type": "stream",
     "text": [
      "[[ 1.         -3.55572849  0.04858179]\n",
      " [-0.16602591  1.          0.04191247]\n",
      " [-2.0085126  -4.01838418  1.        ]]\n"
     ]
    }
   ],
   "source": [
    "# ②「行の大きさを調整」\n",
    "D = np.diag(A_ica_inv_perm)[:, np.newaxis]  # D倍されているDを求める\n",
    "A_ica_inv_perm_D = A_ica_inv_perm / D\n",
    "print(A_ica_inv_perm_D)"
   ]
  },
  {
   "cell_type": "markdown",
   "id": "6d5c1ff7",
   "metadata": {},
   "source": [
    "#### ・次に、$A^{-1}=(I-B)$なので、$B=I-A^{-1}$として$B$を計算する ."
   ]
  },
  {
   "cell_type": "code",
   "execution_count": 25,
   "id": "ea293a08",
   "metadata": {},
   "outputs": [
    {
     "name": "stdout",
     "output_type": "stream",
     "text": [
      "[[ 0.          3.55572849 -0.04858179]\n",
      " [ 0.16602591  0.         -0.04191247]\n",
      " [ 2.0085126   4.01838418  0.        ]]\n"
     ]
    }
   ],
   "source": [
    "# ③「B=I-A_inv」\n",
    "B_est = np.eye(3) - A_ica_inv_perm_D\n",
    "print(B_est)"
   ]
  },
  {
   "cell_type": "markdown",
   "id": "dc117eec",
   "metadata": {},
   "source": [
    "#### ・出力された結果から、推定した$B_{ets}$は下三角行列ではない .　そもそも今回は変数が因果の上流から順番には並んでおらず、"
   ]
  },
  {
   "cell_type": "markdown",
   "id": "24a07b05",
   "metadata": {},
   "source": [
    "$$\n",
    "x_1 = 3 \\times x_2 + e_{x_1} \\\\\n",
    "x_2 = e_{x_2} \\\\\n",
    "x_3 = 2 \\times x_1 + 4 \\times x_2 + e_{x_3}\n",
    "$$"
   ]
  },
  {
   "cell_type": "markdown",
   "id": "bfe1a187",
   "metadata": {},
   "source": [
    "#### より、正解の$B$は"
   ]
  },
  {
   "cell_type": "markdown",
   "id": "9e1f3971",
   "metadata": {},
   "source": [
    "$$\n",
    "B = \n",
    "\\begin{pmatrix}\n",
    "0 & 3 & 0 \\\\\n",
    "0 & 0 & 0 \\\\\n",
    "2 & 4 & 0\n",
    "\\end{pmatrix}\n",
    "$$"
   ]
  },
  {
   "cell_type": "markdown",
   "id": "b014fdeb",
   "metadata": {},
   "source": [
    "#### でした .　$B_{est}$には計算の誤差、そしてデータが有限なため、0になるべき部分が完璧には0になっていない .　また今回はどこが0になるのか分かっているから良いが、未知のデータでは「何個が0になるのか？」、「どの要素が0になるべきなのか？」は不明である ."
   ]
  },
  {
   "cell_type": "markdown",
   "id": "7eb7665e",
   "metadata": {},
   "source": [
    "#### ・そこで手続きとしては、"
   ]
  },
  {
   "cell_type": "markdown",
   "id": "343ebd66",
   "metadata": {},
   "source": [
    "#### ①上側成分の0になるはずの数(3×3であれば3個、4×4であれば6個と、対角成分の上側の要素数分)、絶対値が小さい成分を0にする ."
   ]
  },
  {
   "cell_type": "markdown",
   "id": "8158de31",
   "metadata": {},
   "source": [
    "#### ②そして、変数の順番を入れ替えて、$B_{est-transformed}$が下三角行列になるかを確かめる"
   ]
  },
  {
   "cell_type": "markdown",
   "id": "de4d384c",
   "metadata": {},
   "source": [
    "#### を行う .　これでまだ$B_{est-transformed}$が下三角行列でない場合は、さらに1つ絶対値の小さな成分を0にして、②を実施、を繰り返す ."
   ]
  },
  {
   "cell_type": "markdown",
   "id": "85379894",
   "metadata": {},
   "source": [
    "#### ・まず$B_{est}$に①上側成分の0になるはずの数(今回は3個)分、絶対値が小さい成分を0にするを実施すると、"
   ]
  },
  {
   "cell_type": "markdown",
   "id": "ad7babc2",
   "metadata": {},
   "source": [
    "$$\n",
    "B_{\\text{est}} =\n",
    "\\begin{pmatrix}\n",
    "0 & 3.57021564 & 0 \\\\\n",
    "0 & 0 & 0 \\\\\n",
    "2.00970483 & 4.01538182 & 0\n",
    "\\end{pmatrix}\n",
    "$$"
   ]
  },
  {
   "cell_type": "markdown",
   "id": "ce2f0c42",
   "metadata": {},
   "source": [
    "#### となる .　そして、これは、②変数の順番を入れ替えて、$B_{est-transformed}$が下三角行列になるかを確かめる .　変数の1番目と2番目を入れ替えた場合を考える .　このときは、"
   ]
  },
  {
   "cell_type": "markdown",
   "id": "7d396c04",
   "metadata": {},
   "source": [
    "$$\n",
    "\\begin{pmatrix}\n",
    "x_1 \\\\\n",
    "x_2 \\\\\n",
    "x_3\n",
    "\\end{pmatrix}\n",
    "=\n",
    "\\begin{pmatrix}\n",
    "0 & b_{12} & b_{13} \\\\\n",
    "b_{21} & 0 & b_{23} \\\\\n",
    "b_{31} & b_{32} & 0\n",
    "\\end{pmatrix}\n",
    "\\begin{pmatrix}\n",
    "x_1 \\\\\n",
    "x_2 \\\\\n",
    "x_3\n",
    "\\end{pmatrix}\n",
    "+\n",
    "\\begin{pmatrix}\n",
    "e_1 \\\\\n",
    "e_2 \\\\\n",
    "e_3\n",
    "\\end{pmatrix}\n",
    "$$"
   ]
  },
  {
   "cell_type": "markdown",
   "id": "91ca1e9c",
   "metadata": {},
   "source": [
    "#### が、"
   ]
  },
  {
   "cell_type": "markdown",
   "id": "8b49ddcf",
   "metadata": {},
   "source": [
    "$$\n",
    "\\begin{pmatrix}\n",
    "x_2 \\\\\n",
    "x_1 \\\\\n",
    "x_3\n",
    "\\end{pmatrix}\n",
    "=\n",
    "\\begin{pmatrix}\n",
    "0 & b_{21} & b_{23} \\\\\n",
    "b_{12} & 0 & b_{13} \\\\\n",
    "b_{32} & b_{31} & 0\n",
    "\\end{pmatrix}\n",
    "\\begin{pmatrix}\n",
    "x_2 \\\\\n",
    "x_1 \\\\\n",
    "x_3\n",
    "\\end{pmatrix}\n",
    "+\n",
    "\\begin{pmatrix}\n",
    "e_2 \\\\\n",
    "e_1 \\\\\n",
    "e_3\n",
    "\\end{pmatrix}\n",
    "$$"
   ]
  },
  {
   "cell_type": "markdown",
   "id": "247a251f",
   "metadata": {},
   "source": [
    "#### となるため、"
   ]
  },
  {
   "cell_type": "markdown",
   "id": "bd06de46",
   "metadata": {},
   "source": [
    "$$\n",
    "B_{\\text{est.transformed}} =\n",
    "\\begin{pmatrix}\n",
    "0 & 0 & 0 \\\\\n",
    "3.57021564 & 0 & 0 \\\\\n",
    "4.01538182 & 2.00970483 & 0\n",
    "\\end{pmatrix}\n",
    "$$"
   ]
  },
  {
   "cell_type": "markdown",
   "id": "b1745bb3",
   "metadata": {},
   "source": [
    "#### となり、下三角行列となる ."
   ]
  },
  {
   "cell_type": "markdown",
   "id": "0c56c0d3",
   "metadata": {},
   "source": [
    "#### ・よって、$B_{est}$は非循環の条件を満たしている行列となっていることが分かる .　実装は以下の通りである ."
   ]
  },
  {
   "cell_type": "code",
   "execution_count": 26,
   "id": "5c6287aa",
   "metadata": {},
   "outputs": [
    {
     "name": "stdout",
     "output_type": "stream",
     "text": [
      "[[0.         3.55572849 0.        ]\n",
      " [0.         0.         0.        ]\n",
      " [2.0085126  4.01838418 0.        ]]\n"
     ]
    }
   ],
   "source": [
    "# ①上側成分の0になるはずの数（3×3であれば3個、4×4であれば6個と、対角成分の上側の要素数分）、絶対値が小さい成分を0にする\n",
    "# ②変数の順番を入れ替えて、下三角行列になるかを確かめる、\n",
    "# 実装の参考\n",
    "# [5] Qiita：LiNGAMモデルの推定方法について\n",
    "# https://qiita.com/m__k/items/bd87c063a7496897ba7c\n",
    "\n",
    "def _slttestperm(b_i):\n",
    "# b_iの行を並び替えて下三角行列にできるかどうかチェック\n",
    "    n = b_i.shape[0]\n",
    "    remnodes = np.arange(n)\n",
    "    b_rem = deepcopy(b_i)\n",
    "    p = list() \n",
    "\n",
    "    for i in range(n):\n",
    "        # 成分が全て0である行番号のリスト\n",
    "        ixs = np.where(np.sum(np.abs(b_rem), axis=1) < 1e-12)[0]\n",
    "\n",
    "        if len(ixs) == 0:\n",
    "            return None\n",
    "        else:\n",
    "            ix = ixs[0]\n",
    "            p.append(remnodes[ix])\n",
    "\n",
    "            #　成分が全て0である行を削除\n",
    "            remnodes = np.hstack((remnodes[:ix], remnodes[(ix + 1):]))\n",
    "            ixs = np.hstack((np.arange(ix), np.arange(ix + 1, len(b_rem))))\n",
    "            b_rem = b_rem[ixs, :]\n",
    "            b_rem = b_rem[:, ixs]\n",
    "\n",
    "    return np.array(p)\n",
    "\n",
    "b = B_est\n",
    "n = b.shape[0]\n",
    "assert(b.shape == (n, n))\n",
    "\n",
    "ixs = np.argsort(np.abs(b).ravel())\n",
    "\n",
    "for i in range(int(n * (n + 1) / 2) - 1, (n * n) - 1):\n",
    "    b_i = deepcopy(b)\n",
    "    b_i.ravel()[ixs[:i]] = 0\n",
    "    ixs_perm = _slttestperm(b_i)\n",
    "    if ixs_perm is not None:\n",
    "        b_opt = deepcopy(b)\n",
    "        b_opt = b_opt[ixs_perm, :]\n",
    "        b_opt = b_opt[:, ixs_perm]\n",
    "        break\n",
    "b_csl = np.tril(b_opt, -1)\n",
    "b_csl[ixs_perm, :] = deepcopy(b_csl)\n",
    "b_csl[:, ixs_perm] = deepcopy(b_csl)\n",
    "\n",
    "B_est1 = b_csl\n",
    "print(B_est1)"
   ]
  },
  {
   "cell_type": "markdown",
   "id": "7e7fad4f",
   "metadata": {},
   "source": [
    "#### ・最後に再度、$B_{est}$の要素を回帰分析で求める ."
   ]
  },
  {
   "cell_type": "markdown",
   "id": "83448224",
   "metadata": {},
   "source": [
    "#### 回帰分析で行列$B$の成分を再度求めるのは、現状の$B_{est}$の0でない要素が、絶対値の小さい成分のゼロ化の操作を実施する前の値であるため、ゼロ化操作後での係数の値を求めたいからである ."
   ]
  },
  {
   "cell_type": "markdown",
   "id": "a4a9ff2f",
   "metadata": {},
   "source": [
    "#### ・今回は$B_{est}$は3つの要素が0でないので、3つのパスが存在する .　パスが存在する部分のみを考慮した回帰モデルを構築し、因果の大きさを求める ."
   ]
  },
  {
   "cell_type": "markdown",
   "id": "d1e6f984",
   "metadata": {},
   "source": [
    "### 行列$B$の非ゼロ要素を求め直す"
   ]
  },
  {
   "cell_type": "code",
   "execution_count": 27,
   "id": "fadfcee1",
   "metadata": {},
   "outputs": [
    {
     "name": "stdout",
     "output_type": "stream",
     "text": [
      "係数： [3.14642595]\n",
      "係数： [1.96164568 4.11256441]\n"
     ]
    }
   ],
   "source": [
    "# scikit-learnから線形回帰をimport\n",
    "from sklearn.linear_model import LinearRegression\n",
    "\n",
    "# 説明変数\n",
    "X1 = df[[\"x2\"]]\n",
    "X3 = df[[\"x1\", \"x2\"]]\n",
    "\n",
    "# 被説明変数（目的変数）\n",
    "# df[\"x1\"]\n",
    "# df[\"x3\"]\n",
    "\n",
    "# 回帰の実施\n",
    "reg1 = LinearRegression().fit(X1, df[\"x1\"])\n",
    "reg3 = LinearRegression().fit(X3, df[\"x3\"])\n",
    "\n",
    "# 回帰した結果の係数を出力\n",
    "print(\"係数：\", reg1.coef_)\n",
    "print(\"係数：\", reg3.coef_)"
   ]
  },
  {
   "cell_type": "markdown",
   "id": "fa64564b",
   "metadata": {},
   "source": [
    "#### ・疑似データは以下の式、"
   ]
  },
  {
   "cell_type": "markdown",
   "id": "9ca57d6f",
   "metadata": {},
   "source": [
    "$$\n",
    "\\begin{aligned}\n",
    "x_1 &= 3 \\times x_2 + e_{x_1} \\\\\n",
    "x_2 &= e_{x_2} \\\\\n",
    "x_3 &= 2 \\times x_1 + 4 \\times x_2 + e_{x_3}\n",
    "\\end{aligned}\n",
    "$$"
   ]
  },
  {
   "cell_type": "markdown",
   "id": "84f63b0d",
   "metadata": {},
   "source": [
    "#### から生成したので、推定結果の"
   ]
  },
  {
   "cell_type": "markdown",
   "id": "4d3593c7",
   "metadata": {},
   "source": [
    "$$\n",
    "\\begin{aligned}\n",
    "x_1 &= 3.1 \\times x_2 + e_{x_1} \\\\\n",
    "x_2 &= e_{x_2} \\\\\n",
    "x_3 &= 2.0 \\times x_1 + 4.1 \\times x_2 + e_{x_3}\n",
    "\\end{aligned}\n",
    "$$"
   ]
  },
  {
   "cell_type": "markdown",
   "id": "7180c0c8",
   "metadata": {},
   "source": [
    "#### は、元の構造方程式モデルとほぼ同じとなっている .　よって、観測したデータ$(x_1, x_2, x_3)^{\\mathrm{T}}$から構造方程式を求めることができた ."
   ]
  },
  {
   "cell_type": "markdown",
   "id": "7dbcdc9f",
   "metadata": {},
   "source": [
    "## 次回"
   ]
  },
  {
   "cell_type": "markdown",
   "id": "4dd52e53",
   "metadata": {},
   "source": [
    "#### ・第7章では、ベイジアンネットワークと呼ばれる手法による因果探索について解説する ."
   ]
  }
 ],
 "metadata": {
  "kernelspec": {
   "display_name": "myenv",
   "language": "python",
   "name": "python3"
  },
  "language_info": {
   "codemirror_mode": {
    "name": "ipython",
    "version": 3
   },
   "file_extension": ".py",
   "mimetype": "text/x-python",
   "name": "python",
   "nbconvert_exporter": "python",
   "pygments_lexer": "ipython3",
   "version": "3.13.3"
  }
 },
 "nbformat": 4,
 "nbformat_minor": 5
}
