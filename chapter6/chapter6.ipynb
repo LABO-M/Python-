{
 "cells": [
  {
   "cell_type": "markdown",
   "id": "8994b657",
   "metadata": {},
   "source": [
    "# 第2部 因果探索\n",
    "## 第6章 LiNGAMの実装"
   ]
  },
  {
   "cell_type": "markdown",
   "id": "8083cf81",
   "metadata": {},
   "source": [
    "## 6-1 LiNGAM(Linear Non-Gaussian Acyclic Model)とは"
   ]
  },
  {
   "cell_type": "markdown",
   "id": "99cd3e54",
   "metadata": {},
   "source": [
    "#### ・因果探索 : 多くの項目をアンケート調査などで収集した後に、調査項目の間にある因果関係(ネットワークの繋がり方)を求めること ."
   ]
  },
  {
   "cell_type": "markdown",
   "id": "0d90b4d6",
   "metadata": {},
   "source": [
    "#### 例として、「生活習慣と疾病の大規模調査」、「企業における働き方改革に伴う社員の意識調査」などが挙げられる ."
   ]
  },
  {
   "cell_type": "markdown",
   "id": "36e23cda",
   "metadata": {},
   "source": [
    "#### ・本章では因果探索の代表的手法であるLiNGAM(Linear Non-Gaussian Acyclic Model)を解説、実装する ."
   ]
  },
  {
   "cell_type": "markdown",
   "id": "220ee1cc",
   "metadata": {},
   "source": [
    "## LiNGAMの前提"
   ]
  },
  {
   "cell_type": "markdown",
   "id": "783be173",
   "metadata": {},
   "source": [
    "#### ・LiNGAMは構造方程式モデルを前提において、因果探索を実施する ."
   ]
  },
  {
   "cell_type": "markdown",
   "id": "f681b28f",
   "metadata": {},
   "source": [
    "#### ・LiNGAM : 因果構造がDAG(有向非巡回グラフ)であり、誤差項が非ガウス分布である線形モデルのこと ."
   ]
  },
  {
   "cell_type": "markdown",
   "id": "24776b42",
   "metadata": {},
   "source": [
    "#### ・例えば、変数$x$,$y$,$z$の因果関係を構造方程式モデルで記載すると、"
   ]
  },
  {
   "cell_type": "markdown",
   "id": "44f7df97",
   "metadata": {},
   "source": [
    "$$\n",
    "\\begin{aligned}\n",
    "x &= f_x(y, z, e_x) \\\\\n",
    "y &= f_y(x, z, e_y) \\\\\n",
    "z &= f_z(x, y, e_z)\n",
    "\\end{aligned}\n",
    "$$"
   ]
  },
  {
   "cell_type": "markdown",
   "id": "477aa1a4",
   "metadata": {},
   "source": [
    "#### となる .　LiNGAMでは、"
   ]
  },
  {
   "cell_type": "markdown",
   "id": "711a73ed",
   "metadata": {},
   "source": [
    "$$\n",
    "\\begin{aligned}\n",
    "x_1 &= b_{12}x_2 + b_{13}x_3 + e_1 \\\\\n",
    "x_2 &= b_{21}x_1 + b_{23}x_3 + e_2 \\\\\n",
    "x_3 &= b_{31}x_1 + b_{32}x_2 + e_3\n",
    "\\end{aligned}\n",
    "$$"
   ]
  },
  {
   "cell_type": "markdown",
   "id": "e0548ef8",
   "metadata": {},
   "source": [
    "#### のように、線形な構造方程式を仮定する .　ここで、変数$x$,$y$,$z$を、変数$x_1$,$x_2$,$x_3$に書き直している .　観測したデータ$N$個をまとめて表すために、各変数$x_1$,$x_2$,$x_3$がベクトルで記載されている ."
   ]
  },
  {
   "cell_type": "markdown",
   "id": "74519883",
   "metadata": {},
   "source": [
    "#### この式を、行列を使って書き直すと、"
   ]
  },
  {
   "cell_type": "markdown",
   "id": "6e756e1d",
   "metadata": {},
   "source": [
    "$$\n",
    "\\begin{pmatrix}\n",
    "x_1 \\\\\n",
    "x_2 \\\\\n",
    "x_3\n",
    "\\end{pmatrix}\n",
    "=\n",
    "\\begin{pmatrix}\n",
    "0 & b_{12} & b_{13} \\\\\n",
    "b_{21} & 0 & b_{23} \\\\\n",
    "b_{31} & b_{32} & 0\n",
    "\\end{pmatrix}\n",
    "\\begin{pmatrix}\n",
    "x_1 \\\\\n",
    "x_2 \\\\\n",
    "x_3\n",
    "\\end{pmatrix}\n",
    "+\n",
    "\\begin{pmatrix}\n",
    "e_1 \\\\\n",
    "e_2 \\\\\n",
    "e_3\n",
    "\\end{pmatrix}\n",
    "$$"
   ]
  },
  {
   "cell_type": "markdown",
   "id": "76eacc2a",
   "metadata": {},
   "source": [
    "#### となる .　各ベクトルと行列をそれぞれ$x$,$B$,$e$で表すと、次のようになる ."
   ]
  },
  {
   "cell_type": "markdown",
   "id": "4b588317",
   "metadata": {},
   "source": [
    "$$\n",
    "\\mathbf{x} = B\\mathbf{x} + \\mathbf{e}\n",
    "$$"
   ]
  },
  {
   "cell_type": "markdown",
   "id": "f61dd735",
   "metadata": {},
   "source": [
    "#### ・LiNGAMによる因果探索とは、観測されているデータ$\\mathbf{x} = (x_1, x_2, x_3)^{\\mathrm{T}}$から$b_{12}$や$b_{13}$の値を推定し、行列$B$を求め、線形な構造方程式を求めることになる .\n"
   ]
  },
  {
   "cell_type": "markdown",
   "id": "b8ac8efe",
   "metadata": {},
   "source": [
    "## 非循環性(Acyclic)による行列$B$の制限"
   ]
  },
  {
   "cell_type": "markdown",
   "id": "40a575a6",
   "metadata": {},
   "source": []
  },
  {
   "cell_type": "markdown",
   "id": "9355df5d",
   "metadata": {},
   "source": []
  },
  {
   "cell_type": "markdown",
   "id": "7e4b8e1b",
   "metadata": {},
   "source": []
  },
  {
   "cell_type": "markdown",
   "id": "f6ad2a64",
   "metadata": {},
   "source": []
  },
  {
   "cell_type": "markdown",
   "id": "7daaed6e",
   "metadata": {},
   "source": []
  },
  {
   "cell_type": "markdown",
   "id": "5c41860c",
   "metadata": {},
   "source": []
  }
 ],
 "metadata": {
  "language_info": {
   "name": "python"
  }
 },
 "nbformat": 4,
 "nbformat_minor": 5
}
