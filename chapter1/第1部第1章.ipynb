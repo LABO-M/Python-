{
 "cells": [
  {
   "cell_type": "markdown",
   "id": "f47c0609",
   "metadata": {},
   "source": [
    "# 第1部 因果推論\n",
    "## 第1章 相関と因果の違いを理解する"
   ]
  },
  {
   "cell_type": "markdown",
   "id": "6d845c33",
   "metadata": {},
   "source": [
    "### 1-1 因果推論が必要となる架空事例の紹介"
   ]
  },
  {
   "cell_type": "markdown",
   "id": "039b4249",
   "metadata": {},
   "source": [
    "##### ・因果 : とある施策を実施した際に、着目する変数の値がどの程度変化するのかの関係性のこと.\n",
    "##### ・因果推論 : 因果の大きさ、すなわち施策の効果を推定する手法のこと."
   ]
  },
  {
   "cell_type": "markdown",
   "id": "51ee4ff5",
   "metadata": {},
   "source": [
    "### 架空事例"
   ]
  },
  {
   "cell_type": "markdown",
   "id": "79fb7933",
   "metadata": {},
   "source": [
    "##### ・企業に勤めていて、人事部の部長として働いているとする.\n",
    "##### ・部下であり、社員研修の実施を担うAさんから、\n",
    "#### 部下を持つ社員のうち、参加を希望した社員の全員に実施した「上司向け:部下とのキャリア面談のポイント研修」\n",
    "##### の効果について報告を受けており、具体的な内容は以下の通りである.  "
   ]
  },
  {
   "cell_type": "markdown",
   "id": "afbd2ca2",
   "metadata": {},
   "source": [
    "#### 1.部下社員(上司が、部下とのキャリア面談のポイント研修を受講)と、部下社員(上司が研修を未受講)の中から、ランダムに100名ずつ抽出し、[キャリア面談の満足度]をアンケート調査した.\n",
    "#### 2.各100名ずつの[キャリア面談の満足度]の平均を計算した結果、上司が研修を受講した社員の満足度平均値は、上司が研修を受けていない社員の満足度平均値よりも高い値となった.\n",
    "#### 3.今回アンケート調査を実施した部下社員100名ずつはランダムに抽出. 異なる点は上司が研修を受けたか否かのみ.\n",
    "#### 4.よって、「上司向け:部下とのキャリア面談のポイント研修」は、部下のキャリア面談の満足度を向上させる効果がある.\n",
    "#### 5.なお、研修実施による効果の大きさは、今回調査した部下社員たちの[キャリア面談の満足度]の平均値の差となる."
   ]
  },
  {
   "cell_type": "markdown",
   "id": "81f1a742",
   "metadata": {},
   "source": [
    "##### 以上が、Aさんから受けた報告である. そして、次のような会話が続くでしょう."
   ]
  },
  {
   "cell_type": "markdown",
   "id": "5c01cc34",
   "metadata": {},
   "source": [
    "#### 「Aさん、研修の実施、そして効果検証までありがとう. ただ気になることがあるんだ. 研修を受講したことによる[当該社員の部下のキャリア面談の満足度]への効果を検証しているが、今回の研修は参加希望者を募って、参加者全員に実施したんだよね？」\n",
    "#### 「はい.」\n",
    "#### 「わざわざそのような研修を自ら希望して受講する上司は、[部下育成の熱心さ]が元々高い上司だと思う. そんな部下育成に熱心な上司を持つ部下社員なら、\"もし仮にその上司が今回の研修を受けていなくても\"、[キャリア面談の満足度]は、研修を受講していない上司を持つ部下社員の満足度よりも高くなる気がするんだ."
   ]
  },
  {
   "cell_type": "markdown",
   "id": "f5f3919f",
   "metadata": {},
   "source": [
    "### 因果推論に向けて"
   ]
  },
  {
   "cell_type": "markdown",
   "id": "ecb0cc8d",
   "metadata": {},
   "source": [
    "##### 今回の会話内容を絵にしてみる."
   ]
  },
  {
   "cell_type": "markdown",
   "id": "7a3b2138",
   "metadata": {},
   "source": [
    "![alt text](pict1.png)"
   ]
  },
  {
   "cell_type": "markdown",
   "id": "238e0ce9",
   "metadata": {},
   "source": []
  },
  {
   "cell_type": "markdown",
   "id": "a7f5c4fa",
   "metadata": {},
   "source": []
  },
  {
   "cell_type": "markdown",
   "id": "6ee4a95e",
   "metadata": {},
   "source": []
  },
  {
   "cell_type": "markdown",
   "id": "2006d596",
   "metadata": {},
   "source": []
  },
  {
   "cell_type": "markdown",
   "id": "2a089fce",
   "metadata": {},
   "source": []
  },
  {
   "cell_type": "markdown",
   "id": "c4449883",
   "metadata": {},
   "source": []
  }
 ],
 "metadata": {
  "kernelspec": {
   "display_name": "Python 3",
   "language": "python",
   "name": "python3"
  },
  "language_info": {
   "name": "python",
   "version": "3.12.3"
  }
 },
 "nbformat": 4,
 "nbformat_minor": 5
}
