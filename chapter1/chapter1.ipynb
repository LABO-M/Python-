{
 "cells": [
  {
   "cell_type": "markdown",
   "id": "f47c0609",
   "metadata": {},
   "source": [
    "# 第1部 因果推論\n",
    "## 第1章 相関と因果の違いを理解する"
   ]
  },
  {
   "cell_type": "markdown",
   "id": "6d845c33",
   "metadata": {},
   "source": [
    "## 1-1 因果推論が必要となる架空事例の紹介"
   ]
  },
  {
   "cell_type": "markdown",
   "id": "039b4249",
   "metadata": {},
   "source": [
    "#### ・因果 : とある施策を実施した際に、着目する変数の値がどの程度変化するのかの関係性のこと.\n",
    "#### ・因果推論 : 因果の大きさ、すなわち施策の効果を推定する手法のこと."
   ]
  },
  {
   "cell_type": "markdown",
   "id": "51ee4ff5",
   "metadata": {},
   "source": [
    "## 架空事例(人事研修)"
   ]
  },
  {
   "cell_type": "markdown",
   "id": "79fb7933",
   "metadata": {},
   "source": [
    "#### ・企業に勤めていて、人事部の部長として働いているとする.\n",
    "#### ・部下であり、社員研修の実施を担うAさんから、\n",
    "### 部下を持つ社員のうち、参加を希望した社員の全員に実施した「上司向け : 部下とのキャリア面談のポイント研修」\n",
    "#### の効果について報告を受けており、具体的な内容は以下の通りである.  "
   ]
  },
  {
   "cell_type": "markdown",
   "id": "afbd2ca2",
   "metadata": {},
   "source": [
    "### 1.部下社員(上司が、部下とのキャリア面談のポイント研修を受講)と、部下社員(上司が研修を未受講)の中から、ランダムに100名ずつ抽出し、[キャリア面談の満足度]をアンケート調査した.\n",
    "### 2.各100名ずつの[キャリア面談の満足度]の平均を計算した結果、上司が研修を受講した社員の満足度平均値は、上司が研修を受けていない社員の満足度平均値よりも高い値となった.\n",
    "### 3.今回アンケート調査を実施した部下社員100名ずつはランダムに抽出. 異なる点は上司が研修を受けたか否かのみ.\n",
    "### 4.よって、「上司向け : 部下とのキャリア面談のポイント研修」は、部下のキャリア面談の満足度を向上させる効果がある.\n",
    "### 5.なお、研修実施による効果の大きさは、今回調査した部下社員たちの[キャリア面談の満足度]の平均値の差となる."
   ]
  },
  {
   "cell_type": "markdown",
   "id": "81f1a742",
   "metadata": {},
   "source": [
    "#### 以上が、Aさんから受けた報告である. そして、次のような会話が続くでしょう."
   ]
  },
  {
   "cell_type": "markdown",
   "id": "5c01cc34",
   "metadata": {},
   "source": [
    "### 「Aさん、研修の実施、そして効果検証までありがとう. ただ気になることがあるんだ. 研修を受講したことによる[当該社員の部下のキャリア面談の満足度]への効果を検証しているが、今回の研修は参加希望者を募って、参加者全員に実施したんだよね？」\n",
    "### 「はい.」\n",
    "### 「わざわざそのような研修を自ら希望して受講する上司は、[部下育成の熱心さ]が元々高い上司だと思う. そんな部下育成に熱心な上司を持つ部下社員なら、\"もし仮にその上司が今回の研修を受けていなくても\"、[キャリア面談の満足度]は、研修を受講していない上司を持つ部下社員の満足度よりも高くなる気がするんだ."
   ]
  },
  {
   "cell_type": "markdown",
   "id": "f5f3919f",
   "metadata": {},
   "source": [
    "## 因果推論に向けて"
   ]
  },
  {
   "cell_type": "markdown",
   "id": "ecb0cc8d",
   "metadata": {},
   "source": [
    "#### 今回の会話内容を絵にしてみる."
   ]
  },
  {
   "cell_type": "markdown",
   "id": "7a3b2138",
   "metadata": {},
   "source": [
    "![alt text](pict1.png)"
   ]
  },
  {
   "cell_type": "markdown",
   "id": "238e0ce9",
   "metadata": {},
   "source": [
    "### 矢印① : [上司の部下育成の熱心さ]が高いと、上司が[「上司向け : 部下とのキャリア面談のポイント研修」を受講]する確率は高くなる.\n",
    "### 矢印② : [上司が研修を受講する]と、[部下のキャリア面談への満足度]が高くなる."
   ]
  },
  {
   "cell_type": "markdown",
   "id": "a7f5c4fa",
   "metadata": {},
   "source": [
    "#### という関係性がある. この矢印②が今回検証している研修実施の効果を示す. 矢印①,②の2本だけであれば、Aさんの報告は正しいが、人事部長のあなたが懸念を抱く通り、"
   ]
  },
  {
   "cell_type": "markdown",
   "id": "6ee4a95e",
   "metadata": {},
   "source": [
    "### 矢印③ : [上司の部下育成の熱心さ]が高いと、[部下のキャリア面談への満足度]が高くなる"
   ]
  },
  {
   "cell_type": "markdown",
   "id": "2006d596",
   "metadata": {},
   "source": [
    "#### という矢印(関係性)も十分に想像できる."
   ]
  },
  {
   "cell_type": "markdown",
   "id": "2a089fce",
   "metadata": {},
   "source": [
    "#### よって図1.1.1においては、矢印③の存在も考慮しながら、矢印②による効果を推定しないと、研修実施による効果を正確に推定できない."
   ]
  },
  {
   "cell_type": "markdown",
   "id": "a264d076",
   "metadata": {},
   "source": [
    "### このように、他の変数(要因)からの因果の効果(矢印の影響)を考慮して、求めたい直接的な因果の効果を推定する手法が因果推論である."
   ]
  },
  {
   "cell_type": "markdown",
   "id": "86da1210",
   "metadata": {},
   "source": [
    "## 異なる架空事例の紹介(テレビCMによる購買促進効果の推定)"
   ]
  },
  {
   "cell_type": "markdown",
   "id": "165dba9b",
   "metadata": {},
   "source": [
    "![alt text](pict2.png)"
   ]
  },
  {
   "cell_type": "markdown",
   "id": "2667e643",
   "metadata": {},
   "source": [
    "#### ・[テレビCMを見た]かどうかに対して、変数として[性別]と[年齢]が影響.(矢印①-1、①-2)\n",
    "#### ・[テレビCMを見た]ことによる、[商品の購入量]への影響、すなわち求めたい因果の関係.(矢印②) この矢印②の因果の大きさがテレビCMの施策効果となる.\n",
    "#### ・[性別]と[年齢]が[商品の購入量]に与える影響.(矢印③-1、③-2)"
   ]
  },
  {
   "cell_type": "markdown",
   "id": "c4449883",
   "metadata": {},
   "source": [
    "## 平均値の差は因果効果を示すのか？"
   ]
  },
  {
   "cell_type": "markdown",
   "id": "ecfb4b18",
   "metadata": {},
   "source": [
    "#### テレビCMを見る確率が高いのは女性の高齢な方で、商品を購入しやすいのは男性の若い方とする."
   ]
  },
  {
   "cell_type": "markdown",
   "id": "bff84d81",
   "metadata": {},
   "source": [
    "#### \"テレビCMを見た人\"と\"見てない人\"という観点でランダムに100名ずつ集め、商品の購入量の平均値を比べる."
   ]
  },
  {
   "cell_type": "markdown",
   "id": "e4c86575",
   "metadata": {},
   "source": [
    "#### ・テレビCMを見た人たちは、女性の高齢が多くなり購入量の平均値は低そう.\n",
    "#### ・テレビCMを見ていない集団は、男性の若者が多くなり購入量の平均値は高そう."
   ]
  },
  {
   "cell_type": "markdown",
   "id": "27096bc8",
   "metadata": {},
   "source": [
    "#### このことから、「テレビCMを見た集団の平均購買量-テレビCMを見ていない集団の商品購入量」はマイナスの値になり、"
   ]
  },
  {
   "cell_type": "markdown",
   "id": "cb9a4431",
   "metadata": {},
   "source": [
    "### 「テレビCMの効果はマイナスです、テレビCMを放映すると売り上げが減ります」"
   ]
  },
  {
   "cell_type": "markdown",
   "id": "8485f0c4",
   "metadata": {},
   "source": [
    "#### という、明らかに誤った結論になる."
   ]
  },
  {
   "cell_type": "markdown",
   "id": "53000c8a",
   "metadata": {},
   "source": [
    "### このように、施策の効果・因果の大きさの推論にあたっては、単にその施策を受けた人とそうでない人で平均値を比べる作戦は、多くの場合間違っていることになる."
   ]
  },
  {
   "cell_type": "markdown",
   "id": "1f254ffb",
   "metadata": {},
   "source": [
    "## 因果推論の世界へ"
   ]
  },
  {
   "cell_type": "markdown",
   "id": "1e0a7472",
   "metadata": {},
   "source": [
    "#### テレビCMの効果を考えるには、「テレビCMを見た人の購入量」と「テレビCMを見た人が、仮にテレビCMを見ていなかった場合の購入量」との差を考えるのが妥当."
   ]
  },
  {
   "cell_type": "markdown",
   "id": "65230915",
   "metadata": {},
   "source": [
    "#### [上司が「上司向け : 部下とのキャリア面談のポイント研修」を受けた部下のキャリア面談の満足度]と[上司が同研修を受けた部下において、その上司が仮に同研修を受けていなかった場合のキャリア面談の満足度]との差を考えるのが妥当."
   ]
  },
  {
   "cell_type": "markdown",
   "id": "207b0581",
   "metadata": {},
   "source": [
    "### ⇒２つの共通点として、\"仮にその施策を受けなかった場合\"という、実データとして計測できていない状況を考える必要がある."
   ]
  },
  {
   "cell_type": "markdown",
   "id": "95da2ae6",
   "metadata": {},
   "source": [
    "## 1-2 相関と因果の違い、疑似相関"
   ]
  },
  {
   "cell_type": "markdown",
   "id": "02f64642",
   "metadata": {},
   "source": [
    "## 相関"
   ]
  },
  {
   "cell_type": "markdown",
   "id": "8724ead3",
   "metadata": {},
   "source": [
    "####  相関 : 2つの変数の関係性の強さを示す指標.\n",
    "#### 「変数Zと変数Yは相関関係にある」: \"変数Zの値が大きいときに、対応する変数Yの値も大きい傾向にある\"を指す."
   ]
  },
  {
   "cell_type": "markdown",
   "id": "59b8b840",
   "metadata": {},
   "source": [
    "#### [自分の上司が「上司向け : 部下とのキャリア面談のポイント研修」を受講した]ことを変数Z、[キャリア面談の満足度]を変数Yとして、人事研修の関係性を図示する."
   ]
  },
  {
   "cell_type": "markdown",
   "id": "460d3260",
   "metadata": {},
   "source": [
    "![alt text](pict3.png)"
   ]
  },
  {
   "cell_type": "markdown",
   "id": "1c05d040",
   "metadata": {},
   "source": [
    "#### 変数Zは、受講していればZ=1、受講していなければZ=0となる."
   ]
  },
  {
   "cell_type": "markdown",
   "id": "f71d1323",
   "metadata": {},
   "source": [
    "#### 近似曲線の傾きの大きさが変数Zと変数Yの相関の大きさを示す. 図1.2.1から変数Zが大きいとき(すなわち上司が研修を受講している場合)、変数Y(すなわちキャリア面談への満足度)も大きな値になる傾向が読み取れる."
   ]
  },
  {
   "cell_type": "markdown",
   "id": "4771a29c",
   "metadata": {},
   "source": [
    "#### よって、[自分の上司が「上司向け : 部下とのキャリア面談のポイント研修」を受講する]ことと、[キャリア面談の満足度]が相関関係にあることがわかる."
   ]
  },
  {
   "cell_type": "markdown",
   "id": "0562961c",
   "metadata": {},
   "source": [
    "## 因果関係"
   ]
  },
  {
   "cell_type": "markdown",
   "id": "b35b1ddb",
   "metadata": {},
   "source": [
    "#### 「変数Zと変数Yは因果関係にある」: \"変数Zの値を大きくしたときに、対応するYの値も大きくなる傾向にある\"を指す."
   ]
  },
  {
   "cell_type": "markdown",
   "id": "01036eb4",
   "metadata": {},
   "source": [
    "#### 人事研修における疑問の内容は、「上司向け : キャリア面談のポイント研修を希望して受講する上司は、[部下育成の熱心さ]が元々高く、そんな熱心な上司であれば、\"もし仮に今回の研修を受けていなくても\"、部下の[キャリア面談の満足度]は、研修を受講しなかった上司を持つ部下の満足度よりも高くなる気がする」というもの."
   ]
  },
  {
   "cell_type": "markdown",
   "id": "005a0386",
   "metadata": {},
   "source": [
    "#### 仮に「上司向けキャリア面談のポイント研修」は効果がまったくなかったとする.\n",
    "#### すなわち、研修の効果(因果)がなく、[部下育成の熱心さ]が[上司の研修受講]を促し、ただただ[部下育成の熱心さ]が[キャリア面談の満足度]を向上させている状態である."
   ]
  },
  {
   "cell_type": "markdown",
   "id": "0ba840f6",
   "metadata": {},
   "source": [
    "![alt text](pict4.png)"
   ]
  },
  {
   "cell_type": "markdown",
   "id": "401b6953",
   "metadata": {},
   "source": [
    "#### 図1.2.2の状態においては、[自分の上司の部下育成の熱心さ]が大きくなると、[自分の上司が「上司向け : 部下とのキャリア面談のポイント研修」を受講する]の値が大きくなり、[キャリア面談の満足度]も大きくなる傾向にある."
   ]
  },
  {
   "cell_type": "markdown",
   "id": "72b9de68",
   "metadata": {},
   "source": [
    "#### すると、図1.2.2の状況でも、[自分の上司が「上司向け : 部下とのキャリア面談のポイント研修」を受講する]と[キャリア面談の満足度]が高くなり、2つの変数の間に相関関係がうまれる."
   ]
  },
  {
   "cell_type": "markdown",
   "id": "e1e0a0b6",
   "metadata": {},
   "source": [
    "#### しかし、両者をつなぐ直接的な因果の矢印はないため、[自分の上司が「上司向け : 部下とのキャリア面談のポイント研修」を受講する]の変数の値を仮に大きくしたとしても、[キャリア面談の満足度]の値は変わらない."
   ]
  },
  {
   "cell_type": "markdown",
   "id": "65914b17",
   "metadata": {},
   "source": [
    "### 疑似相関 : この図1.2.2の例のように、直接の因果関係のない2つの変数に相関関係がみられること."
   ]
  },
  {
   "cell_type": "markdown",
   "id": "2ec399bb",
   "metadata": {},
   "source": [
    "## 疑似相関のパターン1"
   ]
  },
  {
   "cell_type": "markdown",
   "id": "932a5d5c",
   "metadata": {},
   "source": [
    "#### 因果の関係が逆であるケース."
   ]
  },
  {
   "cell_type": "markdown",
   "id": "88c37a29",
   "metadata": {},
   "source": [
    "![alt text](pict5.png)"
   ]
  },
  {
   "cell_type": "markdown",
   "id": "3d4eceea",
   "metadata": {},
   "source": [
    "## 疑似相関のパターン2"
   ]
  },
  {
   "cell_type": "markdown",
   "id": "cf238137",
   "metadata": {},
   "source": [
    "#### 共通する別の変数から、変数Zと変数Yが影響を受けているケース."
   ]
  },
  {
   "cell_type": "markdown",
   "id": "4d31ecc1",
   "metadata": {},
   "source": [
    "![alt text](pict6.png)"
   ]
  },
  {
   "cell_type": "markdown",
   "id": "9b2da59f",
   "metadata": {},
   "source": [
    "#### 共通変数xのことを、交絡因子(confounding factor)といい、交絡因子により擬似相関が生まれる図1.2.4のような構造を交絡(confounding)と呼ぶ."
   ]
  },
  {
   "cell_type": "markdown",
   "id": "c614a251",
   "metadata": {},
   "source": [
    "#### この交絡による擬似相関が生まれる状況下では、施策を受けた集団と受けていない集団の平均値の差を求めても、施策の効果を正確に推定できない."
   ]
  },
  {
   "cell_type": "markdown",
   "id": "6dbc3d3d",
   "metadata": {},
   "source": [
    "## 疑似相関のパターン3"
   ]
  },
  {
   "cell_type": "markdown",
   "id": "4725b66b",
   "metadata": {},
   "source": [
    "#### とあるIT企業における新卒採用の入社試験を想像する."
   ]
  },
  {
   "cell_type": "markdown",
   "id": "06a86021",
   "metadata": {},
   "source": [
    "#### ・変数xを、学生の「人間性の得点」とする(リーダーシップ能力やコミュニケーション能力などを総合して得点付けしたもの)."
   ]
  },
  {
   "cell_type": "markdown",
   "id": "2675f320",
   "metadata": {},
   "source": [
    "#### ・変数yを、その学生の「ITスキルの得点」とする(プログラミング能力やIT知識などを総合して得点付けしたもの)."
   ]
  },
  {
   "cell_type": "markdown",
   "id": "72b79472",
   "metadata": {},
   "source": [
    "#### ・Tを合格基準の得点として、x+y>Tの場合に入社試験を合格とする."
   ]
  },
  {
   "cell_type": "markdown",
   "id": "01aaa637",
   "metadata": {},
   "source": [
    "#### ・なお、「人間性の得点」と「ITスキルの得点」の間に相関関係はなく、全く独立した変数と仮定."
   ]
  },
  {
   "cell_type": "markdown",
   "id": "17e45639",
   "metadata": {},
   "source": [
    "![alt text](pict7.png)"
   ]
  },
  {
   "cell_type": "markdown",
   "id": "4c12edec",
   "metadata": {},
   "source": [
    "#### 「人間性の得点」と「ITスキルの得点」はそれぞれ関係がない独立な変数と仮定していたため、両方ともが高い学生は少ない."
   ]
  },
  {
   "cell_type": "markdown",
   "id": "2dd4d584",
   "metadata": {},
   "source": [
    "#### 「人間性の得点」が高いが「ITスキルの得点」は平均値に近くて低い、もしくは「人間性の得点」は平均値に近くて低いが「ITスキルの得点」は高い、という合格者が多くなる."
   ]
  },
  {
   "cell_type": "markdown",
   "id": "12381fdb",
   "metadata": {},
   "source": [
    "#### 図1.2.5の右側の通り、合格者の「人間性の得点」変数xと「ITスキルの得点」変数yには負の相関関係が現れる."
   ]
  },
  {
   "cell_type": "markdown",
   "id": "d82cef30",
   "metadata": {},
   "source": [
    "#### つまりこのIT企業の合格者は、「人間性」の高い人は「ITスキル」が低い傾向にあり、逆に「ITスキル」の高い人は「人間性」が低い傾向になると今回のケースではいえる."
   ]
  },
  {
   "cell_type": "markdown",
   "id": "592661d4",
   "metadata": {},
   "source": [
    "### 合流点での選抜 : 2つの変数の合計を評価するといった操作のこと.\n",
    "### 合流点での選別 : 関係性がなく独立な複数の変数で、相関関係はないが、合流点で選抜されたデータに相関関係が生まれること."
   ]
  },
  {
   "cell_type": "markdown",
   "id": "b774e8c6",
   "metadata": {},
   "source": [
    "![alt text](pict8.png)"
   ]
  },
  {
   "cell_type": "markdown",
   "id": "d0ed2d3b",
   "metadata": {},
   "source": [
    "### 2つの変数(事象)の間に相関関係が見られたからといって、そこに因果関係があるとは限らない.\n",
    "### 因果関係を考える際には、疑似相関に騙されないように気をつける必要がある."
   ]
  },
  {
   "cell_type": "markdown",
   "id": "9b62746f",
   "metadata": {},
   "source": [
    "## 1-3 Google Colaboratoryを用いたPythonプログラミング : 疑似相関の確認"
   ]
  },
  {
   "cell_type": "markdown",
   "id": "7be3dca7",
   "metadata": {},
   "source": [
    "### プログラム実行前の設定"
   ]
  },
  {
   "cell_type": "code",
   "execution_count": 2,
   "id": "28550e1a",
   "metadata": {},
   "outputs": [],
   "source": [
    "# 乱数のシードを固定\n",
    "import random\n",
    "import numpy as np\n",
    "\n",
    "random.seed(1234)\n",
    "np.random.seed(1234)"
   ]
  },
  {
   "cell_type": "code",
   "execution_count": 3,
   "id": "1e3be2c8",
   "metadata": {},
   "outputs": [],
   "source": [
    "# 使用するパッケージ（ライブラリと関数）を定義\n",
    "# SciPy 平均0、分散1に正規化（標準化）関数\n",
    "import scipy.stats\n",
    "\n",
    "# 標準正規分布の生成用\n",
    "from numpy.random import randn\n",
    "\n",
    "# グラフの描画用\n",
    "import matplotlib.pyplot as plt\n",
    "%matplotlib inline"
   ]
  },
  {
   "cell_type": "markdown",
   "id": "2a54ed73",
   "metadata": {},
   "source": [
    "### ZからYへ因果が存在する場合"
   ]
  },
  {
   "cell_type": "markdown",
   "id": "63f2d0ce",
   "metadata": {},
   "source": [
    "![alt text](pict9.png)"
   ]
  },
  {
   "cell_type": "code",
   "execution_count": 4,
   "id": "5c36eada",
   "metadata": {},
   "outputs": [],
   "source": [
    "# ノイズの生成\n",
    "num_data = 200\n",
    "e_z = randn(num_data)\n",
    "e_y = randn(num_data)\n",
    "# データの生成\n",
    "Z = e_z\n",
    "Y = 2*Z + e_y"
   ]
  },
  {
   "cell_type": "code",
   "execution_count": 5,
   "id": "31898f4b",
   "metadata": {},
   "outputs": [
    {
     "data": {
      "text/plain": [
       "array([[1.        , 0.89379611],\n",
       "       [0.89379611, 1.        ]])"
      ]
     },
     "execution_count": 5,
     "metadata": {},
     "output_type": "execute_result"
    }
   ],
   "source": [
    "# 相関係数を求める\n",
    "np.corrcoef(Z, Y)"
   ]
  },
  {
   "cell_type": "code",
   "execution_count": 6,
   "id": "6378c727",
   "metadata": {},
   "outputs": [
    {
     "data": {
      "text/plain": [
       "<matplotlib.collections.PathCollection at 0x763d06e8c440>"
      ]
     },
     "execution_count": 6,
     "metadata": {},
     "output_type": "execute_result"
    },
    {
     "data": {
      "image/png": "[encoded data removed]",
      "text/plain": [
       "<Figure size 640x480 with 1 Axes>"
      ]
     },
     "metadata": {},
     "output_type": "display_data"
    }
   ],
   "source": [
    "# 標準化\n",
    "Z_std = scipy.stats.zscore(Z)\n",
    "Y_std = scipy.stats.zscore(Y)\n",
    "\n",
    "# 散布図を描画\n",
    "plt.scatter(Z_std, Y_std)"
   ]
  },
  {
   "cell_type": "markdown",
   "id": "8742c86d",
   "metadata": {},
   "source": [
    "### 1.疑似相関 : 因果が逆"
   ]
  },
  {
   "cell_type": "code",
   "execution_count": 7,
   "id": "173d18ab",
   "metadata": {},
   "outputs": [
    {
     "data": {
      "text/plain": [
       "array([[1.        , 0.90390263],\n",
       "       [0.90390263, 1.        ]])"
      ]
     },
     "execution_count": 7,
     "metadata": {},
     "output_type": "execute_result"
    }
   ],
   "source": [
    "# ノイズの生成\n",
    "num_data = 200\n",
    "e_z = randn(num_data)\n",
    "e_y = randn(num_data)\n",
    "\n",
    "# データの生成\n",
    "Y = e_y\n",
    "Z = 2*Y + e_z\n",
    "\n",
    "# 相関係数を求める\n",
    "np.corrcoef(Z, Y)"
   ]
  },
  {
   "cell_type": "markdown",
   "id": "40e4ab74",
   "metadata": {},
   "source": [
    "#### 実装コードを確認すると、まずYを作成し、YをもとにZを作成しているので、因果関係はYからZです."
   ]
  },
  {
   "cell_type": "code",
   "execution_count": 8,
   "id": "b24ff18d",
   "metadata": {},
   "outputs": [
    {
     "data": {
      "text/plain": [
       "<matplotlib.collections.PathCollection at 0x763d06cbafd0>"
      ]
     },
     "execution_count": 8,
     "metadata": {},
     "output_type": "execute_result"
    },
    {
     "data": {
      "image/png": "[encoded data removed]",
      "text/plain": [
       "<Figure size 640x480 with 1 Axes>"
      ]
     },
     "metadata": {},
     "output_type": "display_data"
    }
   ],
   "source": [
    "# 標準化\n",
    "Z_std = scipy.stats.zscore(Z)\n",
    "Y_std = scipy.stats.zscore(Y)\n",
    "\n",
    "# 散布図を描画\n",
    "plt.scatter(Z_std, Y_std)"
   ]
  },
  {
   "cell_type": "markdown",
   "id": "52a844f9",
   "metadata": {},
   "source": [
    "#### このグラフから、「因果関係が逆であっても、相関関係が大きい場合がある(疑似相関)」、そして「データからの見た目から因果関係の向きが分からない」ということがわかる."
   ]
  },
  {
   "cell_type": "markdown",
   "id": "5a3fd5d4",
   "metadata": {},
   "source": [
    "### 2.疑似相関 : 共通の因子(交絡)"
   ]
  },
  {
   "cell_type": "code",
   "execution_count": 9,
   "id": "5f82fb43",
   "metadata": {},
   "outputs": [
    {
     "data": {
      "text/plain": [
       "array([[1.        , 0.90572419],\n",
       "       [0.90572419, 1.        ]])"
      ]
     },
     "execution_count": 9,
     "metadata": {},
     "output_type": "execute_result"
    }
   ],
   "source": [
    "# ノイズの生成\n",
    "num_data = 200\n",
    "e_x = randn(num_data)\n",
    "e_y = randn(num_data)\n",
    "e_z = randn(num_data)\n",
    "\n",
    "# データの生成\n",
    "Z = 3.3*e_x + e_z\n",
    "Y = 3.3*e_x + e_y\n",
    "\n",
    "# 相関係数を求める\n",
    "np.corrcoef(Z, Y)"
   ]
  },
  {
   "cell_type": "markdown",
   "id": "4786723c",
   "metadata": {},
   "source": [
    "#### 変数Zと変数Yを計算するときには、お互いに変数Yと変数Zを含んでいない.\n",
    "#### しかし、変数Zと変数Yの相関係数は約0.9であり、変数間にはまったく因果関係がないにも関わらず、高い相関係数が確認できる."
   ]
  },
  {
   "cell_type": "code",
   "execution_count": 10,
   "id": "be3b2ad1",
   "metadata": {},
   "outputs": [
    {
     "data": {
      "text/plain": [
       "<matplotlib.collections.PathCollection at 0x763d06d3ccd0>"
      ]
     },
     "execution_count": 10,
     "metadata": {},
     "output_type": "execute_result"
    },
    {
     "data": {
      "image/png": "[encoded data removed]",
      "text/plain": [
       "<Figure size 640x480 with 1 Axes>"
      ]
     },
     "metadata": {},
     "output_type": "display_data"
    }
   ],
   "source": [
    "# 標準化\n",
    "Z_std = scipy.stats.zscore(Z)\n",
    "Y_std = scipy.stats.zscore(Y)\n",
    "\n",
    "# 散布図を描画\n",
    "plt.scatter(Z_std, Y_std)"
   ]
  },
  {
   "cell_type": "markdown",
   "id": "f49f402b",
   "metadata": {},
   "source": [
    "#### このグラフからも、「変数の間に直接的因果関係がなくても、共通変数がある場合には共通変数(交絡因子)から間接的な因果関係が生まれ、相関係数が大きくなる場合がある(疑似相関)」、そして「データの見た目からは直接的な因果関係の有無は分からない」ということが分かる."
   ]
  },
  {
   "cell_type": "markdown",
   "id": "be85f9bc",
   "metadata": {},
   "source": [
    "### 3.疑似相関 : 合流点での選抜"
   ]
  },
  {
   "cell_type": "markdown",
   "id": "00f66dd2",
   "metadata": {},
   "source": [
    "#### まず、選抜前のデータを作成し、描画する."
   ]
  },
  {
   "cell_type": "code",
   "execution_count": 11,
   "id": "72927094",
   "metadata": {},
   "outputs": [
    {
     "data": {
      "text/plain": [
       "<matplotlib.collections.PathCollection at 0x763d04b3a710>"
      ]
     },
     "execution_count": 11,
     "metadata": {},
     "output_type": "execute_result"
    },
    {
     "data": {
      "image/png": "[encoded data removed]",
      "text/plain": [
       "<Figure size 640x480 with 1 Axes>"
      ]
     },
     "metadata": {},
     "output_type": "display_data"
    }
   ],
   "source": [
    "# ノイズの生成\n",
    "num_data = 600\n",
    "e_x = randn(num_data)\n",
    "e_y = randn(num_data)\n",
    "\n",
    "# データの生成 1\n",
    "x = e_x\n",
    "y = e_y\n",
    "\n",
    "# 散布図を描画\n",
    "plt.scatter(x, y)"
   ]
  },
  {
   "cell_type": "markdown",
   "id": "d3110c13",
   "metadata": {},
   "source": [
    "#### 上の図は単純に正規分布に従う変数xと変数yをそれぞれ独立に生成し、プロットしたものになる."
   ]
  },
  {
   "cell_type": "code",
   "execution_count": 12,
   "id": "a8336266",
   "metadata": {},
   "outputs": [
    {
     "data": {
      "text/plain": [
       "array([[1.        , 0.00996848],\n",
       "       [0.00996848, 1.        ]])"
      ]
     },
     "execution_count": 12,
     "metadata": {},
     "output_type": "execute_result"
    }
   ],
   "source": [
    "# 相関係数を求める\n",
    "np.corrcoef(x, y)"
   ]
  },
  {
   "cell_type": "markdown",
   "id": "5808a930",
   "metadata": {},
   "source": [
    "#### 続いて、合流点での選抜を行うプログラムを実装する. 新たに変数z=x+yを作成し(合流点を作成)、その値が0以上のみを選抜し、選抜された後のデータをプロットする."
   ]
  },
  {
   "cell_type": "code",
   "execution_count": 13,
   "id": "f2247ab8",
   "metadata": {},
   "outputs": [
    {
     "data": {
      "text/plain": [
       "<matplotlib.collections.PathCollection at 0x763d04bd1090>"
      ]
     },
     "execution_count": 13,
     "metadata": {},
     "output_type": "execute_result"
    },
    {
     "data": {
      "image/png": "[encoded data removed]",
      "text/plain": [
       "<Figure size 640x480 with 1 Axes>"
      ]
     },
     "metadata": {},
     "output_type": "display_data"
    }
   ],
   "source": [
    "# 合流点を作成\n",
    "z = x + y\n",
    "\n",
    "# 新たな合流点での条件を満たす変数の用意\n",
    "x_new = np.array([])\n",
    "y_new = np.array([])\n",
    "\n",
    "# zの値が0以上で選抜してnew変数に追加（append）します\n",
    "for i in range(num_data):\n",
    "  if z[i] > 0.0:\n",
    "    x_new = np.append(x_new, x[i])\n",
    "    y_new = np.append(y_new, y[i])\n",
    "\n",
    "# 散布図を描画\n",
    "plt.scatter(x_new, y_new)"
   ]
  },
  {
   "cell_type": "markdown",
   "id": "a6916745",
   "metadata": {},
   "source": [
    "#### 上の図から、データが右斜め下方向へ分布しており、負の相関がありそうだと分かる."
   ]
  },
  {
   "cell_type": "code",
   "execution_count": 14,
   "id": "aebbff6a",
   "metadata": {},
   "outputs": [
    {
     "data": {
      "text/plain": [
       "array([[ 1.        , -0.48132747],\n",
       "       [-0.48132747,  1.        ]])"
      ]
     },
     "execution_count": 14,
     "metadata": {},
     "output_type": "execute_result"
    }
   ],
   "source": [
    "# 相関係数を求める\n",
    "np.corrcoef(x_new, y_new)"
   ]
  },
  {
   "cell_type": "markdown",
   "id": "94e02c06",
   "metadata": {},
   "source": [
    "#### 相関係数は約-0.48となり、負の相関が確かめられた.\n",
    "#### 選抜前は相関がなかった変数xと変数yだが、変数z=x+yの合流点を作成し、変数zの値に応じてデータを選抜することで、疑似相関の関係が生まれた.\n",
    "### このように元々因果関係も相関関係もなかった変数xと変数yだが、\"合流点で選抜\"という操作によって、変数xと変数yの間に直接的な因果関係がなくても、変数zを介して疑似相関が発生する."
   ]
  },
  {
   "cell_type": "markdown",
   "id": "6a7609c2",
   "metadata": {},
   "source": [
    "#### 次の第2章では、因果推論を実施するにあたり必要となる用語や概念、および本書で使用する数学記号などについて解説する."
   ]
  }
 ],
 "metadata": {
  "kernelspec": {
   "display_name": "myenv",
   "language": "python",
   "name": "python3"
  },
  "language_info": {
   "codemirror_mode": {
    "name": "ipython",
    "version": 3
   },
   "file_extension": ".py",
   "mimetype": "text/x-python",
   "name": "python",
   "nbconvert_exporter": "python",
   "pygments_lexer": "ipython3",
   "version": "3.13.3"
  }
 },
 "nbformat": 4,
 "nbformat_minor": 5
}
