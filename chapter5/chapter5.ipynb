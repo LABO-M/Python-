{
 "cells": [
  {
   "cell_type": "markdown",
   "id": "266bfa72",
   "metadata": {},
   "source": [
    "# 第5章 機械学習を用いた因果推論"
   ]
  },
  {
   "cell_type": "markdown",
   "id": "bb2af206",
   "metadata": {},
   "source": [
    "#### ・本章では、非線形で変数間に相互作用のある因果関係における処置の効果の推定手法に関して、機械学習を用いた因果推論について取り扱う ."
   ]
  },
  {
   "cell_type": "markdown",
   "id": "ebf4ac7f",
   "metadata": {},
   "source": [
    "## 5-1 ランダムフォレストによる分類と回帰のしくみ"
   ]
  },
  {
   "cell_type": "markdown",
   "id": "7336288c",
   "metadata": {},
   "source": [
    "## 決定木による分類"
   ]
  },
  {
   "cell_type": "markdown",
   "id": "1c721222",
   "metadata": {},
   "source": [
    "#### ・決定木分析 : データを基に決定木と呼ばれる樹形図を作成し、分析を行う方法のこと ."
   ]
  },
  {
   "cell_type": "markdown",
   "id": "3892ca3c",
   "metadata": {},
   "source": [
    "#### ・今回構築したいモデルは、とある「iさん」が[テレビCMを見た]かどうか、すなわち処置を受けたかどうかを示す値$Z^i$が0なのか1なのかを分類予測する機械学習モデル ."
   ]
  },
  {
   "cell_type": "markdown",
   "id": "00b9edc7",
   "metadata": {},
   "source": [
    "#### これは第4章で解説した傾向スコアを求めるロジスティック回帰の代替となる ."
   ]
  },
  {
   "cell_type": "markdown",
   "id": "ad37063b",
   "metadata": {},
   "source": [
    "#### ・予測したい変数$Z$を目的変数、もしくは被説明変数と呼び、今回予測に使用するのは年齢変数$x_1$と性別変数$x_2$とする ."
   ]
  },
  {
   "cell_type": "markdown",
   "id": "95022e5b",
   "metadata": {},
   "source": [
    "#### この予測に使用する変数を特徴量、もしくは説明変数と呼ぶ ."
   ]
  },
  {
   "cell_type": "markdown",
   "id": "2b6c1dc4",
   "metadata": {},
   "source": [
    "#### ・決定木では図5.1.1のような「説明変数の値に対する条件式」を構築し、各データがその条件式に対して、YesなのかNoなのかに応じて分岐させる ."
   ]
  },
  {
   "cell_type": "markdown",
   "id": "c692402c",
   "metadata": {},
   "source": [
    "#### この条件式での判定、分岐を繰り返し、最後に変数$Z$が1なのか0なのかを決定する ."
   ]
  },
  {
   "cell_type": "markdown",
   "id": "66e2fb9b",
   "metadata": {},
   "source": [
    "#### 分岐させた先を「ノード」という ."
   ]
  },
  {
   "cell_type": "markdown",
   "id": "694452b9",
   "metadata": {},
   "source": [
    "#### ・図5.1.1のように、決定木はif文の連続で記載されるルールベースの手法となる .　ただし、この条件式のルールを作成する際に工夫が行われる ."
   ]
  },
  {
   "cell_type": "markdown",
   "id": "1bb6e514",
   "metadata": {},
   "source": [
    "![alt text](pict1.png)"
   ]
  },
  {
   "cell_type": "markdown",
   "id": "3e90a5c6",
   "metadata": {},
   "source": [
    "#### ・分類の決定木において条件式を作成するにあたり、「ジニ不純度」と呼ばれる指標を使用する .　ジニ不純度$I(t)$を式で表すと、"
   ]
  },
  {
   "cell_type": "markdown",
   "id": "b2167b51",
   "metadata": {},
   "source": [
    "$$\n",
    "I(t) = 1 - \\sum_{l=0}^{c} P(l \\mid t)^2\n",
    "$$ "
   ]
  },
  {
   "cell_type": "markdown",
   "id": "799c8883",
   "metadata": {},
   "source": [
    "#### となる。$l$はとあるラベルを表し、ここでは$Z = 0$ か $Z = 1$のどちらかである ."
   ]
  },
  {
   "cell_type": "markdown",
   "id": "221cc44c",
   "metadata": {},
   "source": [
    "#### $C$はラベル$l$の総種類数(すなわちクラス数)を示し、テレビCMの視聴のケースではクラス数は2となる ."
   ]
  },
  {
   "cell_type": "markdown",
   "id": "8fc4f0ee",
   "metadata": {},
   "source": [
    "#### $P(l|t)$はノード$t$にあるデータがラベル$l$である確率、すなわちデータの割合を示す ."
   ]
  },
  {
   "cell_type": "markdown",
   "id": "74591896",
   "metadata": {},
   "source": [
    "#### ・仮に1つの条件式で$Z = 0$ と $Z = 1$が完全に分離できていると、ノード$t$(条件式でYesのノードとNoのノードの2つ)のジニ不純度はともに0となる ."
   ]
  },
  {
   "cell_type": "markdown",
   "id": "34066145",
   "metadata": {},
   "source": [
    "#### ・ジニ不純度の導入は、できるだけ訓練データが変数$Z$で分離できている状態(すなわち純度が高い状態)を目指すために行う ."
   ]
  },
  {
   "cell_type": "markdown",
   "id": "c15941fa",
   "metadata": {},
   "source": [
    "#### 一番純度が高くなる条件式とは、その条件式1つで訓練データのすべてが$Z = 0$ と $Z = 1$に分離できる条件式のこと . "
   ]
  },
  {
   "cell_type": "markdown",
   "id": "82f124db",
   "metadata": {},
   "source": [
    "#### しかし、そのような条件式は実際には構築できないので、1つの条件式で分離した際に、"
   ]
  },
  {
   "cell_type": "code",
   "execution_count": null,
   "id": "11b575f7",
   "metadata": {
    "vscode": {
     "languageId": "plaintext"
    }
   },
   "outputs": [],
   "source": []
  },
  {
   "cell_type": "markdown",
   "id": "3174e53c",
   "metadata": {},
   "source": []
  },
  {
   "cell_type": "markdown",
   "id": "0f7f53e6",
   "metadata": {},
   "source": []
  },
  {
   "cell_type": "markdown",
   "id": "bf79692f",
   "metadata": {},
   "source": []
  },
  {
   "cell_type": "markdown",
   "id": "2c051c63",
   "metadata": {},
   "source": []
  },
  {
   "cell_type": "markdown",
   "id": "2897a39a",
   "metadata": {},
   "source": []
  },
  {
   "cell_type": "markdown",
   "id": "3b58017d",
   "metadata": {},
   "source": []
  },
  {
   "cell_type": "markdown",
   "id": "fe84af50",
   "metadata": {},
   "source": []
  },
  {
   "cell_type": "markdown",
   "id": "a52ee980",
   "metadata": {},
   "source": []
  },
  {
   "cell_type": "markdown",
   "id": "9a124181",
   "metadata": {},
   "source": []
  },
  {
   "cell_type": "markdown",
   "id": "befd5681",
   "metadata": {},
   "source": []
  },
  {
   "cell_type": "markdown",
   "id": "6cd1e323",
   "metadata": {},
   "source": []
  },
  {
   "cell_type": "markdown",
   "id": "ad7e8896",
   "metadata": {},
   "source": []
  },
  {
   "cell_type": "markdown",
   "id": "b0e4c808",
   "metadata": {},
   "source": []
  },
  {
   "cell_type": "markdown",
   "id": "9d452350",
   "metadata": {},
   "source": []
  },
  {
   "cell_type": "markdown",
   "id": "8a76314b",
   "metadata": {},
   "source": []
  },
  {
   "cell_type": "markdown",
   "id": "69d8542c",
   "metadata": {},
   "source": []
  },
  {
   "cell_type": "markdown",
   "id": "c0514d79",
   "metadata": {},
   "source": []
  },
  {
   "cell_type": "markdown",
   "id": "ec1f1150",
   "metadata": {},
   "source": []
  },
  {
   "cell_type": "markdown",
   "id": "1288638a",
   "metadata": {},
   "source": []
  },
  {
   "cell_type": "markdown",
   "id": "f69e76e8",
   "metadata": {},
   "source": []
  }
 ],
 "metadata": {
  "language_info": {
   "name": "python"
  }
 },
 "nbformat": 4,
 "nbformat_minor": 5
}
