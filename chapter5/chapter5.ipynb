{
 "cells": [
  {
   "cell_type": "markdown",
   "id": "266bfa72",
   "metadata": {},
   "source": [
    "# 第5章 機械学習を用いた因果推論"
   ]
  },
  {
   "cell_type": "markdown",
   "id": "bb2af206",
   "metadata": {},
   "source": [
    "#### ・本章では、非線形で変数間に相互作用のある因果関係における処置の効果の推定手法に関して、機械学習を用いた因果推論について取り扱う ."
   ]
  },
  {
   "cell_type": "markdown",
   "id": "ebf4ac7f",
   "metadata": {},
   "source": [
    "## 5-1 ランダムフォレストによる分類と回帰のしくみ"
   ]
  },
  {
   "cell_type": "markdown",
   "id": "7336288c",
   "metadata": {},
   "source": [
    "## 決定木による分類"
   ]
  },
  {
   "cell_type": "markdown",
   "id": "1c721222",
   "metadata": {},
   "source": [
    "#### ・決定木分析 : データを基に決定木と呼ばれる樹形図を作成し、分析を行う方法のこと ."
   ]
  },
  {
   "cell_type": "markdown",
   "id": "3892ca3c",
   "metadata": {},
   "source": [
    "#### ・今回構築したいモデルは、とある「iさん」が[テレビCMを見た]かどうか、すなわち処置を受けたかどうかを示す値$Z^i$が0なのか1なのかを分類予測する機械学習モデル ."
   ]
  },
  {
   "cell_type": "markdown",
   "id": "00b9edc7",
   "metadata": {},
   "source": [
    "#### これは第4章で解説した傾向スコアを求めるロジスティック回帰の代替となる ."
   ]
  },
  {
   "cell_type": "markdown",
   "id": "ad37063b",
   "metadata": {},
   "source": [
    "#### ・予測したい変数$Z$を目的変数、もしくは被説明変数と呼び、今回予測に使用するのは年齢変数$x_1$と性別変数$x_2$とする ."
   ]
  },
  {
   "cell_type": "markdown",
   "id": "95022e5b",
   "metadata": {},
   "source": [
    "#### この予測に使用する変数を特徴量、もしくは説明変数と呼ぶ ."
   ]
  },
  {
   "cell_type": "markdown",
   "id": "2b6c1dc4",
   "metadata": {},
   "source": [
    "#### ・決定木では図5.1.1のような「説明変数の値に対する条件式」を構築し、各データがその条件式に対して、YesなのかNoなのかに応じて分岐させる ."
   ]
  },
  {
   "cell_type": "markdown",
   "id": "c692402c",
   "metadata": {},
   "source": [
    "#### この条件式での判定、分岐を繰り返し、最後に変数$Z$が1なのか0なのかを決定する ."
   ]
  },
  {
   "cell_type": "markdown",
   "id": "66e2fb9b",
   "metadata": {},
   "source": [
    "#### 分岐させた先を「ノード」という ."
   ]
  },
  {
   "cell_type": "markdown",
   "id": "694452b9",
   "metadata": {},
   "source": [
    "#### ・図5.1.1のように、決定木はif文の連続で記載されるルールベースの手法となる .　ただし、この条件式のルールを作成する際に工夫が行われる ."
   ]
  },
  {
   "cell_type": "markdown",
   "id": "1bb6e514",
   "metadata": {},
   "source": [
    "![alt text](pict1.png)"
   ]
  },
  {
   "cell_type": "markdown",
   "id": "3e90a5c6",
   "metadata": {},
   "source": [
    "#### ・分類の決定木において条件式を作成するにあたり、「ジニ不純度」と呼ばれる指標を使用する .　ジニ不純度$I(t)$を式で表すと、"
   ]
  },
  {
   "cell_type": "markdown",
   "id": "b2167b51",
   "metadata": {},
   "source": []
  },
  {
   "cell_type": "markdown",
   "id": "799c8883",
   "metadata": {},
   "source": []
  },
  {
   "cell_type": "markdown",
   "id": "221cc44c",
   "metadata": {},
   "source": []
  },
  {
   "cell_type": "markdown",
   "id": "8fc4f0ee",
   "metadata": {},
   "source": []
  },
  {
   "cell_type": "markdown",
   "id": "74591896",
   "metadata": {},
   "source": []
  },
  {
   "cell_type": "markdown",
   "id": "34066145",
   "metadata": {},
   "source": []
  },
  {
   "cell_type": "markdown",
   "id": "ec1f1150",
   "metadata": {},
   "source": []
  },
  {
   "cell_type": "markdown",
   "id": "1288638a",
   "metadata": {},
   "source": []
  },
  {
   "cell_type": "markdown",
   "id": "f69e76e8",
   "metadata": {},
   "source": []
  }
 ],
 "metadata": {
  "language_info": {
   "name": "python"
  }
 },
 "nbformat": 4,
 "nbformat_minor": 5
}
