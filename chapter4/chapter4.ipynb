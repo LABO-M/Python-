{
 "cells": [
  {
   "cell_type": "markdown",
   "id": "3ed84d99",
   "metadata": {},
   "source": [
    "# 第4章 因果推論を実装しよう"
   ]
  },
  {
   "cell_type": "markdown",
   "id": "e0a69796",
   "metadata": {},
   "source": [
    "#### ・本章では、因果の大きさを推定する、すなわち因果推論を実施する手法として、回帰分析、IPTW法、DR法について解説、実装する ."
   ]
  },
  {
   "cell_type": "markdown",
   "id": "cf0e2ea9",
   "metadata": {},
   "source": [
    "## 4-1 回帰分析による因果推論の実装"
   ]
  },
  {
   "cell_type": "markdown",
   "id": "198804e2",
   "metadata": {},
   "source": [
    "## 回帰モデルの導出"
   ]
  },
  {
   "cell_type": "markdown",
   "id": "8872894c",
   "metadata": {},
   "source": [
    "#### ・回帰分析による因果推論では、入力変数を与えたときに出力変数の値を求めるモデルを構築する ."
   ]
  },
  {
   "cell_type": "markdown",
   "id": "768ec16b",
   "metadata": {},
   "source": [
    "#### ・回帰モデルの入力変数 : バックドアパスを閉じるように因果ダイアグラムをd分離したあとに残っている変数のみを使用 ."
   ]
  },
  {
   "cell_type": "markdown",
   "id": "e6f0c72e",
   "metadata": {},
   "source": [
    "#### ・回帰モデルの出力変数 : 因果効果が表れる変数 ."
   ]
  },
  {
   "cell_type": "markdown",
   "id": "b48c1340",
   "metadata": {},
   "source": [
    "#### ・回帰分析による因果推論を英語では regression adjustment と呼ぶ ."
   ]
  },
  {
   "cell_type": "markdown",
   "id": "2b8d5cb0",
   "metadata": {},
   "source": [
    "#### ・因果推論したいモデルとして、以下のテレビCM効果の架空事例を想定し、この因果ダイアグラムからテレビCM効果を推定する ."
   ]
  },
  {
   "cell_type": "markdown",
   "id": "fb98758d",
   "metadata": {},
   "source": [
    "![alt text](pict1.png)"
   ]
  },
  {
   "cell_type": "markdown",
   "id": "80cf70b1",
   "metadata": {},
   "source": [
    "#### ・図4.1.1の年齢を変数$x_1$、性別を変数$x_2$として表し、とある「iさん」の年齢と性別は、$x^i_1$ , $x^i_2$と表すことにする ."
   ]
  },
  {
   "cell_type": "markdown",
   "id": "01220621",
   "metadata": {},
   "source": [
    "#### ・とある「iさん」が[テレビCMを見た]かどうか、すなわち処置を受けたかどうかを$Z^i$と記載する ."
   ]
  },
  {
   "cell_type": "markdown",
   "id": "38500286",
   "metadata": {},
   "source": [
    "#### テレビCMを見た場合は $Z^i$ = 1 となり、$Z^i_1$と記載する .　テレビCMを見ていない場合は $Z^i$ = 0 となり、$Z^i_0$と記載する ."
   ]
  },
  {
   "cell_type": "markdown",
   "id": "dfb4b2d1",
   "metadata": {},
   "source": [
    "#### この変数$Z$のように、処置を受けたなどを示す変数は\"原因変数\"とも呼ばれる ."
   ]
  },
  {
   "cell_type": "markdown",
   "id": "27108733",
   "metadata": {},
   "source": [
    "#### ・次に、とある「iさん」の商品の購入量(連続変数)を$Y^i$と記載する ."
   ]
  },
  {
   "cell_type": "markdown",
   "id": "54a6edac",
   "metadata": {},
   "source": [
    "#### $Z^i$ = 1 の場合は$Y^i_1$と記載し、$Z^i$ = 0 の場合は$Y^i_0$と記載する ."
   ]
  },
  {
   "cell_type": "markdown",
   "id": "9f7ea66c",
   "metadata": {},
   "source": [
    "#### $Y$のような、処置による結果が現れる変数は\"結果変数\"とも呼ばれる ."
   ]
  },
  {
   "cell_type": "markdown",
   "id": "7c21cb19",
   "metadata": {},
   "source": [
    "#### ・図4.1.1では年齢変数$x_1$と性別変数$x_2$は、変数$Z$と変数$Y$の間に疑似相関を生む交絡因子(共通因子)である .　そのためd分離するには変数$x_1$と変数$x_2$を考慮する ."
   ]
  },
  {
   "cell_type": "markdown",
   "id": "ae266bc0",
   "metadata": {},
   "source": [
    "#### これは感覚的には、d分離した後に残っている変数(共変量)を考慮して、結果変数を求めるという操作である ."
   ]
  },
  {
   "cell_type": "markdown",
   "id": "a4b13afa",
   "metadata": {},
   "source": [
    "#### ・この場合、具体的には以下のような2つの式を立てる ."
   ]
  },
  {
   "cell_type": "markdown",
   "id": "0dae3b58",
   "metadata": {},
   "source": [
    "$$\n",
    "Y^i_1 = f_1(Z^i,x^i_1,x^i_2)\n",
    "$$\n",
    "$$\n",
    "Y^i_0 = f_0(Z^i,x^i_1,x^i_2)\n",
    "$$"
   ]
  },
  {
   "cell_type": "markdown",
   "id": "98a6d6c4",
   "metadata": {},
   "source": [
    "#### ・ここで、本説の例では結果変数$Y$が連続値なので、上記の$f()$には線型回帰を利用する ."
   ]
  },
  {
   "cell_type": "markdown",
   "id": "8f74b74b",
   "metadata": {},
   "source": [
    "#### 結果変数$Y$が離散値(カテゴリー変数)であった場合にはロジスティック回帰を使用する ."
   ]
  },
  {
   "cell_type": "markdown",
   "id": "678e7e82",
   "metadata": {},
   "source": [
    "#### ・ここで、性別を示す変数$x_2$はカテゴリー変数であり、女性の場合を0、男性の場合を１とする ."
   ]
  },
  {
   "cell_type": "markdown",
   "id": "0a84faf7",
   "metadata": {},
   "source": [
    "#### 年齢を示す変数$x_1$は連続的な整数値となる ."
   ]
  },
  {
   "cell_type": "markdown",
   "id": "c6ca1666",
   "metadata": {},
   "source": [
    "#### ・線型回帰モデルの形で上式を書き直すと、下のようになる ."
   ]
  },
  {
   "cell_type": "markdown",
   "id": "a9a2b7ec",
   "metadata": {},
   "source": [
    "$$\n",
    "Y^i_1 = b_{z1}Z^i_1 + b_1x^i_1 + b_2x^i_2 + b_0 = b_z × 1 + b_1x^i_1 + b_2x^i_2 + b_0\n",
    "$$\n",
    "$$\n",
    "Y^i_0 = b_{z0}Z^i_0 + b_1x^i_1 + b_2x^i_2 + b_0 = b_z × 0 + b_1x^i_1 + b_2x^i_2 + b_0\n",
    "$$"
   ]
  },
  {
   "cell_type": "markdown",
   "id": "4ee87b1e",
   "metadata": {},
   "source": [
    "#### ここで、変数$b$は各係数を示し、$b_0$はバイアス項である .　上記において処置の変数$Z$は0か1の2値であり、$b_{z0}$にかかる$Z^i_0$が0より、$b_{z1}$ = $b_{z0}$ = $b_z$ と書いても問題ない ."
   ]
  },
  {
   "cell_type": "markdown",
   "id": "f191ec46",
   "metadata": {},
   "source": [
    "#### ・その結果、関数$f_0$と関数$f_1$は同一になり、回帰モデルは最終的に以下のようになる ."
   ]
  },
  {
   "cell_type": "markdown",
   "id": "cc47ea74",
   "metadata": {},
   "source": [
    "$$\n",
    "Y^i = b_zZ^i + b_1x^i_1 + b_2x^i_2 + b_0\n",
    "$$"
   ]
  },
  {
   "cell_type": "markdown",
   "id": "0e0f1365",
   "metadata": {},
   "source": [
    "#### あとは実際のデータからこのモデルの係数$b_z$,$b_1$,$b_2$,$b_0$を求めればよい ."
   ]
  },
  {
   "cell_type": "markdown",
   "id": "deeb88e8",
   "metadata": {},
   "source": [
    "## 回帰モデルの実装"
   ]
  },
  {
   "cell_type": "markdown",
   "id": "df8e5ea5",
   "metadata": {},
   "source": [
    "#### ・本節では、テレビCM効果を確かめる疑似ケースの実装を行う ."
   ]
  },
  {
   "cell_type": "markdown",
   "id": "0a14fe24",
   "metadata": {},
   "source": [
    "#### 回帰モデルを求める際に、Pythonの機械学習ライブラリであるscikit-learnを使用する ."
   ]
  },
  {
   "cell_type": "code",
   "execution_count": 1,
   "id": "eeefc931",
   "metadata": {},
   "outputs": [],
   "source": [
    "# 乱数のシードを設定\n",
    "import random\n",
    "import numpy as np\n",
    "\n",
    "np.random.seed(1234)\n",
    "random.seed(1234)"
   ]
  },
  {
   "cell_type": "code",
   "execution_count": 3,
   "id": "9c8712fc",
   "metadata": {},
   "outputs": [],
   "source": [
    "# 使用するパッケージ（ライブラリと関数）を定義\n",
    "# 標準正規分布の生成用\n",
    "from numpy.random import *\n",
    "\n",
    "# グラフの描画用\n",
    "import matplotlib.pyplot as plt\n",
    "\n",
    "# SciPy 平均0、分散1に正規化（標準化）関数\n",
    "import scipy.stats\n",
    "\n",
    "# シグモイド関数をimport\n",
    "from scipy.special import expit\n",
    "\n",
    "# その他\n",
    "import pandas as pd"
   ]
  },
  {
   "cell_type": "markdown",
   "id": "87e413dd",
   "metadata": {},
   "source": [
    "#### ・はじめに疑似データを作成する ."
   ]
  },
  {
   "cell_type": "markdown",
   "id": "a452b06d",
   "metadata": {},
   "source": [
    "#### 年齢変数$x_1$は15歳から75歳の一様分布に従うとする .　性別変数$x_2$は0を女性、1を男性とし、50%の確率で男性か女性とする ."
   ]
  },
  {
   "cell_type": "code",
   "execution_count": 4,
   "id": "b07625e3",
   "metadata": {},
   "outputs": [],
   "source": [
    "# データ数\n",
    "num_data = 200\n",
    "\n",
    "# 年齢\n",
    "x_1 = randint(15, 76, num_data)  # 15から75歳の一様乱数\n",
    "\n",
    "# 性別（0を女性、1を男性とします）\n",
    "x_2 = randint(0, 2, num_data)  # 0か1の乱数"
   ]
  },
  {
   "cell_type": "markdown",
   "id": "6e2cc5b4",
   "metadata": {},
   "source": [
    "#### ・次にテレビCMを見たかどうかを決める ."
   ]
  },
  {
   "cell_type": "markdown",
   "id": "8f10b79a",
   "metadata": {},
   "source": [
    "#### 年齢$x_1$が高いほど、そして性別$x_2$が"
   ]
  },
  {
   "cell_type": "markdown",
   "id": "5ad55d8c",
   "metadata": {},
   "source": []
  },
  {
   "cell_type": "markdown",
   "id": "8516bcea",
   "metadata": {},
   "source": []
  },
  {
   "cell_type": "markdown",
   "id": "265c119a",
   "metadata": {},
   "source": []
  },
  {
   "cell_type": "markdown",
   "id": "d25030fd",
   "metadata": {},
   "source": []
  },
  {
   "cell_type": "markdown",
   "id": "ae0fd94b",
   "metadata": {},
   "source": []
  },
  {
   "cell_type": "markdown",
   "id": "0b90e432",
   "metadata": {},
   "source": []
  },
  {
   "cell_type": "markdown",
   "id": "bd069f2e",
   "metadata": {},
   "source": []
  },
  {
   "cell_type": "markdown",
   "id": "f393cfdf",
   "metadata": {},
   "source": []
  },
  {
   "cell_type": "markdown",
   "id": "dadf3325",
   "metadata": {},
   "source": []
  },
  {
   "cell_type": "markdown",
   "id": "112ad647",
   "metadata": {},
   "source": [
    "## 回帰モデルの補足"
   ]
  },
  {
   "cell_type": "markdown",
   "id": "de6693b1",
   "metadata": {},
   "source": [
    "#### ・以下に示す図4.1.3のように、仮に結果変数$Y$にだけ効く別の変数$a$が観測できている場合、d分離する際に変数$a$を残す必要はない ."
   ]
  },
  {
   "cell_type": "markdown",
   "id": "681320cf",
   "metadata": {},
   "source": [
    "#### つまり、変数$a$は疑似相関、間接的因果を生み出していないが、変数$Y$の正確な回帰モデルを構築するために回帰モデルの入力変数として考慮する方が正確な因果推論が可能になる ."
   ]
  },
  {
   "cell_type": "markdown",
   "id": "8af0ed2a",
   "metadata": {},
   "source": [
    "![alt text](pict2.png)"
   ]
  },
  {
   "cell_type": "markdown",
   "id": "ce9cb582",
   "metadata": {},
   "source": [
    "## 4-2 傾向スコアを用いた逆確率重み付け法(IPTW)の実装"
   ]
  },
  {
   "cell_type": "markdown",
   "id": "85d3ecb3",
   "metadata": {},
   "source": [
    "#### ・傾向スコアと呼ばれる指標を使用した、逆確率重み付け法(IPTW : Inverse Probability of Treatment Weighting もしくは IPW)を解説・実装する ."
   ]
  },
  {
   "cell_type": "markdown",
   "id": "93fa9d1e",
   "metadata": {},
   "source": [
    "## 傾向スコアとは"
   ]
  },
  {
   "cell_type": "markdown",
   "id": "1ed5a375",
   "metadata": {},
   "source": [
    "#### ・傾向スコア(propensity score) : 処置を受ける確率に類する値、すなわち「処置を受ける傾向」を示す指標 ."
   ]
  },
  {
   "cell_type": "markdown",
   "id": "eb51f835",
   "metadata": {},
   "source": [
    "#### ・IPTW法 : 測定されたデータに対して、傾向スコアで結果を調整して、因果の効果を推定する手法 ."
   ]
  },
  {
   "cell_type": "markdown",
   "id": "abf9f226",
   "metadata": {},
   "source": [
    "#### ・はじめに傾向スコアについて解説する .　ここで、調整化公式を再掲する ."
   ]
  },
  {
   "cell_type": "markdown",
   "id": "0c3061a8",
   "metadata": {},
   "source": [
    "$$\n",
    "P(Y = y|do(Z = z)) = Σ_xP(Y = y|Z = z,X = x)P(X = x)\n",
    "$$"
   ]
  },
  {
   "cell_type": "markdown",
   "id": "5d55605e",
   "metadata": {},
   "source": [
    "#### ・この調整化公式の右辺は2つの項、$P(Y = y|Z = z,X = x)$ と P(X = x)の掛け算となっていて、取り扱いにくいという嫌な点がある ."
   ]
  },
  {
   "cell_type": "markdown",
   "id": "0df53941",
   "metadata": {},
   "source": []
  },
  {
   "cell_type": "markdown",
   "id": "2e88c69a",
   "metadata": {},
   "source": []
  },
  {
   "cell_type": "markdown",
   "id": "5e3c2352",
   "metadata": {},
   "source": []
  },
  {
   "cell_type": "markdown",
   "id": "5f1b2fac",
   "metadata": {},
   "source": []
  },
  {
   "cell_type": "markdown",
   "id": "074e290e",
   "metadata": {},
   "source": []
  },
  {
   "cell_type": "markdown",
   "id": "860df80c",
   "metadata": {},
   "source": []
  },
  {
   "cell_type": "markdown",
   "id": "3c301e84",
   "metadata": {},
   "source": []
  },
  {
   "cell_type": "markdown",
   "id": "dd22a981",
   "metadata": {},
   "source": []
  },
  {
   "cell_type": "markdown",
   "id": "53af6659",
   "metadata": {},
   "source": []
  },
  {
   "cell_type": "markdown",
   "id": "0a20441a",
   "metadata": {},
   "source": []
  },
  {
   "cell_type": "markdown",
   "id": "bf7045d6",
   "metadata": {},
   "source": []
  },
  {
   "cell_type": "markdown",
   "id": "ef01974e",
   "metadata": {},
   "source": []
  },
  {
   "cell_type": "markdown",
   "id": "893879c0",
   "metadata": {},
   "source": []
  },
  {
   "cell_type": "markdown",
   "id": "5a0656ff",
   "metadata": {},
   "source": []
  },
  {
   "cell_type": "markdown",
   "id": "8d352afe",
   "metadata": {},
   "source": []
  },
  {
   "cell_type": "markdown",
   "id": "84a66659",
   "metadata": {},
   "source": []
  },
  {
   "cell_type": "markdown",
   "id": "eb13c454",
   "metadata": {},
   "source": []
  },
  {
   "cell_type": "markdown",
   "id": "2d7fc7f7",
   "metadata": {},
   "source": []
  },
  {
   "cell_type": "markdown",
   "id": "0fdfb947",
   "metadata": {},
   "source": []
  },
  {
   "cell_type": "markdown",
   "id": "a9617c62",
   "metadata": {},
   "source": []
  }
 ],
 "metadata": {
  "kernelspec": {
   "display_name": "myenv",
   "language": "python",
   "name": "python3"
  },
  "language_info": {
   "codemirror_mode": {
    "name": "ipython",
    "version": 3
   },
   "file_extension": ".py",
   "mimetype": "text/x-python",
   "name": "python",
   "nbconvert_exporter": "python",
   "pygments_lexer": "ipython3",
   "version": "3.13.3"
  }
 },
 "nbformat": 4,
 "nbformat_minor": 5
}
