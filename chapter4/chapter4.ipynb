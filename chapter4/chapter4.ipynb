{
 "cells": [
  {
   "cell_type": "markdown",
   "id": "3ed84d99",
   "metadata": {},
   "source": [
    "# 第4章 因果推論を実装しよう"
   ]
  },
  {
   "cell_type": "markdown",
   "id": "e0a69796",
   "metadata": {},
   "source": [
    "#### ・本章では、因果の大きさを推定する、すなわち因果推論を実施する手法として、回帰分析、IPTW法、DR法について解説、実装する ."
   ]
  },
  {
   "cell_type": "markdown",
   "id": "cf0e2ea9",
   "metadata": {},
   "source": [
    "## 4-1 回帰分析による因果推論の実装"
   ]
  },
  {
   "cell_type": "markdown",
   "id": "198804e2",
   "metadata": {},
   "source": [
    "## 回帰モデルの導出"
   ]
  },
  {
   "cell_type": "markdown",
   "id": "8872894c",
   "metadata": {},
   "source": [
    "#### ・回帰分析による因果推論では、入力変数を与えたときに出力変数の値を求めるモデルを構築する ."
   ]
  },
  {
   "cell_type": "markdown",
   "id": "768ec16b",
   "metadata": {},
   "source": [
    "#### ・回帰モデルの入力変数 : バックドアパスを閉じるように因果ダイアグラムをd分離したあとに残っている変数のみを使用 ."
   ]
  },
  {
   "cell_type": "markdown",
   "id": "e6f0c72e",
   "metadata": {},
   "source": [
    "#### ・回帰モデルの出力変数 : 因果効果が表れる変数 ."
   ]
  },
  {
   "cell_type": "markdown",
   "id": "b48c1340",
   "metadata": {},
   "source": [
    "#### ・回帰分析による因果推論を英語では regression adjustment と呼ぶ ."
   ]
  },
  {
   "cell_type": "markdown",
   "id": "2b8d5cb0",
   "metadata": {},
   "source": [
    "#### ・因果推論したいモデルとして、以下のテレビCM効果の架空事例を想定し、この因果ダイアグラムからテレビCM効果を推定する ."
   ]
  },
  {
   "cell_type": "markdown",
   "id": "fb98758d",
   "metadata": {},
   "source": [
    "![alt text](pict1.png)"
   ]
  },
  {
   "cell_type": "markdown",
   "id": "80cf70b1",
   "metadata": {},
   "source": [
    "#### ・図4.1.1の年齢を変数$x_1$、性別を変数$x_2$として表し、とある「iさん」の年齢と性別は、$x^i_1$ , $x^i_2$と表すことにする ."
   ]
  },
  {
   "cell_type": "markdown",
   "id": "01220621",
   "metadata": {},
   "source": [
    "#### ・とある「iさん」が[テレビCMを見た]かどうか、すなわち処置を受けたかどうかを$Z^i$と記載する ."
   ]
  },
  {
   "cell_type": "markdown",
   "id": "38500286",
   "metadata": {},
   "source": [
    "#### テレビCMを見た場合は $Z^i$ = 1 となり、$Z^i_1$と記載する .　テレビCMを見ていない場合は $Z^i$ = 0 となり、$Z^i_0$と記載する ."
   ]
  },
  {
   "cell_type": "markdown",
   "id": "dfb4b2d1",
   "metadata": {},
   "source": [
    "#### この変数$Z$のように、処置を受けたなどを示す変数は\"原因変数\"とも呼ばれる ."
   ]
  },
  {
   "cell_type": "markdown",
   "id": "27108733",
   "metadata": {},
   "source": [
    "#### ・次に、とある「iさん」の商品の購入量(連続変数)を$Y^i$と記載する ."
   ]
  },
  {
   "cell_type": "markdown",
   "id": "54a6edac",
   "metadata": {},
   "source": [
    "#### $Z^i$ = 1 の場合は$Y^i_1$と記載し、$Z^i$ = 0 の場合は$Y^i_0$と記載する ."
   ]
  },
  {
   "cell_type": "markdown",
   "id": "9f7ea66c",
   "metadata": {},
   "source": [
    "#### $Y$のような、処置による結果が現れる変数は\"結果変数\"とも呼ばれる ."
   ]
  },
  {
   "cell_type": "markdown",
   "id": "7c21cb19",
   "metadata": {},
   "source": [
    "#### ・図4.1.1では年齢変数$x_1$と性別変数$x_2$は、変数$Z$と変数$Y$の間に疑似相関を生む交絡因子(共通因子)である .　そのためd分離するには変数$x_1$と変数$x_2$を考慮する ."
   ]
  },
  {
   "cell_type": "markdown",
   "id": "ae266bc0",
   "metadata": {},
   "source": [
    "#### これは感覚的には、d分離した後に残っている変数(共変量)を考慮して、結果変数を求めるという操作である ."
   ]
  },
  {
   "cell_type": "markdown",
   "id": "a4b13afa",
   "metadata": {},
   "source": [
    "#### ・この場合、具体的には以下のような2つの式を立てる ."
   ]
  },
  {
   "cell_type": "markdown",
   "id": "0dae3b58",
   "metadata": {},
   "source": [
    "$$\n",
    "Y^i_1 = f_1(Z^i,x^i_1,x^i_2)\n",
    "$$\n",
    "$$\n",
    "Y^i_0 = f_0(Z^i,x^i_1,x^i_2)\n",
    "$$"
   ]
  },
  {
   "cell_type": "markdown",
   "id": "98a6d6c4",
   "metadata": {},
   "source": [
    "#### ・ここで、本説の例では結果変数$Y$が連続値なので、上記の$f()$には線型回帰を利用する ."
   ]
  },
  {
   "cell_type": "markdown",
   "id": "8f74b74b",
   "metadata": {},
   "source": [
    "#### 結果変数$Y$が離散値(カテゴリー変数)であった場合にはロジスティック回帰を使用する ."
   ]
  },
  {
   "cell_type": "markdown",
   "id": "678e7e82",
   "metadata": {},
   "source": [
    "#### ・ここで、性別を示す変数$x_2$はカテゴリー変数であり、女性の場合を0、男性の場合を１とする ."
   ]
  },
  {
   "cell_type": "markdown",
   "id": "0a84faf7",
   "metadata": {},
   "source": [
    "#### 年齢を示す変数$x_1$は連続的な整数値となる ."
   ]
  },
  {
   "cell_type": "markdown",
   "id": "c6ca1666",
   "metadata": {},
   "source": [
    "#### ・線型回帰モデルの形で上式を書き直すと、下のようになる ."
   ]
  },
  {
   "cell_type": "markdown",
   "id": "a9a2b7ec",
   "metadata": {},
   "source": [
    "$$\n",
    "Y^i_1 = b_{z1}Z^i_1 + b_1x^i_1 + b_2x^i_2 + b_0 = b_z × 1 + b_1x^i_1 + b_2x^i_2 + b_0\n",
    "$$\n",
    "$$\n",
    "Y^i_0 = b_{z0}Z^i_0 + b_1x^i_1 + b_2x^i_2 + b_0 = b_z × 0 + b_1x^i_1 + b_2x^i_2 + b_0\n",
    "$$"
   ]
  },
  {
   "cell_type": "markdown",
   "id": "4ee87b1e",
   "metadata": {},
   "source": [
    "#### ここで、変数$b$は各係数を示し、$b_0$はバイアス項である .　上記において処置の変数$Z$は0か1の2値であり、$b_{z0}$にかかる$Z^i_0$が0より、$b_{z1}$ = $b_{z0}$ = $b_z$ と書いても問題ない ."
   ]
  },
  {
   "cell_type": "markdown",
   "id": "f191ec46",
   "metadata": {},
   "source": [
    "#### ・その結果、関数$f_0$と関数$f_1$は同一になり、回帰モデルは最終的に以下のようになる ."
   ]
  },
  {
   "cell_type": "markdown",
   "id": "cc47ea74",
   "metadata": {},
   "source": [
    "$$\n",
    "Y^i = b_zZ^i + b_1x^i_1 + b_2x^i_2 + b_0\n",
    "$$"
   ]
  },
  {
   "cell_type": "markdown",
   "id": "0e0f1365",
   "metadata": {},
   "source": [
    "#### あとは実際のデータからこのモデルの係数$b_z$,$b_1$,$b_2$,$b_0$を求めればよい ."
   ]
  },
  {
   "cell_type": "markdown",
   "id": "deeb88e8",
   "metadata": {},
   "source": [
    "## 回帰モデルの実装"
   ]
  },
  {
   "cell_type": "markdown",
   "id": "df8e5ea5",
   "metadata": {},
   "source": [
    "#### ・本節では、テレビCM効果を確かめる疑似ケースの実装を行う ."
   ]
  },
  {
   "cell_type": "markdown",
   "id": "0a14fe24",
   "metadata": {},
   "source": [
    "#### 回帰モデルを求める際に、Pythonの機械学習ライブラリであるscikit-learnを使用する ."
   ]
  },
  {
   "cell_type": "code",
   "execution_count": 3,
   "id": "eeefc931",
   "metadata": {},
   "outputs": [],
   "source": [
    "# 乱数のシードを設定\n",
    "import random\n",
    "import numpy as np\n",
    "\n",
    "np.random.seed(1234)\n",
    "random.seed(1234)"
   ]
  },
  {
   "cell_type": "code",
   "execution_count": 4,
   "id": "9c8712fc",
   "metadata": {},
   "outputs": [],
   "source": [
    "# 使用するパッケージ（ライブラリと関数）を定義\n",
    "# 標準正規分布の生成用\n",
    "from numpy.random import *\n",
    "\n",
    "# グラフの描画用\n",
    "import matplotlib.pyplot as plt\n",
    "\n",
    "# SciPy 平均0、分散1に正規化（標準化）関数\n",
    "import scipy.stats\n",
    "\n",
    "# シグモイド関数をimport\n",
    "from scipy.special import expit\n",
    "\n",
    "# その他\n",
    "import pandas as pd"
   ]
  },
  {
   "cell_type": "markdown",
   "id": "87e413dd",
   "metadata": {},
   "source": [
    "#### ・はじめに疑似データを作成する ."
   ]
  },
  {
   "cell_type": "markdown",
   "id": "a452b06d",
   "metadata": {},
   "source": [
    "#### 年齢変数$x_1$は15歳から75歳の一様分布に従うとする .　性別変数$x_2$は0を女性、1を男性とし、50%の確率で男性か女性とする ."
   ]
  },
  {
   "cell_type": "code",
   "execution_count": 5,
   "id": "b07625e3",
   "metadata": {},
   "outputs": [],
   "source": [
    "# データ数\n",
    "num_data = 200\n",
    "\n",
    "# 年齢\n",
    "x_1 = randint(15, 76, num_data)  # 15から75歳の一様乱数\n",
    "\n",
    "# 性別（0を女性、1を男性とします）\n",
    "x_2 = randint(0, 2, num_data)  # 0か1の乱数"
   ]
  },
  {
   "cell_type": "markdown",
   "id": "6e2cc5b4",
   "metadata": {},
   "source": [
    "#### ・次にテレビCMを見たかどうかを決める ."
   ]
  },
  {
   "cell_type": "markdown",
   "id": "8f10b79a",
   "metadata": {},
   "source": [
    "#### 年齢$x_1$が高いほど、そして性別$x_2$が男性よりも女性の方がテレビCMを見る確率(処置を受け、$Z^i$が1となる確率)が高いとする ."
   ]
  },
  {
   "cell_type": "markdown",
   "id": "5ad55d8c",
   "metadata": {},
   "source": [
    "#### この$Z^i$を作るために、シグモイド関数"
   ]
  },
  {
   "cell_type": "markdown",
   "id": "8516bcea",
   "metadata": {},
   "source": [
    "$$\n",
    "sigmoid(x) = 1/(1 + exp(-ax))\n",
    "$$"
   ]
  },
  {
   "cell_type": "markdown",
   "id": "265c119a",
   "metadata": {},
   "source": [
    "#### を利用して、"
   ]
  },
  {
   "cell_type": "markdown",
   "id": "d25030fd",
   "metadata": {},
   "source": [
    "$$\n",
    "Z^i_{prob} = sigmoid[x_1 + (1-x_2) × 10-40 + noise^i]"
   ]
  },
  {
   "cell_type": "markdown",
   "id": "ae0fd94b",
   "metadata": {},
   "source": [
    "#### を計算する .　$Z^i_{prob}$は0から1の値となり、その割合に応じて確率的にテレビCMを見たかどうか($Z^i$ = 1)を計算する ."
   ]
  },
  {
   "cell_type": "markdown",
   "id": "0b90e432",
   "metadata": {},
   "source": [
    "#### つまり、$Z^i_{prob}$が0に近いと$Z^i$ = 0になりやすく、$Z^i_{prob}$が1に近いと$Z^i$は1になりやすい ."
   ]
  },
  {
   "cell_type": "markdown",
   "id": "bd069f2e",
   "metadata": {},
   "source": [
    "#### 実装コードは次の通りである .　シグモイド関数の係数$a$は0.1としている ."
   ]
  },
  {
   "cell_type": "code",
   "execution_count": 6,
   "id": "f393cfdf",
   "metadata": {},
   "outputs": [],
   "source": [
    "# ノイズの生成\n",
    "e_z = randn(num_data)\n",
    "\n",
    "# シグモイド関数に入れる部分\n",
    "z_base = x_1 + (1-x_2)*10 - 40 + 5*e_z\n",
    "\n",
    "# シグモイド関数を計算\n",
    "z_prob = expit(0.1*z_base)\n",
    "\n",
    "# テレビCMを見たかどうかの変数（0は見ていない、1は見た）\n",
    "Z = np.array([])\n",
    "\n",
    "for i in range(num_data):\n",
    "    Z_i = np.random.choice(2, size=1, p=[1-z_prob[i], z_prob[i]])[0]\n",
    "    Z = np.append(Z, Z_i)"
   ]
  },
  {
   "cell_type": "markdown",
   "id": "dadf3325",
   "metadata": {},
   "source": [
    "#### ・購入量$Y^i$は、"
   ]
  },
  {
   "cell_type": "markdown",
   "id": "108d4f19",
   "metadata": {},
   "source": [
    "$$\n",
    "Y^i = -x_1 + 30x_2 + 10Z^i + 80 + noise^i\n",
    "$$"
   ]
  },
  {
   "cell_type": "markdown",
   "id": "4c3f090b",
   "metadata": {},
   "source": [
    "#### で決まるとする .　年齢$x_1$が大きいほど購入量は減少し、男性($x_2$ = 1)の方が購入量は多く、テレビCMを見ていると($Z^i$ = 1)購入量が増える ."
   ]
  },
  {
   "cell_type": "markdown",
   "id": "bcb5df72",
   "metadata": {},
   "source": [
    "#### ここで、テレビCMの係数が10なので、テレビCMによる購入量への効果は+10が正解となる .　購入量$Y^i$の実装は次の通りである ."
   ]
  },
  {
   "cell_type": "code",
   "execution_count": 7,
   "id": "f55c12bf",
   "metadata": {},
   "outputs": [],
   "source": [
    "# ノイズの生成\n",
    "e_y = randn(num_data)\n",
    "\n",
    "Y = -x_1 + 30*x_2 + 10*Z + 80 + 10*e_y"
   ]
  },
  {
   "cell_type": "markdown",
   "id": "b16d19c2",
   "metadata": {},
   "source": [
    "#### ・ここで、各データをまとめた表を作成し、さらにCMを見た人と見ていない人で購入量$Y$などの平均を比較してみる ."
   ]
  },
  {
   "cell_type": "code",
   "execution_count": 8,
   "id": "eadcd74b",
   "metadata": {},
   "outputs": [
    {
     "data": {
      "text/html": [
       "<div>\n",
       "<style scoped>\n",
       "    .dataframe tbody tr th:only-of-type {\n",
       "        vertical-align: middle;\n",
       "    }\n",
       "\n",
       "    .dataframe tbody tr th {\n",
       "        vertical-align: top;\n",
       "    }\n",
       "\n",
       "    .dataframe thead th {\n",
       "        text-align: right;\n",
       "    }\n",
       "</style>\n",
       "<table border=\"1\" class=\"dataframe\">\n",
       "  <thead>\n",
       "    <tr style=\"text-align: right;\">\n",
       "      <th></th>\n",
       "      <th>年齢</th>\n",
       "      <th>性別</th>\n",
       "      <th>CMを見た</th>\n",
       "      <th>購入量</th>\n",
       "    </tr>\n",
       "  </thead>\n",
       "  <tbody>\n",
       "    <tr>\n",
       "      <th>0</th>\n",
       "      <td>62</td>\n",
       "      <td>0</td>\n",
       "      <td>1.0</td>\n",
       "      <td>24.464285</td>\n",
       "    </tr>\n",
       "    <tr>\n",
       "      <th>1</th>\n",
       "      <td>34</td>\n",
       "      <td>0</td>\n",
       "      <td>0.0</td>\n",
       "      <td>45.693411</td>\n",
       "    </tr>\n",
       "    <tr>\n",
       "      <th>2</th>\n",
       "      <td>53</td>\n",
       "      <td>1</td>\n",
       "      <td>1.0</td>\n",
       "      <td>64.998281</td>\n",
       "    </tr>\n",
       "    <tr>\n",
       "      <th>3</th>\n",
       "      <td>68</td>\n",
       "      <td>1</td>\n",
       "      <td>1.0</td>\n",
       "      <td>47.186898</td>\n",
       "    </tr>\n",
       "    <tr>\n",
       "      <th>4</th>\n",
       "      <td>27</td>\n",
       "      <td>1</td>\n",
       "      <td>0.0</td>\n",
       "      <td>100.114260</td>\n",
       "    </tr>\n",
       "  </tbody>\n",
       "</table>\n",
       "</div>"
      ],
      "text/plain": [
       "   年齢  性別  CMを見た         購入量\n",
       "0  62   0    1.0   24.464285\n",
       "1  34   0    0.0   45.693411\n",
       "2  53   1    1.0   64.998281\n",
       "3  68   1    1.0   47.186898\n",
       "4  27   1    0.0  100.114260"
      ]
     },
     "execution_count": 8,
     "metadata": {},
     "output_type": "execute_result"
    }
   ],
   "source": [
    "# データフレームの作成\n",
    "df = pd.DataFrame({'年齢': x_1,\n",
    "                   '性別': x_2,\n",
    "                   'CMを見た': Z,\n",
    "                   '購入量': Y,\n",
    "                   })\n",
    "# 先頭を表示\n",
    "df.head() "
   ]
  },
  {
   "cell_type": "code",
   "execution_count": 9,
   "id": "d58a7a9e",
   "metadata": {},
   "outputs": [
    {
     "name": "stdout",
     "output_type": "stream",
     "text": [
      "年齢       55.836066\n",
      "性別        0.483607\n",
      "CMを見た     1.000000\n",
      "購入量      49.711478\n",
      "dtype: float64\n",
      "--------\n",
      "年齢       32.141026\n",
      "性別        0.692308\n",
      "CMを見た     0.000000\n",
      "購入量      68.827143\n",
      "dtype: float64\n"
     ]
    }
   ],
   "source": [
    "# 平均値を比べる\n",
    "print(df[df[\"CMを見た\"] == 1.0].mean())\n",
    "print(\"--------\")\n",
    "print(df[df[\"CMを見た\"] == 0.0].mean())"
   ]
  },
  {
   "cell_type": "markdown",
   "id": "c2aec441",
   "metadata": {},
   "source": [
    "#### ・テレビCMを見た人の方が、平均年齢が高く、また性別も女性が多い ."
   ]
  },
  {
   "cell_type": "markdown",
   "id": "3e6d8179",
   "metadata": {},
   "source": [
    "#### しかし、テレビCMを見た人の平均購入量は約49.7に対し、テレビCMを見ていない人の平均購入量は約68.8となり、テレビCMを見ていない人の方が平均購入量が多くなっている ."
   ]
  },
  {
   "cell_type": "markdown",
   "id": "16c78316",
   "metadata": {},
   "source": [
    "#### 単純に平均値の差を見ると、テレビCMを見た人の方が、平均購入量が約20も少なくなっている ."
   ]
  },
  {
   "cell_type": "markdown",
   "id": "e871a52c",
   "metadata": {},
   "source": [
    "#### ・続いて、この作成した模擬データを用いて、テレビCMの効果を因果推論する回帰分析を実行する ."
   ]
  },
  {
   "cell_type": "code",
   "execution_count": 11,
   "id": "688f3315",
   "metadata": {},
   "outputs": [
    {
     "name": "stdout",
     "output_type": "stream",
     "text": [
      "係数： [-0.95817951 32.70149412 10.41327647]\n"
     ]
    }
   ],
   "source": [
    "# scikit-learnから線形回帰をimport\n",
    "# https://scikit-learn.org/stable/modules/generated/sklearn.linear_model.LinearRegression.html\n",
    "from sklearn.linear_model import LinearRegression\n",
    "\n",
    "# 説明変数\n",
    "X = df[[\"年齢\", \"性別\", \"CMを見た\"]]\n",
    "\n",
    "# 被説明変数（目的変数）\n",
    "y = df[\"購入量\"]\n",
    "\n",
    "# 回帰の実施\n",
    "reg = LinearRegression().fit(X, y)\n",
    "\n",
    "# 回帰した結果の係数を出力\n",
    "print(\"係数：\", reg.coef_)"
   ]
  },
  {
   "cell_type": "markdown",
   "id": "7cd66d05",
   "metadata": {},
   "source": [
    "#### ・出力結果から、年齢に対する係数が-0.95、性別に対する係数は32.7、CMを見たことによる購入量の増加の係数は10.4となった ."
   ]
  },
  {
   "cell_type": "markdown",
   "id": "193f5016",
   "metadata": {},
   "source": [
    "#### ・模擬データの係数はそれぞれ、-1、30、10であったので、データ生成時の係数と因果推論した係数がほぼ一致している ."
   ]
  },
  {
   "cell_type": "markdown",
   "id": "33e641d6",
   "metadata": {},
   "source": [
    "#### ・よって、CMを見たことによる購入量の増加は10.4と推定され、「テレビCMを見ると、購入量が平均で10.4増える」という処理の効果が明らかになった ."
   ]
  },
  {
   "cell_type": "markdown",
   "id": "2182bffc",
   "metadata": {},
   "source": [
    "#### ・最後に平均処置効果ATE、処置群における平均処置効果ATT、対照群における平均処置効果ATUを求める ."
   ]
  },
  {
   "cell_type": "markdown",
   "id": "a604d84e",
   "metadata": {},
   "source": [
    "#### 今回は変数$Y^i$についての回帰モデルを線形に構築しているので、変数$Z^i$の係数の10.4が因果の効果となり、ATE , ATT , ATUはすべて等しく10.4となる ."
   ]
  },
  {
   "cell_type": "markdown",
   "id": "4da84258",
   "metadata": {},
   "source": [
    "#### ・線形な回帰モデルを構築し、入力変数にはd分離したあとで因果ダイアグラムに残っている変数を使用した ."
   ]
  },
  {
   "cell_type": "markdown",
   "id": "ac06392b",
   "metadata": {},
   "source": [
    "#### 理由として、d分離したあとでも残っている変数はバックドアパスを生むため、バックドアパスを閉じるために考慮する必要があるため ."
   ]
  },
  {
   "cell_type": "markdown",
   "id": "284185c0",
   "metadata": {},
   "source": [
    "#### 回帰分析で回帰モデルを構築する際に、これらの変数を入力変数に利用することは、これらの変数からのバックドアパスの存在を閉じることになる ."
   ]
  },
  {
   "cell_type": "markdown",
   "id": "bef12308",
   "metadata": {},
   "source": [
    "#### ・今回の結果のように、年齢に対する係数-0.95、性別に対する係数32.7と、共変量が結果変数に与える影響を個別に求めることができ、結果変数に対する原因変数$Z$の影響と共変量の影響を分離できる ."
   ]
  },
  {
   "cell_type": "markdown",
   "id": "112ad647",
   "metadata": {},
   "source": [
    "## 回帰モデルの補足"
   ]
  },
  {
   "cell_type": "markdown",
   "id": "de6693b1",
   "metadata": {},
   "source": [
    "#### ・以下に示す図4.1.3のように、仮に結果変数$Y$にだけ効く別の変数$a$が観測できている場合、d分離する際に変数$a$を残す必要はない ."
   ]
  },
  {
   "cell_type": "markdown",
   "id": "681320cf",
   "metadata": {},
   "source": [
    "#### つまり、変数$a$は疑似相関、間接的因果を生み出していないが、変数$Y$の正確な回帰モデルを構築するために回帰モデルの入力変数として考慮する方が正確な因果推論が可能になる ."
   ]
  },
  {
   "cell_type": "markdown",
   "id": "8af0ed2a",
   "metadata": {},
   "source": [
    "![alt text](pict2.png)"
   ]
  },
  {
   "cell_type": "markdown",
   "id": "ce9cb582",
   "metadata": {},
   "source": [
    "## 4-2 傾向スコアを用いた逆確率重み付け法(IPTW)の実装"
   ]
  },
  {
   "cell_type": "markdown",
   "id": "85d3ecb3",
   "metadata": {},
   "source": [
    "#### ・傾向スコアと呼ばれる指標を使用した、逆確率重み付け法(IPTW : Inverse Probability of Treatment Weighting もしくは IPW)を解説・実装する ."
   ]
  },
  {
   "cell_type": "markdown",
   "id": "93fa9d1e",
   "metadata": {},
   "source": [
    "## 傾向スコアとは"
   ]
  },
  {
   "cell_type": "markdown",
   "id": "1ed5a375",
   "metadata": {},
   "source": [
    "#### ・傾向スコア(propensity score) : 処置を受ける確率に類する値、すなわち「処置を受ける傾向」を示す指標 ."
   ]
  },
  {
   "cell_type": "markdown",
   "id": "eb51f835",
   "metadata": {},
   "source": [
    "#### ・IPTW法 : 測定されたデータに対して、傾向スコアで結果を調整して、因果の効果を推定する手法 ."
   ]
  },
  {
   "cell_type": "markdown",
   "id": "abf9f226",
   "metadata": {},
   "source": [
    "#### ・はじめに傾向スコアについて解説する .　ここで、調整化公式を再掲する ."
   ]
  },
  {
   "cell_type": "markdown",
   "id": "0c3061a8",
   "metadata": {},
   "source": [
    "$$\n",
    "P(Y = y|do(Z = z)) = Σ_xP(Y = y|Z = z,X = x)P(X = x)\n",
    "$$"
   ]
  },
  {
   "cell_type": "markdown",
   "id": "5d55605e",
   "metadata": {},
   "source": [
    "#### ・この調整化公式の右辺は2つの項、$P(Y = y|Z = z,X = x)$ と P(X = x)の掛け算となっていて、取り扱いにくいという嫌な点がある ."
   ]
  },
  {
   "cell_type": "code",
   "execution_count": null,
   "id": "0df53941",
   "metadata": {},
   "outputs": [],
   "source": []
  },
  {
   "cell_type": "markdown",
   "id": "2e88c69a",
   "metadata": {},
   "source": []
  },
  {
   "cell_type": "markdown",
   "id": "5e3c2352",
   "metadata": {},
   "source": []
  },
  {
   "cell_type": "markdown",
   "id": "5f1b2fac",
   "metadata": {},
   "source": []
  },
  {
   "cell_type": "markdown",
   "id": "074e290e",
   "metadata": {},
   "source": []
  },
  {
   "cell_type": "markdown",
   "id": "860df80c",
   "metadata": {},
   "source": []
  },
  {
   "cell_type": "markdown",
   "id": "3c301e84",
   "metadata": {},
   "source": []
  },
  {
   "cell_type": "markdown",
   "id": "dd22a981",
   "metadata": {},
   "source": []
  },
  {
   "cell_type": "markdown",
   "id": "53af6659",
   "metadata": {},
   "source": []
  },
  {
   "cell_type": "markdown",
   "id": "0a20441a",
   "metadata": {},
   "source": []
  },
  {
   "cell_type": "markdown",
   "id": "bf7045d6",
   "metadata": {},
   "source": []
  },
  {
   "cell_type": "markdown",
   "id": "ef01974e",
   "metadata": {},
   "source": []
  },
  {
   "cell_type": "markdown",
   "id": "893879c0",
   "metadata": {},
   "source": []
  },
  {
   "cell_type": "markdown",
   "id": "5a0656ff",
   "metadata": {},
   "source": []
  },
  {
   "cell_type": "markdown",
   "id": "8d352afe",
   "metadata": {},
   "source": []
  },
  {
   "cell_type": "markdown",
   "id": "84a66659",
   "metadata": {},
   "source": []
  },
  {
   "cell_type": "markdown",
   "id": "eb13c454",
   "metadata": {},
   "source": []
  },
  {
   "cell_type": "markdown",
   "id": "2d7fc7f7",
   "metadata": {},
   "source": []
  },
  {
   "cell_type": "markdown",
   "id": "0fdfb947",
   "metadata": {},
   "source": []
  },
  {
   "cell_type": "markdown",
   "id": "a9617c62",
   "metadata": {},
   "source": []
  }
 ],
 "metadata": {
  "kernelspec": {
   "display_name": "myenv",
   "language": "python",
   "name": "python3"
  },
  "language_info": {
   "codemirror_mode": {
    "name": "ipython",
    "version": 3
   },
   "file_extension": ".py",
   "mimetype": "text/x-python",
   "name": "python",
   "nbconvert_exporter": "python",
   "pygments_lexer": "ipython3",
   "version": "3.13.3"
  }
 },
 "nbformat": 4,
 "nbformat_minor": 5
}
