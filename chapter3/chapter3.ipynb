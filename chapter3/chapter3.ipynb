{
 "cells": [
  {
   "cell_type": "markdown",
   "id": "c2861d32",
   "metadata": {},
   "source": [
    "# 第3章 グラフ表現とバックドア基準を理解しよう"
   ]
  },
  {
   "cell_type": "markdown",
   "id": "3a202948",
   "metadata": {},
   "source": [
    "## 3-1 構造方程式とグラフ表現(因果ダイアグラムDAG)"
   ]
  },
  {
   "cell_type": "markdown",
   "id": "8ea9bf4e",
   "metadata": {},
   "source": [
    "#### ・本節では複数の変数間の因果関係を表現する手法として、「構造方程式モデル」と「グラフ表現(因果ダイアグラム)」を解説する ."
   ]
  },
  {
   "cell_type": "markdown",
   "id": "50d346ad",
   "metadata": {},
   "source": [
    "## 構造方程式モデル"
   ]
  },
  {
   "cell_type": "markdown",
   "id": "39befcdf",
   "metadata": {},
   "source": [
    "#### ・構造方程式モデル : 式を用いて変数間の因果関係を表現する手法 ."
   ]
  },
  {
   "cell_type": "markdown",
   "id": "9f619b67",
   "metadata": {},
   "source": [
    "#### ・英語では、SEM : Structual equation model や SCM : Structual casual modelと呼ばれる ."
   ]
  },
  {
   "cell_type": "markdown",
   "id": "7e256e22",
   "metadata": {},
   "source": [
    "#### ・変数 x , y , z がある場合に変数xの構造方程式は以下のように記載する ."
   ]
  },
  {
   "cell_type": "markdown",
   "id": "b6a9e292",
   "metadata": {},
   "source": [
    "$$\n",
    "x = f_x(y, z, e_x)\n",
    "$$\n",
    "\n"
   ]
  },
  {
   "cell_type": "markdown",
   "id": "c28bce8d",
   "metadata": {},
   "source": [
    "#### この式は、変数 x は変数 y , z と誤差変数(error variable) e_x を関数 f_x に代入して求められることを意味する ."
   ]
  },
  {
   "cell_type": "markdown",
   "id": "19724473",
   "metadata": {},
   "source": [
    "#### そのため、この式が示す因果関係として、"
   ]
  },
  {
   "cell_type": "markdown",
   "id": "860dd3b9",
   "metadata": {},
   "source": []
  },
  {
   "cell_type": "markdown",
   "id": "56788482",
   "metadata": {},
   "source": []
  },
  {
   "cell_type": "markdown",
   "id": "0293b6f3",
   "metadata": {},
   "source": []
  },
  {
   "cell_type": "markdown",
   "id": "f9e83b25",
   "metadata": {},
   "source": []
  },
  {
   "cell_type": "markdown",
   "id": "8a37fd69",
   "metadata": {},
   "source": []
  },
  {
   "cell_type": "markdown",
   "id": "fa663e66",
   "metadata": {},
   "source": []
  },
  {
   "cell_type": "markdown",
   "id": "77d8a9ef",
   "metadata": {},
   "source": []
  },
  {
   "cell_type": "markdown",
   "id": "05054966",
   "metadata": {},
   "source": []
  }
 ],
 "metadata": {
  "language_info": {
   "name": "python"
  }
 },
 "nbformat": 4,
 "nbformat_minor": 5
}
