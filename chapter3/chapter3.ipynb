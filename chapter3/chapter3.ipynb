{
 "cells": [
  {
   "cell_type": "markdown",
   "id": "c2861d32",
   "metadata": {},
   "source": [
    "# 第3章 グラフ表現とバックドア基準を理解しよう"
   ]
  },
  {
   "cell_type": "markdown",
   "id": "3a202948",
   "metadata": {},
   "source": [
    "## 3-1 構造方程式とグラフ表現(因果ダイアグラムDAG)"
   ]
  },
  {
   "cell_type": "markdown",
   "id": "8ea9bf4e",
   "metadata": {},
   "source": [
    "#### ・本節では複数の変数間の因果関係を表現する手法として、「構造方程式モデル」と「グラフ表現(因果ダイアグラム)」を解説する ."
   ]
  },
  {
   "cell_type": "markdown",
   "id": "50d346ad",
   "metadata": {},
   "source": [
    "## 構造方程式モデル"
   ]
  },
  {
   "cell_type": "markdown",
   "id": "39befcdf",
   "metadata": {},
   "source": [
    "#### ・構造方程式モデル : 式を用いて変数間の因果関係を表現する手法 ."
   ]
  },
  {
   "cell_type": "markdown",
   "id": "9f619b67",
   "metadata": {},
   "source": [
    "#### ・英語では、SEM : Structual equation model や SCM : Structual casual modelと呼ばれる ."
   ]
  },
  {
   "cell_type": "markdown",
   "id": "7e256e22",
   "metadata": {},
   "source": [
    "#### ・変数 $x$ , $y$ , $z$ がある場合に変数$x$の構造方程式は以下のように記載する ."
   ]
  },
  {
   "cell_type": "markdown",
   "id": "b6a9e292",
   "metadata": {},
   "source": [
    "$$\n",
    "x = f_x(y, z, e_x)\n",
    "$$\n",
    "\n"
   ]
  },
  {
   "cell_type": "markdown",
   "id": "c28bce8d",
   "metadata": {},
   "source": [
    "#### この式は、変数 $x$ は変数 $y$ , $z$ と誤差変数(error variable) $e_x$ を関数 $f_x$ に代入して求められることを意味する ."
   ]
  },
  {
   "cell_type": "markdown",
   "id": "19724473",
   "metadata": {},
   "source": [
    "#### そのため、この式が示す因果関係として、変数$y$から変数$x$への因果関係と、変数$z$から変数$x$への因果の矢印が存在する ."
   ]
  },
  {
   "cell_type": "markdown",
   "id": "860dd3b9",
   "metadata": {},
   "source": [
    "#### ただし、変数$x$の値は変数 $y$ , $z$ 以外からも影響を受けて値が決まり、それらの影響が変数として観測できない場合、誤差として誤差変数$e_x$で表す ."
   ]
  },
  {
   "cell_type": "markdown",
   "id": "56788482",
   "metadata": {},
   "source": [
    "#### ・構造方程式モデリングでは、自分から自分への影響を持つようなケースは扱わないことが多いため、関数$f_x$の引数に変数$x$を含まないことが一般的 ."
   ]
  },
  {
   "cell_type": "markdown",
   "id": "0293b6f3",
   "metadata": {},
   "source": [
    "#### ・ここで仮に変数$z$から変数$x$への因果が存在しない場合、$x = f_x(y,e_x)$と記載できる ."
   ]
  },
  {
   "cell_type": "markdown",
   "id": "f9e83b25",
   "metadata": {},
   "source": [
    "#### ・変数 $x$ , $y$ , $z$ の因果関係をすべて記載すると、以下のようになる ."
   ]
  },
  {
   "cell_type": "markdown",
   "id": "8a37fd69",
   "metadata": {},
   "source": [
    "$$\n",
    "x = f_x(y, z, e_x)\n",
    "$$\n",
    "$$\n",
    "y = f_y(x, z, e_y)\n",
    "$$\n",
    "$$\n",
    "z = f_z(x, y, e_z)\n",
    "$$"
   ]
  },
  {
   "cell_type": "markdown",
   "id": "fa663e66",
   "metadata": {},
   "source": [
    "#### ・1.3節の『2.疑似相関 : 共通の原因(交絡)』では、以下のような実装コードを用いた ."
   ]
  },
  {
   "cell_type": "markdown",
   "id": "5dd2e403",
   "metadata": {},
   "source": [
    "![alt text](pict1.png)"
   ]
  },
  {
   "cell_type": "markdown",
   "id": "1c741cfb",
   "metadata": {},
   "source": [
    "#### このとき、構造方程式モデリングは"
   ]
  },
  {
   "cell_type": "markdown",
   "id": "a2d3af07",
   "metadata": {},
   "source": [
    "$$\n",
    "X = 0 × Z + 0 × Y + e_x\n",
    "$$\n",
    "$$\n",
    "Y = 0 × Z + 3.3 × X + e_y\n",
    "$$\n",
    "$$\n",
    "Z = 0 × Y + 3.3 × X + e_z\n",
    "$$"
   ]
  },
  {
   "cell_type": "markdown",
   "id": "ec8d728a",
   "metadata": {},
   "source": [
    "#### となる .　係数0の項を省略すると、以下のようになる ."
   ]
  },
  {
   "cell_type": "markdown",
   "id": "1d24e3b9",
   "metadata": {},
   "source": [
    "$$\n",
    "X = e_x\n",
    "$$\n",
    "$$\n",
    "Y = 3.3 × X + e_y\n",
    "$$\n",
    "$$\n",
    "Z = 3.3 × X + e_z\n",
    "$$"
   ]
  },
  {
   "cell_type": "markdown",
   "id": "2a7217db",
   "metadata": {},
   "source": [
    "### ・上の式のように変数の1次成分のみで表されているモデルを、線形構造方程式モデル(Linear Structual Equation Model)と呼ぶ .　このとき、$Y^2$や$YZ$や$sinY$などの高次の項は含まれない ."
   ]
  },
  {
   "cell_type": "markdown",
   "id": "df545f37",
   "metadata": {},
   "source": [
    "### ・変数間の因果関係を厳密に記載でき、そのまま実装コードに落とし込むことができるが、変数が増えると記載が大変になるだけでなく、一見での全体の関係性が分かりづらい ."
   ]
  },
  {
   "cell_type": "markdown",
   "id": "c540721b",
   "metadata": {},
   "source": [
    "## グラフ表現(因果ダイアグラムDAG)"
   ]
  },
  {
   "cell_type": "markdown",
   "id": "8123ffe2",
   "metadata": {},
   "source": [
    "#### ・因果ダイアグラム : 変数間の因果関係を図で表す手法で、グラフ表現の一種である ."
   ]
  },
  {
   "cell_type": "markdown",
   "id": "ddc4a180",
   "metadata": {},
   "source": [
    "![alt text](pict2.png)"
   ]
  },
  {
   "cell_type": "markdown",
   "id": "ca91e3fd",
   "metadata": {},
   "source": [
    "#### ・変数を頂点(もしくはノード)と呼ぶ ."
   ]
  },
  {
   "cell_type": "markdown",
   "id": "2ec1e92c",
   "metadata": {},
   "source": [
    "#### ・矢印で結んだ変数の関係を「有向」(Directed)と呼ぶ ."
   ]
  },
  {
   "cell_type": "markdown",
   "id": "58748c87",
   "metadata": {},
   "source": [
    "#### ・一方で、変数の間に因果関係がありそうだが、どちらからどちらへ因果があるのか分からない場合は矢印ではなく、ただの直線で結び、無向(Undirected)と呼ぶ ."
   ]
  },
  {
   "cell_type": "markdown",
   "id": "9e220e69",
   "metadata": {},
   "source": [
    "#### ・変数が観測できている場合には観測変数(observed variable)と呼び、四角形で囲む .　変数が観測できていない場合は未観測変数(unobserved variable)と呼び、点線の楕円で囲む ."
   ]
  },
  {
   "cell_type": "markdown",
   "id": "f078f098",
   "metadata": {},
   "source": [
    "#### ・因果推論や因果探索の分野では、自分自身へ因果が存在するようなケース(因果ダイアグラム)は基本的には取り扱わない . "
   ]
  },
  {
   "cell_type": "markdown",
   "id": "927a5ba2",
   "metadata": {},
   "source": [
    "#### なぜなら、自己フィードバックのループによってどんどん値が大きくなって発散したり、どんどん値が小さくなって0になったり、値が振動したりと不安定なため ."
   ]
  },
  {
   "cell_type": "markdown",
   "id": "0c2af632",
   "metadata": {},
   "source": [
    "#### ・もちろん、自己フィードバックが存在しないケースしか扱えないと制限すると、現実世界のデータに対する因果推論・因果探索ではあまり使えない ."
   ]
  },
  {
   "cell_type": "markdown",
   "id": "e2ff858c",
   "metadata": {},
   "source": [
    "#### そのため、ここでの意味は、以下のようにする ."
   ]
  },
  {
   "cell_type": "markdown",
   "id": "53e982c2",
   "metadata": {},
   "source": [
    "### \"一般的な因果推論では、自己フィードバックが他の因果よりも十分に小さく、無視することができるケースを扱う\""
   ]
  },
  {
   "cell_type": "markdown",
   "id": "716732a5",
   "metadata": {},
   "source": [
    "#### ・また直接的に自己フィードバックが存在していなくても、$x$→$y$→$x$という間接的な自己フィードバックが存在するケースもあるが、これも基本的には取り扱わない ."
   ]
  },
  {
   "cell_type": "markdown",
   "id": "bc83045a",
   "metadata": {},
   "source": [
    "#### ・循環グラフ or 巡回グラフ : とある変数から有向の方向へ変数をたどって行ったときに、もとの変数に戻ってくる因果ダイアグラム ."
   ]
  },
  {
   "cell_type": "markdown",
   "id": "034f9983",
   "metadata": {},
   "source": [
    "#### ・非循環グラフ(Acyclic Graph) or 非巡回グラフ : すべての変数において、有向の方向へ変数をたどって行ったときに、もとの変数に戻って来られない因果ダイアグラム . "
   ]
  },
  {
   "cell_type": "markdown",
   "id": "39f30a69",
   "metadata": {},
   "source": [
    "### ・有向非循環グラフ(Directed Acyclic Graph : DAG) or 有向非巡回グラフ : 一般的に因果ダイアグラムで記載するグラフ ."
   ]
  },
  {
   "cell_type": "markdown",
   "id": "924caf8a",
   "metadata": {},
   "source": [
    "![alt text](pict3.png)"
   ]
  },
  {
   "cell_type": "markdown",
   "id": "6a8ff294",
   "metadata": {},
   "source": [
    "## 3-2 バックドア基準、バックドアパス、d分離"
   ]
  },
  {
   "cell_type": "markdown",
   "id": "744e1a9b",
   "metadata": {},
   "source": [
    "#### ・因果推論を行う際に、調整化公式で考慮すべき変数を決めるうえで重要な概念となる、バックドア基準、バックドアパス、d分離について解説する ."
   ]
  },
  {
   "cell_type": "markdown",
   "id": "36a26998",
   "metadata": {},
   "source": [
    "## 本節で実施したいこと"
   ]
  },
  {
   "cell_type": "markdown",
   "id": "e42bd152",
   "metadata": {},
   "source": [
    "![alt text](pict4.png)"
   ]
  },
  {
   "cell_type": "markdown",
   "id": "b9f7e6a1",
   "metadata": {},
   "source": [
    "### 実施したいこと : 変数$Z$から変数$Y$への因果の大きさを求める際に、調整化公式の変数$X$として考慮すべき変数を見つけること ."
   ]
  },
  {
   "cell_type": "markdown",
   "id": "d31ae7aa",
   "metadata": {},
   "source": [
    "#### ・考慮すべき変数、すなわち「共変量(covariate)」と無視すべき変数を整理する ."
   ]
  },
  {
   "cell_type": "markdown",
   "id": "17e811b9",
   "metadata": {},
   "source": [
    "#### ここで、「変数を考慮する」とは、「因果ダイアグラムでその変数を残すこと」と捉える .　また、「変数を無視する」とは、「因果ダイアグラムからその変数を消去する」と捉える ."
   ]
  },
  {
   "cell_type": "markdown",
   "id": "41d8454a",
   "metadata": {},
   "source": [
    "#### ・因果の大きさを求める具体的な方法は第4章で説明する ."
   ]
  },
  {
   "cell_type": "markdown",
   "id": "f65f4e64",
   "metadata": {},
   "source": [
    "## バックドアパス"
   ]
  },
  {
   "cell_type": "markdown",
   "id": "2cfccde8",
   "metadata": {},
   "source": [
    "#### ・今回推論したいのは図3.2.2の変数$Z$から変数$Y$への因果の大きさとする ."
   ]
  },
  {
   "cell_type": "markdown",
   "id": "76ec0f17",
   "metadata": {},
   "source": [
    "![alt text](pict5.png)"
   ]
  },
  {
   "cell_type": "markdown",
   "id": "6de45067",
   "metadata": {},
   "source": [
    "#### ・図3.2.2から変数$Z$、変数$Y$、変数$a$のみを取り出してみる ."
   ]
  },
  {
   "cell_type": "markdown",
   "id": "eef4b7e0",
   "metadata": {},
   "source": [
    "![alt text](pict6.png)"
   ]
  },
  {
   "cell_type": "markdown",
   "id": "38c8fbb7",
   "metadata": {},
   "source": [
    "#### ・変数$Z$の変化は直接の因果を示す赤い矢印だけでなく、変数$a$を介した\"間接的な経路\"でも変数$Y$へ影響が及ぶ ."
   ]
  },
  {
   "cell_type": "markdown",
   "id": "b96c3189",
   "metadata": {},
   "source": [
    "#### このような間接的な経路を「バックドアパス」と呼ぶ ."
   ]
  },
  {
   "cell_type": "markdown",
   "id": "b53d168d",
   "metadata": {},
   "source": [
    "#### ・因果推論では直接的な因果の効果を知りたいので、バックドアパスを考慮する必要がある .　具体的にバックドアパスを考慮するとは、"
   ]
  },
  {
   "cell_type": "markdown",
   "id": "ee3b3e21",
   "metadata": {},
   "source": [
    "### ①不要なバックドアパスを生み出さないようにする"
   ]
  },
  {
   "cell_type": "markdown",
   "id": "16a9f0c1",
   "metadata": {},
   "source": [
    "### ②既に生じているバックドアパスを閉じるようにする "
   ]
  },
  {
   "cell_type": "markdown",
   "id": "63b2c1a4",
   "metadata": {},
   "source": [
    "#### という意味である ."
   ]
  },
  {
   "cell_type": "markdown",
   "id": "77d8a9ef",
   "metadata": {},
   "source": [
    "#### ・図3.2.3の場合、変数$a$の存在を考慮するとバックドアパスが生まれてしまうので、変数$a$の存在は無視する必要がある ."
   ]
  },
  {
   "cell_type": "markdown",
   "id": "43d557e5",
   "metadata": {},
   "source": [
    "### \"因果ダイアグラムにおいてバックドアパスを理解するイメージとして、著者はいつも因果ダイアグラムにある変数を\"プルプル\"させるイメージを持っている . (プルプル作戦)\""
   ]
  },
  {
   "cell_type": "markdown",
   "id": "1fec2e2d",
   "metadata": {},
   "source": [
    "![alt text](pict7.png)"
   ]
  },
  {
   "cell_type": "markdown",
   "id": "9a39d83b",
   "metadata": {},
   "source": [
    "#### ・変数$a$のような、「因果推論したい2変数の間にある変数」を中間変数と呼ぶ .　基本的には中間変数はバックドアパスを生み出す原因となるので、考慮せず、因果推論時には無視する ."
   ]
  },
  {
   "cell_type": "markdown",
   "id": "919ce7dd",
   "metadata": {},
   "source": [
    "#### ・次に、既に生じているバックドアパスを閉じる例を紹介する .　図3.2.2から変数$x$、変数$Y$、変数$Z$にフォーカスする ."
   ]
  },
  {
   "cell_type": "markdown",
   "id": "4ffbf417",
   "metadata": {},
   "source": [
    "![alt text](pict8.png)"
   ]
  },
  {
   "cell_type": "markdown",
   "id": "e620f05d",
   "metadata": {},
   "source": [
    "#### ・このダイアグラムでは変数$x$は交絡因子(共通因子)であり、疑似相関を生み出す原因である ."
   ]
  },
  {
   "cell_type": "markdown",
   "id": "38f08482",
   "metadata": {},
   "source": [
    "#### ・プルプル作戦で想像すると、変数$x$の存在により間接的なプルプルが変数$Z$と変数$Y$の間に生じている .　これが疑似相関を生み出すという感覚である ."
   ]
  },
  {
   "cell_type": "markdown",
   "id": "0f608ef9",
   "metadata": {},
   "source": [
    "### この変数$x$のように変数$Z$と変数$Y$の因果を考える際に、両者の間にバックドアパスを生み出しており、疑似相関の原因となっている因子(変数もしくは要因)を\"バックドア基準を満たす因子\"と呼ぶ ."
   ]
  },
  {
   "cell_type": "markdown",
   "id": "f59e1fc3",
   "metadata": {},
   "source": [
    "#### ・バックドアパスを閉じるには介入を利用する .　具体的な操作については本節の最後に解説する ."
   ]
  },
  {
   "cell_type": "markdown",
   "id": "8b718418",
   "metadata": {},
   "source": [
    "#### ・続いて、図3.2.6の変数$b$と変数$c$を考える ."
   ]
  },
  {
   "cell_type": "markdown",
   "id": "3b3d9f52",
   "metadata": {},
   "source": [
    "![alt text](pict9.png)"
   ]
  },
  {
   "cell_type": "markdown",
   "id": "0182d06d",
   "metadata": {},
   "source": [
    "#### ・変数$b$については変数$Z$と変数$Y$の両方よりも下流にあり、間接的な経路を生み出していないので、考慮してもしなくても問題ない ."
   ]
  },
  {
   "cell_type": "markdown",
   "id": "949fa60d",
   "metadata": {},
   "source": [
    "### ですが一般的には、\"因果推論したい両変数よりも下流にある変数は無視する .\""
   ]
  },
  {
   "cell_type": "markdown",
   "id": "51787a99",
   "metadata": {},
   "source": [
    "#### ・変数$Z$、変数$Y$、変数$c$の関係は、1.2節で解説した「合流点での選抜による擬似相関」の形であり、変数$c$を考慮してダイアグラムに残すと合流点で選抜することになる ."
   ]
  },
  {
   "cell_type": "markdown",
   "id": "28c8a5d9",
   "metadata": {},
   "source": [
    "### \"変数$c$を残すと、合流点での選抜による疑似相関を生み出しバックドアパスが生まれるので、無視する必要がある .\""
   ]
  },
  {
   "cell_type": "markdown",
   "id": "3575bb6a",
   "metadata": {},
   "source": [
    "#### ・合流点での選抜をプルプル作戦で想像すると、下の図のようになる ."
   ]
  },
  {
   "cell_type": "markdown",
   "id": "9acdb6e8",
   "metadata": {},
   "source": [
    "![alt text](pict10.png)"
   ]
  },
  {
   "cell_type": "markdown",
   "id": "62adf8ee",
   "metadata": {},
   "source": [
    "#### ・変数$c$は変数$Z$に起因するプルプル④とそれを打ち消す変数$Y$に起因するプルプル⑦を受け、結果的には固定された値でプルプルしない状態を保つ ."
   ]
  },
  {
   "cell_type": "markdown",
   "id": "19ec7d9c",
   "metadata": {},
   "source": [
    "#### しかしその結果、変数$Z$と変数$Y$には、変数$c$を固定するために余計なプルプルが生まれてしまう ."
   ]
  },
  {
   "cell_type": "markdown",
   "id": "ce4cd5a6",
   "metadata": {},
   "source": [
    "#### これは変数$c$による間接経路の存在を意味する .　よって変数$c$は無視する ."
   ]
  },
  {
   "cell_type": "markdown",
   "id": "25763d52",
   "metadata": {},
   "source": [
    "### \"合流点を探すのは面倒なので、因果推論したい両変数よりも下流にある変数はすべて無視してしまうのが一般的である .\""
   ]
  },
  {
   "cell_type": "markdown",
   "id": "e65e0880",
   "metadata": {},
   "source": [
    "#### ・最後に変数$d$を考える ."
   ]
  },
  {
   "cell_type": "markdown",
   "id": "6754152a",
   "metadata": {},
   "source": [
    "#### ・変数$d$を考慮すると、変数$x$、変数$Z$、変数$d$の間で「合流点での選抜」を生み出す ."
   ]
  },
  {
   "cell_type": "markdown",
   "id": "aef9a1c6",
   "metadata": {},
   "source": [
    "#### すると、変数$x$と変数$Z$の間で疑似相関が生まれ、変数$x$を変化させた際に、その変化が擬似相関により変数$Z$に伝わり、変数$Z$から変数$Y$へ伝わるという間接的な因果の経路が生じるので、無視すべきである ."
   ]
  },
  {
   "cell_type": "markdown",
   "id": "43adbcf6",
   "metadata": {},
   "source": [
    "### \"すなわち、因果を求めたい両変数の上流にある合流点を考慮すると、疑似相関が生まれ、それが巡って因果推論したい両変数の間に影響を与える可能性があるので、基本的に上流にある合流点の変数は無視する .\""
   ]
  },
  {
   "cell_type": "markdown",
   "id": "1a196cb6",
   "metadata": {},
   "source": [
    "#### ・上流の変数のさらに上流について考える(図3.2.8) ."
   ]
  },
  {
   "cell_type": "markdown",
   "id": "7d13363f",
   "metadata": {},
   "source": [
    "![alt text](pict11.png)"
   ]
  },
  {
   "cell_type": "markdown",
   "id": "26cfd1f5",
   "metadata": {},
   "source": [
    "#### ・図3.2.8のような場合、変数$x$が、変数$e$やその他の未観測な影響を吸収してくれているので、直接的に変数$Y$とつながっている変数$x$だけを考慮すれば、上流のさらに上流にある変数の影響は無視できる ."
   ]
  },
  {
   "cell_type": "markdown",
   "id": "b4eca89e",
   "metadata": {},
   "source": [
    "## d分離"
   ]
  },
  {
   "cell_type": "markdown",
   "id": "3a6545f2",
   "metadata": {},
   "source": [
    "![alt text](pict12.png)"
   ]
  },
  {
   "cell_type": "markdown",
   "id": "d7f68fb8",
   "metadata": {},
   "source": [
    "#### ・ここまで説明した考慮すべき変数と考慮すべきでない変数を整理する ."
   ]
  },
  {
   "cell_type": "markdown",
   "id": "8a1935a7",
   "metadata": {},
   "source": [
    "#### 考慮すべき変数 : 交絡因子であり、すでにバックドアパスを生み出している変数$x$ ."
   ]
  },
  {
   "cell_type": "markdown",
   "id": "c33539b5",
   "metadata": {},
   "source": [
    "#### 考慮すべきでない変数 : 中間変数$a$、両変数より下流にある変数$b$と変数$c$、両変数より上流の合流点である変数$d$ ."
   ]
  },
  {
   "cell_type": "markdown",
   "id": "53dcc44d",
   "metadata": {},
   "source": [
    "### \"バックドアパスを閉じる\" : 介入操作doオペレータを用いて因果ダイアグラムの形を変え、バックドアを生んでいる因果の矢印を消す操作 ."
   ]
  },
  {
   "cell_type": "markdown",
   "id": "04780b3f",
   "metadata": {},
   "source": [
    "#### ・変数$x$から変数$Z$への矢印を消すには変数$Z$へ介入し、変数$Z$の値を操作する ."
   ]
  },
  {
   "cell_type": "markdown",
   "id": "26694981",
   "metadata": {},
   "source": [
    "### \"このように、適切に因果ダイアグラムの変数を無視し、さらに介入を実施して因果推論するために因果ダイアグラムを変更する操作を、「d分離する」と呼ぶ .\""
   ]
  },
  {
   "cell_type": "markdown",
   "id": "36bab000",
   "metadata": {},
   "source": [
    "### \"また、このd分離の操作を経て残っている変数たちが調整化公式で考慮すべき変数である .　図3.2.9の右側では変数$x$のみが残っているので、これが調整化公式で考慮すべき変数である .\""
   ]
  },
  {
   "cell_type": "markdown",
   "id": "9d5af475",
   "metadata": {},
   "source": [
    "## 3-3 ランダム化比較試験RCTによる因果推論"
   ]
  },
  {
   "cell_type": "markdown",
   "id": "7b17dff9",
   "metadata": {},
   "source": [
    "#### ・因果ダイアグラムに対して前節で解説したd分離を行い、その際の平均処置効果ATEを計算する方法を説明する ."
   ]
  },
  {
   "cell_type": "markdown",
   "id": "41fd6761",
   "metadata": {},
   "source": [
    "## 「上司向けキャリア面談のポイント研修」でのRCTによる因果推論"
   ]
  },
  {
   "cell_type": "markdown",
   "id": "6a5ac30c",
   "metadata": {},
   "source": [
    "#### ・再度、「上司向けキャリア面談のポイント研修」を例に考える ."
   ]
  },
  {
   "cell_type": "markdown",
   "id": "277c67f9",
   "metadata": {},
   "source": [
    "![alt text](pict13.png)"
   ]
  },
  {
   "cell_type": "markdown",
   "id": "2986326f",
   "metadata": {},
   "source": [
    "#### ・変数$x$は[上司の部下育成への熱心さ]、変数$Z$は[上司が研修を受講したかどうか]、変数$Y$は[部下のキャリア面談への満足度]である ."
   ]
  },
  {
   "cell_type": "markdown",
   "id": "699d8d8b",
   "metadata": {},
   "source": [
    "#### ・上司が研修を受講するかどうかは、その上司の自発性に任せ、任意参加の研修のするのではなく、人事部でランダムに研修にさせるかどうかを決定するとします ."
   ]
  },
  {
   "cell_type": "markdown",
   "id": "c7aa5150",
   "metadata": {},
   "source": [
    "#### すると、[上司が研修を受講したかどうか]は[上司の部下育成への熱心さ]とは無関係になり、因果の矢印が消える ."
   ]
  },
  {
   "cell_type": "markdown",
   "id": "fa693769",
   "metadata": {},
   "source": [
    "#### この変数$Z$(上司が研修を受講)の値をランダムに決める操作が「ランダム化比較試験(RCT)」となる .　RCTは一種の介入操作である ."
   ]
  },
  {
   "cell_type": "markdown",
   "id": "61c1ae24",
   "metadata": {},
   "source": [
    "### ・したがって、ランダム化比較実験においては、[上司の部下育成の熱心さ]を無視することができ、「上司が研修を受講した部下の面談の満足度の平均値」と「上司が研修を受講していない部下の面談の満足度の平均値」の差が、「上司向けキャリア面談のポイント研修」の効果と考えることができる ."
   ]
  },
  {
   "cell_type": "markdown",
   "id": "afe440e3",
   "metadata": {},
   "source": [
    "#### すなわちランダム化比較試験においては、平均処置効果ATEを数式で表すと、"
   ]
  },
  {
   "cell_type": "markdown",
   "id": "e705e8d9",
   "metadata": {},
   "source": [
    "$$\n",
    "ATE = E(Y_1 - Y_0) = E(Y_1) - E(Y_0)\n",
    "$$"
   ]
  },
  {
   "cell_type": "markdown",
   "id": "74c17be6",
   "metadata": {},
   "source": [
    "#### であり、これは"
   ]
  },
  {
   "cell_type": "markdown",
   "id": "d277ec1e",
   "metadata": {},
   "source": [
    "$$\n",
    "ATE = E(Y_1) - E(Y_0) = E(Y_1|Z = 1) - E(Y_0|Z = 0)\n",
    "$$ "
   ]
  },
  {
   "cell_type": "markdown",
   "id": "12a2aee8",
   "metadata": {},
   "source": [
    "#### という、反実仮想(潜在的結果変数)を含まない形で簡単に計算できる ."
   ]
  },
  {
   "cell_type": "markdown",
   "id": "6270650b",
   "metadata": {},
   "source": [
    "#### ・つまり、このATEが研修の因果効果となる ."
   ]
  },
  {
   "cell_type": "markdown",
   "id": "c7e2dd2e",
   "metadata": {},
   "source": [
    "#### ・このようにランダム化比較試験による介入は、調整化公式で考慮すべき変数であった共変量の存在を無視できる(集団の平均効果を考えた場合には) ."
   ]
  },
  {
   "cell_type": "markdown",
   "id": "9d50e6dd",
   "metadata": {},
   "source": [
    "#### ・卒業研究や修士研究で実験を実施する際には、被験者やサンプルをランダムに選んで処置群とコントロール群を作成し、実験結果の平均値の差を比較し、処置の効果を確認することが一般的である ."
   ]
  },
  {
   "cell_type": "markdown",
   "id": "d63d8282",
   "metadata": {},
   "source": [
    "#### ・このような一般的な実験方法はランダム化比較試験RCTであり、共変量となる変数から処置の結果変数への影響をキャンセルしていることになる ."
   ]
  },
  {
   "cell_type": "markdown",
   "id": "500e4540",
   "metadata": {},
   "source": [
    "#### ・なお、RCTでは処置を受けるかどうかが主体的ではなくランダムに決められているので、処置群における平均処置効果(ATT)や対照群における平均処置効果(ATU)は求められない ."
   ]
  },
  {
   "cell_type": "markdown",
   "id": "16186b5c",
   "metadata": {},
   "source": [
    "## 次回"
   ]
  },
  {
   "cell_type": "markdown",
   "id": "ac366e84",
   "metadata": {},
   "source": [
    "#### ・ランダム化比較実験RCT以外の方法で因果推論を実施する手法を解説、実装する ."
   ]
  }
 ],
 "metadata": {
  "language_info": {
   "name": "python"
  }
 },
 "nbformat": 4,
 "nbformat_minor": 5
}
