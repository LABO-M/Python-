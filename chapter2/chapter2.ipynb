{
 "cells": [
  {
   "cell_type": "markdown",
   "id": "16344592",
   "metadata": {},
   "source": [
    "# 第2章 因果関係の種類を把握する"
   ]
  },
  {
   "cell_type": "markdown",
   "id": "01624636",
   "metadata": {},
   "source": [
    "## 2-1 反実仮想と様々な因果効果(ATE・ATT・ATU・CATE)"
   ]
  }
 ],
 "metadata": {
  "language_info": {
   "name": "python"
  }
 },
 "nbformat": 4,
 "nbformat_minor": 5
}
