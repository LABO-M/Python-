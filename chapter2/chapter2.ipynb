{
 "cells": [
  {
   "cell_type": "markdown",
   "id": "16344592",
   "metadata": {},
   "source": [
    "# 第2章 因果関係の種類を把握する"
   ]
  },
  {
   "cell_type": "markdown",
   "id": "01624636",
   "metadata": {},
   "source": [
    "## 2-1 反実仮想と様々な因果効果(ITE・ATE・ATT・ATU・CATE)"
   ]
  },
  {
   "cell_type": "markdown",
   "id": "9032ebb3",
   "metadata": {},
   "source": [
    "## 反実仮想(counterfractual)\n",
    "#### ・「実際には○○したが、仮に○○しなかったとしたら・・・」と、実際の選択とは別の選択をしたケースを想定すること."
   ]
  },
  {
   "cell_type": "markdown",
   "id": "a00adaf3",
   "metadata": {},
   "source": [
    "#### ・第1章での人事研修を例に挙げると、「研修を受けた上司が仮に研修を受けていなかった場合の部下のキャリア面談の満足度」が反実仮想になる."
   ]
  },
  {
   "cell_type": "markdown",
   "id": "017070ed",
   "metadata": {},
   "source": [
    "## 潜在的結果変数"
   ]
  },
  {
   "cell_type": "markdown",
   "id": "a4f740fd",
   "metadata": {},
   "source": [
    "#### ・Y^i : 社員「iさん」の[キャリア面談の満足度] .\n",
    "#### ・Z^i = 1 : 「iさん」の上司が[上司向けキャリア面談のポイント研修を受講した場合] .\n",
    "#### ・Z^i = 0 : 「iさん」の上司が研修を受講しなかった場合.\n",
    "#### ・Y1^i : Z^i = 1 のときの Y^i .\n",
    "#### ・Y0^i : Z^i = 0 のときの Y^i ."
   ]
  },
  {
   "cell_type": "markdown",
   "id": "2c2b3408",
   "metadata": {},
   "source": [
    "### 重要なポイントは、\" Y1^iとY0^iは同時には存在し得ない\"という点である ."
   ]
  },
  {
   "cell_type": "markdown",
   "id": "7f154d75",
   "metadata": {},
   "source": [
    "#### ・このとき、実際に観測できた変数を結果変数、存在しなかったケースの変数を潜在的結果変数と呼ぶ . \n",
    "#### ・潜在的結果変数は反実仮想を示す."
   ]
  },
  {
   "cell_type": "markdown",
   "id": "24a76fb3",
   "metadata": {},
   "source": [
    "## 個体レベルの因果効果(ITE)"
   ]
  },
  {
   "cell_type": "markdown",
   "id": "2505b2e5",
   "metadata": {},
   "source": [
    "#### ・人事研修の例の場合、[上司が同研修を受けた部下のキャリア面談の満足度]と[上司が同研修を受けていなかった場合のキャリア面談の満足度]の差が個体レベルの因果効果 ."
   ]
  },
  {
   "cell_type": "markdown",
   "id": "617080a5",
   "metadata": {},
   "source": [
    "#### ・数式で表すと、Y1^i - Y0^i となり、この値を個体レベルの因果効果または個体レベルの処置効果と呼ぶ."
   ]
  },
  {
   "cell_type": "markdown",
   "id": "faa54002",
   "metadata": {},
   "source": [
    "#### ・英語ではITE : Individual Treatment Effect と呼ぶ ."
   ]
  },
  {
   "cell_type": "markdown",
   "id": "75ebe00f",
   "metadata": {},
   "source": [
    "## 集団レベルの因果効果(ATE)"
   ]
  },
  {
   "cell_type": "markdown",
   "id": "a1d51ac0",
   "metadata": {},
   "source": [
    "#### ・平均処置効果 : 集団での因果効果のこと . 英語でAverage Treatment Effect と呼ぶ ."
   ]
  },
  {
   "cell_type": "markdown",
   "id": "739c5342",
   "metadata": {},
   "source": [
    "#### ・数式で表すと、 ATE = E(Y1 - Y0) = E(Y1) - E(Y0) となる. ここで、E()は期待値を求める計算 ."
   ]
  },
  {
   "cell_type": "markdown",
   "id": "00613216",
   "metadata": {},
   "source": [
    "#### ・部下社員の合計がN人の場合のATEを求めると、以下のようになる ."
   ]
  },
  {
   "cell_type": "markdown",
   "id": "287f2aa0",
   "metadata": {},
   "source": [
    "![alt text](pict1.png)"
   ]
  },
  {
   "cell_type": "markdown",
   "id": "0b45b611",
   "metadata": {},
   "source": [
    "### 因果推論を実施する際や因果の大きさ・処置の効果を求める際にATEの大きさを求める ."
   ]
  },
  {
   "cell_type": "markdown",
   "id": "66883d91",
   "metadata": {},
   "source": [
    "## 処置群における平均処置効果(ATT)"
   ]
  },
  {
   "cell_type": "markdown",
   "id": "38aa3f13",
   "metadata": {},
   "source": [
    "#### ・処置群における平均処置効果 : 実際に処置を受けた集団での平均処置効果のこと ."
   ]
  },
  {
   "cell_type": "markdown",
   "id": "82095221",
   "metadata": {},
   "source": [
    "#### ・英語でAverage Treatment effect on the Treated と呼ぶ ."
   ]
  },
  {
   "cell_type": "markdown",
   "id": "3c78008f",
   "metadata": {},
   "source": [
    "#### ・人事研修の場合、[上司が同研修を受けた部下のキャリア面談の満足度]と[上司が同研修を受けた部下において、その上司が仮に同研修を受けていなかった場合のキャリア面談の満足度]との差を指す."
   ]
  },
  {
   "cell_type": "markdown",
   "id": "7930d215",
   "metadata": {},
   "source": [
    "#### ・数式で表すと、ATT = E(Y1 - Y0|Z = 1) となる .　 上司が研修を受講した部下の人たちの Y1^i - Y0^i の平均を示す ."
   ]
  },
  {
   "cell_type": "markdown",
   "id": "ff5f44cd",
   "metadata": {},
   "source": [
    "## 対照群における平均処置効果(ATU)"
   ]
  },
  {
   "cell_type": "markdown",
   "id": "c9e7642f",
   "metadata": {},
   "source": [
    "#### ・実際には処置を実施しなかった集団での平均処置効果のこと ."
   ]
  },
  {
   "cell_type": "markdown",
   "id": "a5fb938e",
   "metadata": {},
   "source": [
    "#### ・英語でAverage Treatment effect on the Untreated と呼ぶ ."
   ]
  },
  {
   "cell_type": "markdown",
   "id": "47cb6e7e",
   "metadata": {},
   "source": [
    "#### ・数式で表すと、ATU = E(Y1 - Y0|Z = 0) となる ."
   ]
  },
  {
   "cell_type": "markdown",
   "id": "3ee802f6",
   "metadata": {},
   "source": [
    "#### ・ATUは、実際に上司は研修を受講しなかったけど、受講していれば、どのくらい部下の[キャリア面談の満足度]が上昇しただろうか？ を示す ."
   ]
  },
  {
   "cell_type": "markdown",
   "id": "490162fb",
   "metadata": {},
   "source": [
    "## ATTとATUについて"
   ]
  },
  {
   "cell_type": "markdown",
   "id": "458a4383",
   "metadata": {},
   "source": [
    "#### ・どちらも反実仮想を考える必要があり、観測できなかった選択結果である潜在的結果変数を含んでいる ."
   ]
  },
  {
   "cell_type": "markdown",
   "id": "649908bb",
   "metadata": {},
   "source": [
    "### ATTはプラスだがATUは0という場合などがある ."
   ]
  },
  {
   "cell_type": "markdown",
   "id": "bd971f67",
   "metadata": {},
   "source": [
    "#### ・ATTがプラス : 自ら受講を希望する上司に研修を提供する場合、部下のキャリア面談の満足度は上がる ."
   ]
  },
  {
   "cell_type": "markdown",
   "id": "d5d5db64",
   "metadata": {},
   "source": [
    "#### ・ATUが0 : 自ら受講を希望しない上司に無理やり受講させても、部下のキャリア面談の満足度は変化しない ."
   ]
  },
  {
   "cell_type": "markdown",
   "id": "d0a8b25b",
   "metadata": {},
   "source": [
    "#### ・E(Y1|Z = 1) - E(Y0|Z = 0) : 単純に処置を受けた人と受けていない人の平均値の差 . ⇒ 多くの場合、間違っている ."
   ]
  },
  {
   "cell_type": "markdown",
   "id": "5f59a4b6",
   "metadata": {},
   "source": [
    "#### ・ATE と「E(Y1|Z = 1) - E(Y0|Z = 0)」との差の量を「セレクション・バイアス」と呼ぶ .\n",
    "#### ・セレクション・バイアスが生じるケースでは、単純に平均値の差を求めるのは良くないと言える ."
   ]
  },
  {
   "cell_type": "markdown",
   "id": "3ffbb649",
   "metadata": {},
   "source": [
    "## 条件付き処置効果(CATE)"
   ]
  },
  {
   "cell_type": "markdown",
   "id": "4ef3b372",
   "metadata": {},
   "source": [
    "#### ・とある特定の条件のもとでの処置効果のこと ."
   ]
  },
  {
   "cell_type": "markdown",
   "id": "3c3f58f0",
   "metadata": {},
   "source": [
    "#### ・英語でConditional Average Treatment Effect と呼ぶ ."
   ]
  },
  {
   "cell_type": "markdown",
   "id": "7e8621fc",
   "metadata": {},
   "source": [
    "#### ・数式で表すと、CATE(x) = E(Y1 - Y0|x)となる ."
   ]
  },
  {
   "cell_type": "markdown",
   "id": "6efe52b2",
   "metadata": {},
   "source": [
    "#### ・テレビCM効果の例で、変数xを性別とし、0を女性、1を男性とする . このとき、女性に対するテレビCM効果は、\n",
    "####  CATE(x = 0) = E(Y1 - Y0|x = 0) ."
   ]
  },
  {
   "cell_type": "markdown",
   "id": "1fcfe2a6",
   "metadata": {},
   "source": [
    "## 2-2 介入(doオペレータ)"
   ]
  },
  {
   "cell_type": "markdown",
   "id": "988ce260",
   "metadata": {},
   "source": [
    "#### ・因果推論したい現象のうち、とある変数の値を変化させる操作 ."
   ]
  },
  {
   "cell_type": "markdown",
   "id": "82924ae4",
   "metadata": {},
   "source": [
    "#### ・前節で「上司向け : キャリア面談のポイント研修」を受けていない場合、変数Z = 0とした .\n",
    "#### ・このとき変数Zに介入するとは、変数Zの値を0から1へと変化させることを意味する .\n",
    "####  ⇒ \"仮に研修を受けさせた場合\"という反実仮想を考えることにつながる ."
   ]
  },
  {
   "cell_type": "markdown",
   "id": "cd994982",
   "metadata": {},
   "source": [
    "#### ・この介入は数式で、do(Z = 1)と記載する . 数式上のdo()を介入操作、doオペレータ(もしくはdo演算子)と呼ぶ ."
   ]
  },
  {
   "cell_type": "markdown",
   "id": "865cf08b",
   "metadata": {},
   "source": [
    "### 注意点として、ATT = E(Y1 - Y0|Z = 1) と 介入により研修を受講させた状態、すなわち E(Y1 - Y0|do(Z = 1))は異なる ."
   ]
  },
  {
   "cell_type": "markdown",
   "id": "48a91755",
   "metadata": {},
   "source": [
    "### E(　| Z = 1 )は、データのうちZ = 1であった人たちを対象に計算するという、\"抽象的な操作\"である ."
   ]
  },
  {
   "cell_type": "markdown",
   "id": "740a8adc",
   "metadata": {},
   "source": [
    "### E(　| do(Z=1) )は、集団全員(ここでは部下社員全員)を対象に、[全社員の上司が研修を受講した]という\"仮の状況を無理やりに与える操作\"である ."
   ]
  },
  {
   "cell_type": "markdown",
   "id": "5967d333",
   "metadata": {},
   "source": [
    "### なお、平均処置効果 ATE = E(Y1 - Y0) = E(Y1) - E(Y0)と介入は同じになる .　ATEには条件付き確率が出てこないため、介入した場合でも同じであり、\n",
    "### ATE = E(Y1) - E(Y0) = E(Y1|do(Z=1)) - E(Y0|do(Z=0)) となる ."
   ]
  },
  {
   "cell_type": "markdown",
   "id": "8ab09c50",
   "metadata": {},
   "source": [
    "## 介入による因果の矢印の変化"
   ]
  },
  {
   "cell_type": "markdown",
   "id": "b0e57e0b",
   "metadata": {},
   "source": [
    "### 重要なポイントは図2.2.1の右側では矢印①が消えている点である .\n",
    "### なぜなら、[上司の部下育成の熱心さ]とは関係なく、[上司が研修を受講]の値Zが1に操作されるため、部下育成の熱心さと研修受講の間に因果関係はなくなるため、矢印が消える ."
   ]
  },
  {
   "cell_type": "markdown",
   "id": "08889b9d",
   "metadata": {},
   "source": [
    "![alt text](pict2.png)"
   ]
  },
  {
   "cell_type": "markdown",
   "id": "4a85bd04",
   "metadata": {},
   "source": [
    "## 2-3 本書で使用する数学記法の整理"
   ]
  },
  {
   "cell_type": "markdown",
   "id": "d996916a",
   "metadata": {},
   "source": [
    "## 変数とデータの表現"
   ]
  },
  {
   "cell_type": "markdown",
   "id": "0b0c34d7",
   "metadata": {},
   "source": [
    "#### ・年齢を変数X1、性別を変数X2として表した場合に、とある「iさん」の年齢と性別は、X1^i、X2^iと表す .\n",
    "#### ・この2つの変数を合わせて「iさんのデータ」としてベクトルでまとめた際には、X^i = (X1^i,X2^i)と表す ."
   ]
  },
  {
   "cell_type": "markdown",
   "id": "343e996d",
   "metadata": {},
   "source": [
    "## 事象の定義"
   ]
  },
  {
   "cell_type": "markdown",
   "id": "7d2e497e",
   "metadata": {},
   "source": [
    "#### ・「人事研修を受講する」、「テレビCMを見る」などを事象と呼び、変数に値を与えることを表す ."
   ]
  },
  {
   "cell_type": "markdown",
   "id": "700b082c",
   "metadata": {},
   "source": [
    "## 確率の表現"
   ]
  },
  {
   "cell_type": "markdown",
   "id": "0d3323ee",
   "metadata": {},
   "source": [
    "#### ・変数Xが値xをとる確率をP(X = x)もしくはP(x)と記載する .\n",
    "#### ・ここで、母集団とは標本(手元のデータ)の基となっている理想的集団を表す ."
   ]
  },
  {
   "cell_type": "markdown",
   "id": "062575eb",
   "metadata": {},
   "source": [
    "## 同時確率"
   ]
  },
  {
   "cell_type": "markdown",
   "id": "efd7d33b",
   "metadata": {},
   "source": [
    "#### ・年齢を変数X1、性別を変数X2として表した場合に、年齢変数X1が値x1を、性別変数X2が値x2となる確率をP(X1 = x1 , X2 = x2)もしくはP(x1,x2)と記載 ."
   ]
  },
  {
   "cell_type": "markdown",
   "id": "3f1e0b4c",
   "metadata": {},
   "source": [
    "## 条件付き確率"
   ]
  },
  {
   "cell_type": "markdown",
   "id": "1455597b",
   "metadata": {},
   "source": [
    "#### ・変数X1の値がx1であるときに、変数X2が値x2をとる確率を条件付き確率と呼び、P(X2 = x2|X1 = x1)もしくはP(x2|x1)と表す ."
   ]
  },
  {
   "cell_type": "markdown",
   "id": "0f296f3f",
   "metadata": {},
   "source": [
    "## 同時確率と条件付き確率の変換"
   ]
  },
  {
   "cell_type": "markdown",
   "id": "53079e20",
   "metadata": {},
   "source": [
    "#### ・同時確率P(X2 = x2 , X1 = x1)は条件付き確率P(X2 = x2|X1 = x1)を使用して、P(X2 = x2 , X1 = x1) = P(X2 = x2|X1 = x1)P(X1 = x1) となる ."
   ]
  },
  {
   "cell_type": "markdown",
   "id": "13c404c8",
   "metadata": {},
   "source": [
    "## 独立性"
   ]
  },
  {
   "cell_type": "markdown",
   "id": "db16bb98",
   "metadata": {},
   "source": [
    "#### ・ある事象が起こる確率が、別のとある事象による影響を受けない場合、両者は独立であると呼ぶ ."
   ]
  },
  {
   "cell_type": "markdown",
   "id": "902dc922",
   "metadata": {},
   "source": [
    "#### ・変数Xと変数Yで表される事象X=xと事象Y=yが独立な場合、P(X|Y)=P(X)が成り立つ .　逆もすなわちで、P(Y|X)=P(Y)が成り立つ ."
   ]
  },
  {
   "cell_type": "markdown",
   "id": "bdf4d2ba",
   "metadata": {},
   "source": [
    "## 条件付き独立"
   ]
  },
  {
   "cell_type": "markdown",
   "id": "527fb7f0",
   "metadata": {},
   "source": [
    "#### ・年齢を変数X1、性別を変数X2として表した場合に一般的に女性の方が男性より寿命は長いので、年齢と性別は独立ではない .\n",
    "#### ・数式で表すと、P(X2 = x2|X1 = x1) ≠ P(X2 = x2)となる ."
   ]
  },
  {
   "cell_type": "markdown",
   "id": "1659526d",
   "metadata": {},
   "source": [
    "#### ・ここで、新たにC = \"その人は中学生\"という事象を与える .　このとき、P(X2|X1,C)は、中学生と年齢に関する同時確率の事象のもとでの、性別の条件付き確率 ."
   ]
  },
  {
   "cell_type": "markdown",
   "id": "8f6d41ae",
   "metadata": {},
   "source": [
    "#### ・中学生の男女比はおおまかに1 : 1なので、年齢がX1がおおよそ13歳〜15歳の何歳か分かっても、性別X2の値はまったく分からず、情報がない .\n",
    "####  そのため、年齢と性別は独立となり、数式で書くとP(X2|X1,C) = P(X2|C)となる ."
   ]
  },
  {
   "cell_type": "markdown",
   "id": "906b4074",
   "metadata": {},
   "source": [
    "#### ・このような場合に、\"2つの事象X2とX1は第3の事象Cの下で条件付き独立である\"と呼ぶ ."
   ]
  },
  {
   "cell_type": "markdown",
   "id": "8017dfa0",
   "metadata": {},
   "source": [
    "## 2-4 調整化公式について"
   ]
  },
  {
   "cell_type": "markdown",
   "id": "bbda1306",
   "metadata": {},
   "source": [
    "## 介入操作による因果の矢印の変化(再掲)"
   ]
  },
  {
   "cell_type": "markdown",
   "id": "e133f967",
   "metadata": {},
   "source": [
    "![alt text](pict3.png)"
   ]
  },
  {
   "cell_type": "markdown",
   "id": "84ad4884",
   "metadata": {},
   "source": [
    "#### ・疑似相関が生まれる構造では、直接的な因果の矢印が存在しない変数の間にも間接的に因果が生まれている ."
   ]
  },
  {
   "cell_type": "markdown",
   "id": "939e88b6",
   "metadata": {},
   "source": [
    "### ⇒ このような間接的な因果関係が生じ、疑似相関が発生する構造では、うまく変数間の因果効果を推論することができない ."
   ]
  },
  {
   "cell_type": "markdown",
   "id": "f5292098",
   "metadata": {},
   "source": [
    "### 図2.4.1から、介入操作を行えば、疑似相関の原因となる因果の矢印を消すことができるという点が重要なポイント ."
   ]
  },
  {
   "cell_type": "markdown",
   "id": "ea342b80",
   "metadata": {},
   "source": [
    "## 調整化公式"
   ]
  },
  {
   "cell_type": "markdown",
   "id": "c4ca9c20",
   "metadata": {},
   "source": [
    "#### ・左の構造での確率値をP()とし、右側の介入により変化した構造(modifiedされた構造)での確率値をPm()と記載する ."
   ]
  },
  {
   "cell_type": "markdown",
   "id": "bc385df4",
   "metadata": {},
   "source": [
    "![alt text](pict4.png)"
   ]
  },
  {
   "cell_type": "markdown",
   "id": "361ed8ff",
   "metadata": {},
   "source": [
    "#### ・はじめに、次の関係が成り立つ ."
   ]
  },
  {
   "cell_type": "markdown",
   "id": "164ad943",
   "metadata": {},
   "source": [
    "### P(Y=y|do(Z=z)) = Pm(Y=y|Z=z)"
   ]
  },
  {
   "cell_type": "markdown",
   "id": "16f5a1d5",
   "metadata": {},
   "source": [
    "#### ・この数式は、図2.4.2で介入により左側から右側への構造の変化を表す ."
   ]
  },
  {
   "cell_type": "markdown",
   "id": "7b8c9f1e",
   "metadata": {},
   "source": [
    "#### ・左辺は、左側の図においてdoオペレータで変数Zの値がzになるように介入したときに、変数Yが値yとなる確率を示している ."
   ]
  },
  {
   "cell_type": "markdown",
   "id": "7e335db7",
   "metadata": {},
   "source": [
    "#### ・例えば、変数Zは[「上司向け : キャリア面談のポイント研修」を受講したかどうか]で、値zは0か1.　変数Yは[部下のキャリア面談の満足度]で値yはその満足度の値 ."
   ]
  },
  {
   "cell_type": "markdown",
   "id": "412c45dc",
   "metadata": {},
   "source": [
    "#### ・右辺は、変数Zが値zのときに、変数Yが値yとなる確率を示している .　右側では介入doオペレータで変数Zの値がzになっているため、このような等式が成り立つ ."
   ]
  },
  {
   "cell_type": "markdown",
   "id": "ee2c7cf3",
   "metadata": {},
   "source": [
    "#### ・次に、条件付き確率の公式である、P(y|z) = Σx P(y|z,x)p(x|z)という関係性を利用して式変形する .　この公式より、"
   ]
  },
  {
   "cell_type": "markdown",
   "id": "dc0d99e3",
   "metadata": {},
   "source": [
    "### Pm(Y=y|Z=z) = Σx Pm(Y=y|Z=z,X=x)Pm(X=x|Z=z)"
   ]
  },
  {
   "cell_type": "markdown",
   "id": "0836cee8",
   "metadata": {},
   "source": [
    "#### と表現できる ."
   ]
  },
  {
   "cell_type": "markdown",
   "id": "2070c7bb",
   "metadata": {},
   "source": [
    "#### ・ここで、この数式はmodifiedされた構造を考えているので、変数Xと変数Zの間に因果関係がなくなり、変数Xと変数Zは独立となるので、"
   ]
  },
  {
   "cell_type": "markdown",
   "id": "cc7934bd",
   "metadata": {},
   "source": [
    "### Pm(X=x|Z=z) = Pm(X=x)"
   ]
  },
  {
   "cell_type": "markdown",
   "id": "00f423da",
   "metadata": {},
   "source": [
    "#### となる.　よって、最初の数式の右辺は、"
   ]
  },
  {
   "cell_type": "markdown",
   "id": "c3e91e36",
   "metadata": {},
   "source": [
    "### Pm(Y=y|Z=z) = Σx Pm(Y=y|Z=z,X=x)Pm(X=x)"
   ]
  },
  {
   "cell_type": "markdown",
   "id": "bb242ea5",
   "metadata": {},
   "source": [
    "#### となるので、右辺を書き直すと最初の数式は、"
   ]
  },
  {
   "cell_type": "markdown",
   "id": "941df69e",
   "metadata": {},
   "source": [
    "### P(Y=y|do(Z=z)) = Σx Pm(Y=y|Z=z,X=x)Pm(X=x)"
   ]
  },
  {
   "cell_type": "markdown",
   "id": "b03c1ec4",
   "metadata": {},
   "source": [
    "#### と変形できる ."
   ]
  },
  {
   "cell_type": "markdown",
   "id": "cb9a2402",
   "metadata": {},
   "source": [
    "#### ・ここで、変数Xは両方の図から、他からの因果の矢印がない変数であるので、Pm(X=x) = P(X=x) となる ."
   ]
  },
  {
   "cell_type": "markdown",
   "id": "35f4601f",
   "metadata": {},
   "source": [
    "#### ・Pm(Y=y|Z=z,X=x)は、変数Zと変数Xの両方の値を事前に決めた確率より、P(Y=y|Z=z,X=x)として考えたとしても、交絡による擬似相関は生まれない ."
   ]
  },
  {
   "cell_type": "markdown",
   "id": "c92d785e",
   "metadata": {},
   "source": [
    "#### ・言い換えると、変数Zと変数Xの値が決まっているので、変数Yの値を決めるのは変数Yに独自に入るノイズのみで、左側も右側も変数Yの値は同じになるといえる .　よって数式で表すと、"
   ]
  },
  {
   "cell_type": "markdown",
   "id": "5ed94fe1",
   "metadata": {},
   "source": [
    "### Pm(Y=y|Z=z,X=x) = P(Y=y|Z=z,X=x)"
   ]
  },
  {
   "cell_type": "markdown",
   "id": "863400a7",
   "metadata": {},
   "source": [
    "#### となる .　すると、"
   ]
  },
  {
   "cell_type": "markdown",
   "id": "e9ad5fc8",
   "metadata": {},
   "source": [
    "### Σx Pm(Y=y|Z=z,X=x)Pm(X=x) = Σx P(Y=y|Z=z,X=x)P(X=x)"
   ]
  },
  {
   "cell_type": "markdown",
   "id": "55eca304",
   "metadata": {},
   "source": [
    "#### となる .　この表現で最初の式の右辺を記述すると、"
   ]
  },
  {
   "cell_type": "markdown",
   "id": "90b2e4c2",
   "metadata": {},
   "source": [
    "## P(Y=y|do(Z=z)) = Σx P(Y=y|Z=z,X=x)P(X=x)"
   ]
  },
  {
   "cell_type": "markdown",
   "id": "d3dddfd0",
   "metadata": {},
   "source": [
    "#### となり、この式が調整化公式である ."
   ]
  },
  {
   "cell_type": "markdown",
   "id": "975f44e0",
   "metadata": {},
   "source": [
    "### この調整化公式により、介入操作による数式表現（上式の左辺）が通常の確率の式で表される .　右辺を計算すれば、変数Zを値zに介入したときの変数Yが値yとなる確率が求められる ."
   ]
  },
  {
   "cell_type": "markdown",
   "id": "e49b3249",
   "metadata": {},
   "source": [
    "#### ・例えば、平均処置効果ATEは、"
   ]
  },
  {
   "cell_type": "markdown",
   "id": "87341af9",
   "metadata": {},
   "source": [
    "### ATE = E(Y1) - E(Y0) = E(Y1|do(Z=1)) - E(Y0|do(Z=0))"
   ]
  },
  {
   "cell_type": "markdown",
   "id": "f0aab030",
   "metadata": {},
   "source": [
    "#### から、"
   ]
  },
  {
   "cell_type": "markdown",
   "id": "cc618b2b",
   "metadata": {},
   "source": [
    "### ATE = Σx E(Y1|X=x,Z=1)P(X=x) - Σx E(Y0|X=x,Z=0)P(X=x)"
   ]
  },
  {
   "cell_type": "markdown",
   "id": "c0a7d708",
   "metadata": {},
   "source": [
    "#### となる .　(条件付き確率を条件付き期待値に置き換える操作が妥当なケースは、確率分布が期待値で表現できる場合に限る . )"
   ]
  },
  {
   "cell_type": "markdown",
   "id": "3746e94b",
   "metadata": {},
   "source": [
    "## まとめ(2-4)"
   ]
  },
  {
   "cell_type": "markdown",
   "id": "bd335706",
   "metadata": {},
   "source": [
    "### ・介入操作doオペレータによって因果の矢印が消え、その結果、疑似相関が生まれる構造を回避できる ."
   ]
  },
  {
   "cell_type": "markdown",
   "id": "51b7ff24",
   "metadata": {},
   "source": [
    "### ・介入操作doオペレータによって変化した構造は、調整化公式を利用することで、元の構造かつdoオペレータを使用しない数式で表現できる ."
   ]
  },
  {
   "cell_type": "markdown",
   "id": "b7b180f2",
   "metadata": {},
   "source": [
    "## 次回"
   ]
  },
  {
   "cell_type": "markdown",
   "id": "bd132152",
   "metadata": {},
   "source": [
    "#### ・変数が多くて因果の矢印が複雑な場合において、調整化公式の変数Xに使用するべき変数をどのように決めるかの方法について、第3章で詳しく学ぶ ."
   ]
  }
 ],
 "metadata": {
  "language_info": {
   "name": "python"
  }
 },
 "nbformat": 4,
 "nbformat_minor": 5
}
