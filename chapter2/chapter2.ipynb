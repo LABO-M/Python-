{
 "cells": [
  {
   "cell_type": "markdown",
   "id": "16344592",
   "metadata": {},
   "source": [
    "# 第2章 因果関係の種類を把握する"
   ]
  },
  {
   "cell_type": "markdown",
   "id": "01624636",
   "metadata": {},
   "source": [
    "## 2-1 反実仮想と様々な因果効果(ITE・ATE・ATT・ATU・CATE)"
   ]
  },
  {
   "cell_type": "markdown",
   "id": "9032ebb3",
   "metadata": {},
   "source": [
    "## 反実仮想(counterfractual)\n",
    "#### ・「実際には○○したが、仮に○○しなかったとしたら・・・」と、実際の選択とは別の選択をしたケースを想定すること."
   ]
  },
  {
   "cell_type": "markdown",
   "id": "a00adaf3",
   "metadata": {},
   "source": [
    "#### ・第1章での人事研修を例に挙げると、「研修を受けた上司が仮に研修を受けていなかった場合の部下のキャリア面談の満足度」が反実仮想になる."
   ]
  },
  {
   "cell_type": "markdown",
   "id": "017070ed",
   "metadata": {},
   "source": [
    "## 潜在的結果変数"
   ]
  },
  {
   "cell_type": "markdown",
   "id": "a4f740fd",
   "metadata": {},
   "source": [
    "#### ・Y^i : 社員「iさん」の[キャリア面談の満足度] .\n",
    "#### ・Z^i = 1 : 「iさん」の上司が[上司向けキャリア面談のポイント研修を受講した場合] .\n",
    "#### ・Z^i = 0 : 「iさん」の上司が研修を受講しなかった場合.\n",
    "#### ・Y1^i : Z^i = 1 のときの Y^i .\n",
    "#### ・Y0^i : Z^i = 0 のときの Y^i ."
   ]
  },
  {
   "cell_type": "markdown",
   "id": "2c2b3408",
   "metadata": {},
   "source": [
    "### 重要なポイントは、\" Y1^iとY0^iは同時には存在し得ない\"という点である ."
   ]
  },
  {
   "cell_type": "markdown",
   "id": "7f154d75",
   "metadata": {},
   "source": [
    "#### このとき、実際に観測できた変数を結果変数、存在しなかったケースの変数を潜在的結果変数と呼ぶ . \n",
    "#### 潜在的結果変数は反実仮想を示す."
   ]
  },
  {
   "cell_type": "markdown",
   "id": "24a76fb3",
   "metadata": {},
   "source": [
    "## 個体レベルの因果効果(ITE)"
   ]
  },
  {
   "cell_type": "markdown",
   "id": "2505b2e5",
   "metadata": {},
   "source": [
    "#### 人事研修の例の場合、[上司が同研修を受けた部下のキャリア面談の満足度]と[上司が同研修を受けていなかった場合のキャリア面談の満足度]の差が個体レベルの因果効果 .\n",
    "#### 数式で表すと、Y1^i - Y0^i となり、この値を個体レベルの因果効果または個体レベルの処置効果と呼ぶ.\n",
    "#### 英語ではITE : Individual Treatment Effect と呼ぶ ."
   ]
  },
  {
   "cell_type": "markdown",
   "id": "75ebe00f",
   "metadata": {},
   "source": [
    "## 集団レベルの因果効果(ATE)"
   ]
  },
  {
   "cell_type": "markdown",
   "id": "a1d51ac0",
   "metadata": {},
   "source": [
    "#### 平均処置効果 : 集団での因果効果のこと . 英語でAverage Treatment Effect と呼ぶ ."
   ]
  },
  {
   "cell_type": "markdown",
   "id": "739c5342",
   "metadata": {},
   "source": []
  },
  {
   "cell_type": "markdown",
   "id": "00613216",
   "metadata": {},
   "source": []
  },
  {
   "cell_type": "markdown",
   "id": "287f2aa0",
   "metadata": {},
   "source": []
  },
  {
   "cell_type": "markdown",
   "id": "0b45b611",
   "metadata": {},
   "source": []
  },
  {
   "cell_type": "markdown",
   "id": "66883d91",
   "metadata": {},
   "source": []
  },
  {
   "cell_type": "markdown",
   "id": "38aa3f13",
   "metadata": {},
   "source": []
  },
  {
   "cell_type": "markdown",
   "id": "82095221",
   "metadata": {},
   "source": []
  },
  {
   "cell_type": "markdown",
   "id": "3c78008f",
   "metadata": {},
   "source": []
  },
  {
   "cell_type": "markdown",
   "id": "7930d215",
   "metadata": {},
   "source": []
  },
  {
   "cell_type": "markdown",
   "id": "ff5f44cd",
   "metadata": {},
   "source": []
  },
  {
   "cell_type": "markdown",
   "id": "3ffbb649",
   "metadata": {},
   "source": []
  },
  {
   "cell_type": "markdown",
   "id": "4ef3b372",
   "metadata": {},
   "source": []
  },
  {
   "cell_type": "markdown",
   "id": "3c3f58f0",
   "metadata": {},
   "source": []
  },
  {
   "cell_type": "markdown",
   "id": "7e8621fc",
   "metadata": {},
   "source": []
  },
  {
   "cell_type": "markdown",
   "id": "6efe52b2",
   "metadata": {},
   "source": []
  },
  {
   "cell_type": "markdown",
   "id": "1fcfe2a6",
   "metadata": {},
   "source": []
  }
 ],
 "metadata": {
  "language_info": {
   "name": "python"
  }
 },
 "nbformat": 4,
 "nbformat_minor": 5
}
